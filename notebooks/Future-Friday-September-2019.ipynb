{
 "cells": [
  {
   "cell_type": "markdown",
   "metadata": {},
   "source": [
    "# Measure the impact of coaching - using methods from data science\n",
    "\n",
    "This notebook uses [Chi2Fit](https://hex.pm/packages/chi2fit) for the analysis and is a companion to the presentation on [Future Friday September 2019](https://www.slideshare.net/PieterRijken/future-friday-201909)."
   ]
  },
  {
   "cell_type": "markdown",
   "metadata": {},
   "source": [
    "## Table of contents\n",
    "\n",
    "* [Set-up](#Set-up)\n",
    "* [Emails: data and simulation set-up](#Emails:-data-and-simulation-set-up)\n",
    "    * [Poisson distribution](#Poisson-distribution)\n",
    "    * [August](#August)\n",
    "    * [Change in delivery rate](#Change-in-delivery-rate)\n",
    "* [Team Mars](#Team-Mars)\n",
    "* [Team Jupiter](#Team-Jupiter)\n",
    "    * [Analysis](#Analysis)\n",
    "    * [Split of data in multiple time periods](#Split-of-data-in-multiple-time-periods)"
   ]
  },
  {
   "cell_type": "markdown",
   "metadata": {},
   "source": [
    "## Set-up"
   ]
  },
  {
   "cell_type": "code",
   "execution_count": 129,
   "metadata": {
    "scrolled": true
   },
   "outputs": [
    {
     "data": {
      "text/plain": [
       "Chi2fit.Distribution"
      ]
     },
     "execution_count": 129,
     "metadata": {},
     "output_type": "execute_result"
    }
   ],
   "source": [
    "alias Chi2fit.Distribution, as: D\n",
    "alias Chi2fit.Fit, as: F\n",
    "alias Chi2fit.Matrix, as: M\n",
    "alias Chi2fit.Utilities, as: U\n",
    "alias Gnuplotlib, as: P\n",
    "alias Exboost.Math\n",
    "\n",
    "import Chi2fit.Distribution"
   ]
  },
  {
   "cell_type": "markdown",
   "metadata": {},
   "source": [
    "## Emails: data and simulation set-up"
   ]
  },
  {
   "cell_type": "markdown",
   "metadata": {},
   "source": [
    "As an example consider the throughput of completed backlog items. At the end of a fixed time period we count the number of backlog items that a team completes. Partially completed items are excluded from the count.\n",
    "\n",
    "The numbers corresponding to the most recent times are at the head of the list."
   ]
  },
  {
   "cell_type": "code",
   "execution_count": 130,
   "metadata": {
    "scrolled": true
   },
   "outputs": [
    {
     "data": {
      "text/plain": [
       "[6, 3, 1, 0, 8, 10, 5, 6, 5, 7, 10, 4, 3, 8, 9, 8, 5, 2, 1, 6, 5, 4, 4, 5, 7, 6, 4, 2, 4, 5]"
      ]
     },
     "execution_count": 130,
     "metadata": {},
     "output_type": "execute_result"
    }
   ],
   "source": [
    "data_janjul = [6,3,1,0,8,10,5,6,5,7,10,4,3,8,9,8,5,2,1,6,5,4,4,5,7,6,4,2,4,5]"
   ]
  },
  {
   "cell_type": "markdown",
   "metadata": {},
   "source": [
    "A visualization of the data using a histogram or frequency chart is shown below. The horizontal axis indicates the number of completed items in an iteration. The vertical axis shows how often a certain throughput occured."
   ]
  },
  {
   "cell_type": "code",
   "execution_count": 131,
   "metadata": {
    "scrolled": false
   },
   "outputs": [
    {
     "data": {
      "image/png": "[encoded data removed]"
     },
     "metadata": {},
     "output_type": "display_data"
    }
   ],
   "source": [
    "P.histogram(data_janjul,\n",
    "    plottitle: \"Received emails Jan-Jul 2019\",\n",
    "    xlabel: \"Emails (number per week)\",\n",
    "    ylabel: \"Count\",\n",
    "    xrange: '[0:15]',\n",
    "    yrange: '[0:7]')\n",
    ":\"this is an inline image\""
   ]
  },
  {
   "cell_type": "markdown",
   "metadata": {},
   "source": [
    "#### Preparation"
   ]
  },
  {
   "cell_type": "code",
   "execution_count": 132,
   "metadata": {},
   "outputs": [
    {
     "data": {
      "text/plain": [
       "[{1, 10}]"
      ]
     },
     "execution_count": 132,
     "metadata": {},
     "output_type": "execute_result"
    }
   ],
   "source": [
    "# The size of bins for grouping the data\n",
    "binsize = 1\n",
    "\n",
    "# Number of probes to use in the chi2 fit\n",
    "probes = 10_000\n",
    "\n",
    "# The range of the parameter to look for a (global) minimum\n",
    "# Initially, search for consistent delivery rates between 1 and 10 emails per week\n",
    "initial = [{1,10}]"
   ]
  },
  {
   "cell_type": "markdown",
   "metadata": {},
   "source": [
    "Convert the raw data to bins. In this case we use an offset of 0.5."
   ]
  },
  {
   "cell_type": "code",
   "execution_count": 133,
   "metadata": {},
   "outputs": [
    {
     "data": {
      "text/plain": [
       "[{0.5, 0.03333333333333333, 0.004477396381153091, 0.10626509388885415}, {1.5, 0.1, 0.04534643422121238, 0.18800072939009144}, {2.5, 0.16666666666666666, 0.09617216374778598, 0.26379151079819174}, {3.5, 0.23333333333333334, 0.1512514647701126, 0.3362529009260698}, {4.5, 0.4, 0.29969190295754594, 0.5079422422219574}, {5.5, 0.6, 0.49205775777804256, 0.7003080970424541}, {6.5, 0.7333333333333333, 0.6284430129160924, 0.8201238686680054}, {7.5, 0.8, 0.6996385615443061, 0.8766947366046434}, {8.5, 0.9, 0.8119992706099086, 0.9546535657787876}, {9.5, 0.9333333333333333, 0.8517980471244383, 0.9772328358243381}, {10.5, 1.0, 0.9399612673488951, 1.0}]"
      ]
     },
     "execution_count": 133,
     "metadata": {},
     "output_type": "execute_result"
    }
   ],
   "source": [
    "hdata = U.to_bins data_janjul, {binsize,0.5}"
   ]
  },
  {
   "cell_type": "markdown",
   "metadata": {},
   "source": [
    "#### Poisson distribution"
   ]
  },
  {
   "cell_type": "code",
   "execution_count": 134,
   "metadata": {},
   "outputs": [
    {
     "name": "stdout",
     "output_type": "stream",
     "text": [
      "Initial guess:\n",
      "    chi2:\t\t3.482784871775032\n",
      "    pars:\t\t[5.033261262138547]\n",
      "    ranges:\t\t{[4.847227027217618, 5.235015346150119]}\n",
      "\n"
     ]
    },
    {
     "data": {
      "text/plain": [
       ":ok"
      ]
     },
     "execution_count": 134,
     "metadata": {},
     "output_type": "execute_result"
    }
   ],
   "source": [
    "model = D.model \"poisson\"\n",
    "options = [probes: probes, smoothing: false, model: :linear, saved?: true]\n",
    "result = {_,parameters,_,saved} = F.chi2probe hdata, initial, {Distribution.cdf(model), &F.nopenalties/2}, options\n",
    "U.display result"
   ]
  },
  {
   "cell_type": "code",
   "execution_count": 135,
   "metadata": {
    "scrolled": true
   },
   "outputs": [
    {
     "name": "stdout",
     "output_type": "stream",
     "text": [
      "Final:\n",
      "    chi2:\t\t3.482784858240449\n",
      "    Degrees of freedom:\t10\n",
      "    gradient:\t\t[0.0]\n",
      "    parameters:\t\t[5.033284120481718]\n",
      "    errors:\t\t[0.19648285818555614]\n",
      "    ranges:\n",
      "\t\t\tchi2:\t\t3.482784858240449\t-\t4.479786058010187\n",
      "\t\t\tparameter:\t4.847227027217618\t-\t5.235015346150119\n"
     ]
    },
    {
     "data": {
      "text/plain": [
       ":ok"
      ]
     },
     "execution_count": 135,
     "metadata": {},
     "output_type": "execute_result"
    }
   ],
   "source": [
    "options = [{:probes,saved}|options]\n",
    "result = {_,cov,parameters,_} = F.chi2fit hdata, {parameters, Distribution.cdf(model), &F.nopenalties/2}, 10, options\n",
    "U.display(hdata,model,result,options)"
   ]
  },
  {
   "cell_type": "markdown",
   "metadata": {},
   "source": [
    "It shows several results:\n",
    "* The chi-squared statistic is 0.35 per degree of freedom - which indicates a good description of the data,\n",
    "* The gradient is really small which indicates that the procedure has found the best possible fit,\n",
    "* Parameter of 5.0 emails per week (on average),\n",
    "* An error in the parameter (delivery) of 0.2; meaning the delivery rate is in the range 4.8 - 5.2."
   ]
  },
  {
   "cell_type": "code",
   "execution_count": 136,
   "metadata": {
    "scrolled": false
   },
   "outputs": [
    {
     "data": {
      "image/png": "[encoded data removed]"
     },
     "metadata": {},
     "output_type": "display_data"
    }
   ],
   "source": [
    "rate = hd(parameters)\n",
    "pdf = fn x -> :math.pow(rate,x)*:math.exp(-rate)/Math.tgamma(x+1) end\n",
    "P.pdf(data_janjul,\n",
    "    plottitle: \"Fit of PDF to Poisson\",\n",
    "    xlabel: \"Emails (number per week)\",\n",
    "    ylabel: \"Count\",\n",
    "    xrange: '[0:15]',\n",
    "    yrange: '[0:0.30]',\n",
    "    pdf: pdf,\n",
    "    offset: 0.5,\n",
    "    noerrors: true,\n",
    "    title: \"Poisson\")\n",
    ":\"this is an inline image\""
   ]
  },
  {
   "cell_type": "code",
   "execution_count": 137,
   "metadata": {
    "scrolled": false
   },
   "outputs": [
    {
     "data": {
      "image/png": "[encoded data removed]"
     },
     "metadata": {},
     "output_type": "display_data"
    }
   ],
   "source": [
    "rate = hd(parameters)\n",
    "pdf = fn x -> :math.pow(rate,x)*:math.exp(-rate)/Math.tgamma(x+1) end\n",
    "P.pdf(data_janjul,\n",
    "    plottitle: \"Fit of PDF to Poisson\",\n",
    "    xlabel: \"Emails (number per week)\",\n",
    "    ylabel: \"Count\",\n",
    "    xrange: '[0:15]',\n",
    "    yrange: '[0:0.30]',\n",
    "    pdf: pdf,\n",
    "    offset: 0.5,\n",
    "    noerrors: false,\n",
    "    title: \"Poisson\")\n",
    ":\"this is an inline image\""
   ]
  },
  {
   "cell_type": "markdown",
   "metadata": {},
   "source": [
    "Let's draw 9 variations of a histogram that all correspond to the same Poisson distribution:"
   ]
  },
  {
   "cell_type": "code",
   "execution_count": 138,
   "metadata": {
    "scrolled": false
   },
   "outputs": [
    {
     "data": {
      "image/png": "[encoded data removed]"
     },
     "metadata": {},
     "output_type": "display_data"
    }
   ],
   "source": [
    "d = ~M(5.03)p\n",
    "P.multi([\n",
    "  P.histogram(Enum.map(data_janjul,fn _ -> Distribution.random(d) end),xrange: '[0:15]',yrange: '[0:10]', mode: :as_commands),\n",
    "  P.histogram(Enum.map(data_janjul,fn _ -> Distribution.random(d) end),xrange: '[0:15]',yrange: '[0:10]', mode: :as_commands),\n",
    "  P.histogram(Enum.map(data_janjul,fn _ -> Distribution.random(d) end),xrange: '[0:15]',yrange: '[0:10]', mode: :as_commands),\n",
    "  P.histogram(Enum.map(data_janjul,fn _ -> Distribution.random(d) end),xrange: '[0:15]',yrange: '[0:10]', mode: :as_commands),\n",
    "  P.histogram(Enum.map(data_janjul,fn _ -> Distribution.random(d) end),xrange: '[0:15]',yrange: '[0:10]', mode: :as_commands),\n",
    "  P.histogram(Enum.map(data_janjul,fn _ -> Distribution.random(d) end),xrange: '[0:15]',yrange: '[0:10]', mode: :as_commands),\n",
    "  P.histogram(Enum.map(data_janjul,fn _ -> Distribution.random(d) end),xrange: '[0:15]',yrange: '[0:10]', mode: :as_commands),\n",
    "  P.histogram(Enum.map(data_janjul,fn _ -> Distribution.random(d) end),xrange: '[0:15]',yrange: '[0:10]', mode: :as_commands),\n",
    "  P.histogram(Enum.map(data_janjul,fn _ -> Distribution.random(d) end),xrange: '[0:15]',yrange: '[0:10]', mode: :as_commands),\n",
    "],\n",
    "title: \"Compatible distributions\",\n",
    "columns: 3,\n",
    "rows: 3,\n",
    "size: \"1200,900\")\n",
    ":\"this is an inline image\""
   ]
  },
  {
   "cell_type": "markdown",
   "metadata": {},
   "source": [
    "#### August\n",
    "Now, we include data for the month August. Again, converting to bins."
   ]
  },
  {
   "cell_type": "code",
   "execution_count": 139,
   "metadata": {},
   "outputs": [
    {
     "data": {
      "text/plain": [
       "[6, 3, 1, 0, 8, 10, 5, 6, 5, 7, 10, 4, 3, 8, 9, 8, 5, 2, 1, 6, 5, 4, 4, 5, 7, 6, 4, 2, 4, 5, 1, 1, 10, 10]"
      ]
     },
     "execution_count": 139,
     "metadata": {},
     "output_type": "execute_result"
    }
   ],
   "source": [
    "data_janaug = [6,3,1,0,8,10,5,6,5,7,10,4,3,8,9,8,5,2,1,6,5,4,4,5,7,6,4,2,4,5,1,1,10,10]"
   ]
  },
  {
   "cell_type": "code",
   "execution_count": 140,
   "metadata": {},
   "outputs": [],
   "source": [
    "hdata_aug = U.to_bins data_janaug, {binsize,0.5}\n",
    ":\"do not show this result in output\""
   ]
  },
  {
   "cell_type": "code",
   "execution_count": 141,
   "metadata": {},
   "outputs": [
    {
     "name": "stdout",
     "output_type": "stream",
     "text": [
      "Initial guess:\n",
      "    chi2:\t\t28.30656431609602\n",
      "    pars:\t\t[5.0617565973866006]\n",
      "    ranges:\t\t{[4.970408193316791, 5.159193743487926]}\n",
      "\n"
     ]
    },
    {
     "data": {
      "text/plain": [
       ":ok"
      ]
     },
     "execution_count": 141,
     "metadata": {},
     "output_type": "execute_result"
    }
   ],
   "source": [
    "model = D.model \"poisson\"\n",
    "options = [probes: probes, smoothing: false, model: :linear, saved?: true]\n",
    "result = {_,parameters,_,saved} = F.chi2probe hdata_aug, initial, {Distribution.cdf(model), &F.nopenalties/2}, options\n",
    "U.display result"
   ]
  },
  {
   "cell_type": "code",
   "execution_count": 142,
   "metadata": {
    "scrolled": false
   },
   "outputs": [
    {
     "name": "stdout",
     "output_type": "stream",
     "text": [
      "Final:\n",
      "    chi2:\t\t28.306560814303925\n",
      "    Degrees of freedom:\t10\n",
      "    gradient:\t\t[-4.890672932901501e-7]\n",
      "    parameters:\t\t[5.061935939373805]\n",
      "    errors:\t\t[0.09584200365325092]\n",
      "    ranges:\n",
      "\t\t\tchi2:\t\t28.306560814303925\t-\t29.306478804542518\n",
      "\t\t\tparameter:\t4.970408193316791\t-\t5.159193743487926\n"
     ]
    },
    {
     "data": {
      "text/plain": [
       ":ok"
      ]
     },
     "execution_count": 142,
     "metadata": {},
     "output_type": "execute_result"
    }
   ],
   "source": [
    "options = [{:probes,saved}|options]\n",
    "result = {_,cov,parameters,_} = F.chi2fit hdata_aug, {parameters, Distribution.cdf(model), &F.nopenalties/2}, 10, options\n",
    "U.display(hdata_aug,model,result,options)"
   ]
  },
  {
   "cell_type": "code",
   "execution_count": 143,
   "metadata": {
    "scrolled": false
   },
   "outputs": [
    {
     "data": {
      "image/png": "[encoded data removed]"
     },
     "metadata": {},
     "output_type": "display_data"
    }
   ],
   "source": [
    "rate = hd(parameters)\n",
    "pdf = fn x -> :math.pow(rate,x)*:math.exp(-rate)/Math.tgamma(x+1) end\n",
    "P.pdf(data_janaug,\n",
    "    plottitle: \"Fit of PDF to Poisson (January - August)\",\n",
    "    xlabel: \"Emails (number per week)\",\n",
    "    ylabel: \"Count\",\n",
    "    xrange: '[0:15]',\n",
    "    yrange: '[0:0.30]',\n",
    "    pdf: pdf,\n",
    "    offset: 0.5,\n",
    "    noerrors: false,\n",
    "    title: \"Poisson\")\n",
    ":\"this is an inline image\""
   ]
  },
  {
   "cell_type": "markdown",
   "metadata": {},
   "source": [
    "#### Change in delivery rate\n",
    "Let's see if we can search for the points in the time period at which the chi-squared statistic has a sudden jump in its value."
   ]
  },
  {
   "cell_type": "code",
   "execution_count": 144,
   "metadata": {},
   "outputs": [],
   "source": [
    "options = [probes: probes, smoothing: false, model: :linear, saved?: true]\n",
    "history = 0..length(data_janaug)-1\n",
    "|> Stream.map(fn i ->\n",
    "        data_janaug\n",
    "        |> Enum.slice(0..i)\n",
    "        |> U.to_bins({binsize,0.5})\n",
    "        |> F.chi2probe(initial, {Distribution.cdf(model), &F.nopenalties/2}, options)\n",
    "    end)\n",
    "|> Stream.map(fn {chi,[par],_,_} -> {chi,par} end)\n",
    "|> Enum.with_index()\n",
    ":\"do not show this result in output\""
   ]
  },
  {
   "cell_type": "code",
   "execution_count": 145,
   "metadata": {
    "scrolled": false
   },
   "outputs": [
    {
     "name": "stdout",
     "output_type": "stream",
     "text": [
      "Index data point|Chi-squared|Delivery Rate\n",
      "----------------|-----------|-------------\n",
      "0               |0.0        |1.0          \n",
      "1               |0.0        |3.4          \n",
      "2               |0.0        |2.6          \n",
      "3               |0.04       |1.9          \n",
      "4               |1.14       |3.1          \n",
      "5               |6.08       |4.0          \n",
      "6               |4.79       |4.0          \n",
      "7               |4.93       |4.2          \n",
      "8               |3.35       |4.2          \n",
      "9               |5.19       |4.5          \n",
      "10              |9.39       |4.9          \n",
      "11              |7.46       |4.9          \n",
      "12              |5.52       |4.8          \n",
      "13              |7.22       |5.0          \n",
      "14              |11.88      |5.3          \n",
      "15              |13.36      |5.4          \n",
      "16              |10.92      |5.4          \n",
      "17              |9.36       |5.4          \n",
      "18              |16.99      |5.1          \n",
      "19              |14.67      |5.1          \n",
      "20              |12.44      |5.1          \n",
      "21              |10.29      |5.1          \n",
      "22              |8.6        |5.1          \n",
      "23              |7.42       |5.1          \n",
      "24              |6.9        |5.1          \n",
      "25              |6.26       |5.1          \n",
      "26              |5.21       |5.1          \n",
      "27              |4.71       |5.0          \n",
      "28              |3.96       |5.0          \n",
      "29              |3.48       |5.0          \n",
      "30              |7.04       |4.8          \n",
      "31              |12.1       |4.7          \n",
      "32              |19.03      |4.9          \n",
      "33              |28.31      |5.1          \n"
     ]
    }
   ],
   "source": [
    "history\n",
    "|> Enum.map(fn {{chi,rate},index} -> [index, Float.round(chi,2), Float.round(rate,1)] end)\n",
    "|> U.as_table({\"Index data point\", \"Chi-squared\", \"Delivery Rate\"})\n",
    ":\"do not show this result in output\""
   ]
  },
  {
   "cell_type": "markdown",
   "metadata": {},
   "source": [
    "The data shows several jumps at roughly the points 4, 14, and 31."
   ]
  },
  {
   "cell_type": "markdown",
   "metadata": {},
   "source": [
    "## Team Mars\n",
    "Team Mars works with Scrum and in sprints of 2-weeks. The data below is gatherd over the period of 1 year. Each data point is the number of accepted backlog items in the Sprint review meeting."
   ]
  },
  {
   "cell_type": "code",
   "execution_count": 146,
   "metadata": {},
   "outputs": [
    {
     "data": {
      "text/plain": [
       "[5, 12, 4, 2, 8, 5, 4, 10, 4, 5, 6, 6, 3, 6, 5, 11, 1, 5, 7, 4, 4, 3, 3]"
      ]
     },
     "execution_count": 146,
     "metadata": {},
     "output_type": "execute_result"
    }
   ],
   "source": [
    "data_mars = [5,12,4,2,8,5,4,10,4,5,6,6,3,6,5,11,1,5,7,4,4,3,3]"
   ]
  },
  {
   "cell_type": "code",
   "execution_count": 147,
   "metadata": {},
   "outputs": [
    {
     "data": {
      "text/plain": [
       "[{1.5, 0.043478260869565216, 0.0058447102657877, 0.13689038224309594}, {2.5, 0.08695652173913043, 0.02977628442357071, 0.1905937209791003}, {3.5, 0.21739130434782608, 0.1263699563343216, 0.33774551477037923}, {4.5, 0.43478260869565216, 0.3160946312914347, 0.5600249434832333}, {5.5, 0.6521739130434783, 0.5263221461493021, 0.7626298741894857}, {6.5, 0.782608695652174, 0.6622544852296207, 0.8736300436656784}, {7.5, 0.8260869565217391, 0.709703289667655, 0.9080712005244068}, {8.5, 0.8695652173913043, 0.7585954661422599, 0.9405937209791002}, {10.5, 0.9130434782608695, 0.8094062790208998, 0.9702237155764294}, {11.5, 0.9565217391304348, 0.8631096177569041, 0.9941552897342123}, {12.5, 1.0, 0.9225113769324543, 1.0}]"
      ]
     },
     "execution_count": 147,
     "metadata": {},
     "output_type": "execute_result"
    }
   ],
   "source": [
    "hdata_mars = U.to_bins data_mars, {binsize,0.5}"
   ]
  },
  {
   "cell_type": "code",
   "execution_count": 148,
   "metadata": {},
   "outputs": [
    {
     "name": "stdout",
     "output_type": "stream",
     "text": [
      "Initial guess:\n",
      "    chi2:\t\t3.7680916885074267\n",
      "    pars:\t\t[5.46839702708482]\n",
      "    ranges:\t\t{[5.261651570016543, 5.688949820841141]}\n",
      "\n"
     ]
    },
    {
     "data": {
      "text/plain": [
       ":ok"
      ]
     },
     "execution_count": 148,
     "metadata": {},
     "output_type": "execute_result"
    }
   ],
   "source": [
    "model = D.model \"poisson\"\n",
    "options = [probes: probes, smoothing: false, model: :linear, saved?: true]\n",
    "result = {_,parameters,_,saved} = F.chi2probe hdata_mars, initial, {Distribution.cdf(model), &F.nopenalties/2}, options\n",
    "U.display result"
   ]
  },
  {
   "cell_type": "code",
   "execution_count": 149,
   "metadata": {},
   "outputs": [
    {
     "name": "stdout",
     "output_type": "stream",
     "text": [
      "Final:\n",
      "    chi2:\t\t3.7680887442307553\n",
      "    Degrees of freedom:\t10\n",
      "    gradient:\t\t[1.1632233868117097e-9]\n",
      "    parameters:\t\t[5.468026377364132]\n",
      "    errors:\t\t[0.2159980613408994]\n",
      "    ranges:\n",
      "\t\t\tchi2:\t\t3.7680887442307553\t-\t4.764778869401112\n",
      "\t\t\tparameter:\t5.261651570016543\t-\t5.688949820841141\n"
     ]
    },
    {
     "data": {
      "text/plain": [
       ":ok"
      ]
     },
     "execution_count": 149,
     "metadata": {},
     "output_type": "execute_result"
    }
   ],
   "source": [
    "options = [{:probes,saved}|options]\n",
    "result = {_,cov,parameters,_} = F.chi2fit hdata_mars, {parameters, Distribution.cdf(model), &F.nopenalties/2}, 10, options\n",
    "U.display(hdata_mars,model,result,options)"
   ]
  },
  {
   "cell_type": "code",
   "execution_count": 150,
   "metadata": {},
   "outputs": [],
   "source": [
    "options = [probes: probes, smoothing: false, model: :linear, saved?: true]\n",
    "history = 0..length(data_mars)-1\n",
    "|> Stream.map(fn i ->\n",
    "        data_mars\n",
    "        |> Enum.slice(0..i)\n",
    "        |> U.to_bins({binsize,0.5})\n",
    "        |> F.chi2probe(initial, {Distribution.cdf(model), &F.nopenalties/2}, options)\n",
    "    end)\n",
    "|> Stream.map(fn {chi,[par],_,_} -> {chi,par} end)\n",
    "|> Enum.with_index()\n",
    ":\"do not show this result in output\""
   ]
  },
  {
   "cell_type": "code",
   "execution_count": 152,
   "metadata": {
    "scrolled": false
   },
   "outputs": [
    {
     "name": "stdout",
     "output_type": "stream",
     "text": [
      "Index data point|Chi-squared|Delivery Rate\n",
      "----------------|-----------|-------------\n",
      "0               |0.0        |1.0          \n",
      "1               |0.0        |5.7          \n",
      "2               |0.01       |5.2          \n",
      "3               |0.01       |4.4          \n",
      "4               |0.07       |5.3          \n",
      "5               |0.1        |5.2          \n",
      "6               |0.1        |4.9          \n",
      "7               |0.69       |5.8          \n",
      "8               |0.97       |5.6          \n",
      "9               |1.04       |5.5          \n",
      "10              |0.55       |5.5          \n",
      "11              |0.36       |5.5          \n",
      "12              |0.55       |5.4          \n",
      "13              |0.56       |5.5          \n",
      "14              |0.84       |5.4          \n",
      "15              |2.55       |6.0          \n",
      "16              |3.18       |5.8          \n",
      "17              |3.41       |5.8          \n",
      "18              |2.28       |5.8          \n",
      "19              |2.59       |5.7          \n",
      "20              |3.0        |5.6          \n",
      "21              |3.31       |5.6          \n",
      "22              |3.77       |5.5          \n"
     ]
    }
   ],
   "source": [
    "history\n",
    "|> Enum.map(fn {{chi,rate},index} -> [index, Float.round(chi,2), Float.round(rate,1)] end)\n",
    "|> U.as_table({\"Index data point\", \"Chi-squared\", \"Delivery Rate\"})\n",
    ":\"do not show this result in output\""
   ]
  },
  {
   "cell_type": "markdown",
   "metadata": {},
   "source": [
    "This shows a stable chi-squared fit for the entire period. There is a jump in the chi-squared value at 15 but since the fit is good anyway (less than 1 pre degree of freedom) this is not significant."
   ]
  },
  {
   "cell_type": "markdown",
   "metadata": {},
   "source": [
    "## Team Jupiter\n",
    "Team Jupiter works with Scrum and in sprints of 2-weeks. The data below is gatherd over the period of 1 year. Each data point is the number of accepted backlog items in the Sprint review meeting."
   ]
  },
  {
   "cell_type": "code",
   "execution_count": 153,
   "metadata": {},
   "outputs": [
    {
     "data": {
      "text/plain": [
       "[53, 50, 53, 48, 69, 39, 12, 17, 21, 15, 15, 31, 62, 78, 23, 17, 25, 28, 38, 16]"
      ]
     },
     "execution_count": 153,
     "metadata": {},
     "output_type": "execute_result"
    }
   ],
   "source": [
    "data_jup = [53, 50, 53, 48, 69, 39, 12, 17, 21, 15, 15, 31, 62, 78, 23, 17, 25, 28, 38, 16]"
   ]
  },
  {
   "cell_type": "code",
   "execution_count": 154,
   "metadata": {},
   "outputs": [
    {
     "data": {
      "image/png": "[encoded data removed]"
     },
     "metadata": {},
     "output_type": "display_data"
    }
   ],
   "source": [
    "P.histogram(data_jup,\n",
    "    bin: 5,\n",
    "    plottitle: \"Throughput histogram\",\n",
    "    xlabel: \"Throughput (items per 2 weeks)\",\n",
    "    ylabel: \"Frequency\",\n",
    "    yrange: '[0:5]')\n",
    ":\"this is an inline image\""
   ]
  },
  {
   "cell_type": "markdown",
   "metadata": {},
   "source": [
    "#### Analysis\n",
    "Automatically find the trends in the data."
   ]
  },
  {
   "cell_type": "code",
   "execution_count": 155,
   "metadata": {},
   "outputs": [],
   "source": [
    "# Generate a countless number of intervals. The intervals alternate between 1-15 (inclusive) of the month,\n",
    "# and the 16-end of the month.\n",
    "intervals = U.intervals(end: ~D[2019-05-01])\n",
    "\n",
    "model = D.model \"poisson\"\n",
    "options = [model: :linear, bin: binsize, fitmodel: model, probes: 10_000, init: [{0.1,100}]]\n",
    "\n",
    "# Find points in the delivery dates that indicate a change in the model\n",
    "trends = F.find_all(data_jup, options) |> Enum.into([])\n",
    ":\"do not show this result in output\""
   ]
  },
  {
   "cell_type": "code",
   "execution_count": 156,
   "metadata": {
    "scrolled": true
   },
   "outputs": [
    {
     "name": "stdout",
     "output_type": "stream",
     "text": [
      "End date of sequence|Goodness of fit|Delivery Rate|Subsequence             \n",
      "--------------------|---------------|-------------|------------------------\n",
      "Apr 16, 2019        |0.2367         |49.6         |[53, 50, 53, 48, 69, 39]\n",
      "Jan 16, 2019        |0.0262         |16.1         |[12, 17, 21, 15, 15, 31]\n",
      "Oct 16, 2018        |0.0003         |62.4         |[62, 78]                \n",
      "Sep 16, 2018        |0.5107         |22.0         |[23, 17, 25, 28, 38, 16]\n"
     ]
    }
   ],
   "source": [
    "trends\n",
    "|> Stream.transform(1, fn arg={_,_,data_jup}, index ->\n",
    "    { [{arg, Enum.at(intervals,index)}], index+length(data_jup) }\n",
    "  end)\n",
    "|> Enum.map(fn {{chi, [rate], sub}, date} ->\n",
    "    [\n",
    "      Timex.format!(date,~S({Mshort} {D}, {YYYY})),\n",
    "      Float.round(chi,4),\n",
    "      Float.round(rate,1),\n",
    "      \"#{inspect(sub, charlists: :as_lists)}\"\n",
    "    ]\n",
    "  end)\n",
    "|> U.as_table({\"End date of sequence\", \"Goodness of fit\", \"Delivery Rate\", \"Subsequence\"})\n",
    ":\"do not show this result in output\""
   ]
  },
  {
   "cell_type": "markdown",
   "metadata": {},
   "source": [
    "It reports the dates where the jumps occur including the data sequence corresponding to them."
   ]
  },
  {
   "cell_type": "markdown",
   "metadata": {},
   "source": [
    "#### Split of data in multiple time periods"
   ]
  },
  {
   "cell_type": "code",
   "execution_count": 157,
   "metadata": {},
   "outputs": [
    {
     "data": {
      "text/plain": [
       "'5250E\\''"
      ]
     },
     "execution_count": 157,
     "metadata": {},
     "output_type": "execute_result"
    }
   ],
   "source": [
    "data_jup_1 = [62, 78, 23, 17, 25, 28, 38, 16]\n",
    "data_jup_2 = [12, 17, 21, 15, 15, 31]\n",
    "data_jup_3 = [53, 50, 53, 48, 69, 39]"
   ]
  },
  {
   "cell_type": "code",
   "execution_count": 158,
   "metadata": {},
   "outputs": [
    {
     "data": {
      "image/png": "[encoded data removed]"
     },
     "metadata": {},
     "output_type": "display_data"
    }
   ],
   "source": [
    "P.multi([\n",
    "  P.histogram(data_jup_1, bin: 5, yrange: '[0:4]', xrange: '[0:90]', mode: :as_commands),\n",
    "  P.histogram(data_jup_2, bin: 5, yrange: '[0:4]', xrange: '[0:90]', mode: :as_commands),\n",
    "  P.histogram(data_jup_3, bin: 5, yrange: '[0:4]', xrange: '[0:90]', mode: :as_commands)  \n",
    "],\n",
    "title: \"Spectral analysis\",\n",
    "columns: 3,\n",
    "rows: 1,\n",
    "size: \"1200,400\")\n",
    ":\"this is an inline image\""
   ]
  }
 ],
 "metadata": {
  "kernelspec": {
   "display_name": "Elixir",
   "language": "Elixir",
   "name": "ielixir"
  },
  "language_info": {
   "codemirror_mode": "elixir",
   "file_extension": "ex",
   "mimetype": "text/x-elixir",
   "name": "elixir",
   "nbconvert_exporter": "",
   "pygments_lexer": "elixir",
   "version": "1.6.6"
  }
 },
 "nbformat": 4,
 "nbformat_minor": 2
}
