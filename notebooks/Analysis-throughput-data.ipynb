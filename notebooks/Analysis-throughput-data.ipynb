{
 "cells": [
  {
   "cell_type": "markdown",
   "metadata": {
    "slideshow": {
     "slide_type": "slide"
    }
   },
   "source": [
    "# Throughput Analysis"
   ]
  },
  {
   "cell_type": "markdown",
   "metadata": {},
   "source": [
    "This notebook describes the steps to do an analysis of throughput data. This supports the capability analysis of flow systems, like a kanban system.\n",
    "\n",
    "This notebook is compatible with the section 'Understanding leadtime' from the [Kanban Maturity Model](https://www.google.com/url?sa=t&rct=j&q=&esrc=s&source=web&cd=&ved=2ahUKEwiIi9Py19zwAhW2DWMBHdKYDz0QFjALegQIHRAD&url=https%3A%2F%2Fmauvisoft.com%2Fkmm-understanding-lead-time%2F&usg=AOvVaw1iDIcri4tDi3vxo1W6yJp-)"
   ]
  },
  {
   "cell_type": "markdown",
   "metadata": {
    "slideshow": {
     "slide_type": "slide"
    }
   },
   "source": [
    "## Table of contents\n",
    "\n",
    "* [Throughput data](#Throughput-data)\n",
    "* [Basic properties](#Basic-properties-of-the-data-set)\n",
    "* [Visualisation of the data](#Visualisation-of-the-data)\n",
    "  * [Thin- or fat-tailed data?](#Thin--or-fat-tailed-data?)\n",
    "* [Empirical distribution](#Empirical-distribution)\n",
    "* [References](#References)"
   ]
  },
  {
   "cell_type": "markdown",
   "metadata": {
    "slideshow": {
     "slide_type": "skip"
    }
   },
   "source": [
    "## Set-up"
   ]
  },
  {
   "cell_type": "code",
   "execution_count": 14,
   "metadata": {
    "slideshow": {
     "slide_type": "skip"
    }
   },
   "outputs": [
    {
     "data": {
      "text/plain": [
       "Chi2fit.Gnuplotlib"
      ]
     },
     "execution_count": 14,
     "metadata": {},
     "output_type": "execute_result"
    }
   ],
   "source": [
    "alias Chi2fit.Distribution, as: D\n",
    "alias Chi2fit.Distribution.Utilities, as: DU\n",
    "alias Chi2fit.Statistics, as: S\n",
    "alias Chi2fit.Utilities, as: U\n",
    "alias Chi2fit.Gnuplotlib, as: P"
   ]
  },
  {
   "cell_type": "markdown",
   "metadata": {
    "slideshow": {
     "slide_type": "slide"
    }
   },
   "source": [
    "## Throughput data"
   ]
  },
  {
   "cell_type": "markdown",
   "metadata": {},
   "source": [
    "First, decide on an interval for which to capture the throughput. Depending on the context and amount of data, daily, weekly, bi-weekly, or monthly intervals are common choices."
   ]
  },
  {
   "cell_type": "code",
   "execution_count": 15,
   "metadata": {},
   "outputs": [
    {
     "data": {
      "text/plain": [
       "7"
      ]
     },
     "execution_count": 15,
     "metadata": {},
     "output_type": "execute_result"
    }
   ],
   "source": [
    "# Specify the interval in a number of days:\n",
    "interval = 7"
   ]
  },
  {
   "cell_type": "markdown",
   "metadata": {},
   "source": [
    "Next, choose the workitem to use for the throughput. For each interval count the number of work items completed in that interval. Partially completed items are excluded from the count."
   ]
  },
  {
   "cell_type": "code",
   "execution_count": 16,
   "metadata": {},
   "outputs": [
    {
     "data": {
      "text/plain": [
       "[1, 2, 0, 3, 0, 3, 1, 6, 0, 0, 1, 1, 0, 0, 1, 0, 3, 4, 5, 1, 7, 2, 3, 2, 1, 0, 1, 2, 0, 1, 0, 6, 5, 6, 0, 5, 0, 0, 2, 0, 0, 0, 1, 2, 15, 3, 1, 5, 2, 4, ...]"
      ]
     },
     "execution_count": 16,
     "metadata": {},
     "output_type": "execute_result"
    }
   ],
   "source": [
    "# The raw throughput data:\n",
    "raw = [1, 2, 0, 3, 0, 3, 1, 6, 0, 0, 1, 1, 0, 0, 1, 0, 3, 4, 5, 1, 7, 2, 3, 2, 1, 0, 1, 2, 0, 1, 0, 6, 5, 6, 0, 5, 0, 0, 2, 0, 0, 0, 1, 2, 15, 3, 1, 5, 2, 4, 0]"
   ]
  },
  {
   "cell_type": "markdown",
   "metadata": {
    "slideshow": {
     "slide_type": "notes"
    }
   },
   "source": [
    "Because we don't count partially completed items some of the intervals will contain zero completed work items. If this gives unsatisfactory results later on, experiment by grouping intervals.\n",
    "\n",
    "For example, when we start with weekly throughput data (interval = 7 days), we may group two consecutive intervals for get bi-weekly data. The properties of the data set that results from this grouping may be more realistic than the raw data.\n",
    "\n",
    "Especially, if the lead time of work items is larger than the interval chosen, this may result in frequent zero throughput per interval. But, if in practice it never occurs that zero items are completed in two consecutive intervals, than grouping by two intervals may resemble the 'true' properties of the throughput better.\n",
    "\n",
    "It is recommended to start with using the raw data and experiment with this in a later stage."
   ]
  },
  {
   "cell_type": "code",
   "execution_count": 17,
   "metadata": {
    "slideshow": {
     "slide_type": "slide"
    }
   },
   "outputs": [
    {
     "data": {
      "text/plain": [
       "1"
      ]
     },
     "execution_count": 17,
     "metadata": {},
     "output_type": "execute_result"
    }
   ],
   "source": [
    "# The number of intervals to combine to form new (and larger) intervals:\n",
    "groups = 1"
   ]
  },
  {
   "cell_type": "markdown",
   "metadata": {},
   "source": [
    "Next, specify the grouping of the frequency of throughput data. These are called 'bins' and the size of the bins is called the bin size.\n",
    "\n",
    "Usually, no grouping is good enough, i.e. a binsize of one. However, if a vast number of work items (tens or hundreds) are completed in the intervals the throughput may vary a lot. In this case it may help to use a bin size larger than 1. For example, bins of 0-4, 5-9, 10-14, etc.\n",
    "\n",
    "Again, there is no recipe that tells what value to use. Start with one, and experiment to see what gives reliable results."
   ]
  },
  {
   "cell_type": "code",
   "execution_count": 18,
   "metadata": {},
   "outputs": [
    {
     "data": {
      "text/plain": [
       "1"
      ]
     },
     "execution_count": 18,
     "metadata": {},
     "output_type": "execute_result"
    }
   ],
   "source": [
    "# The size of bins for grouping the frequency data\n",
    "binsize = 1"
   ]
  },
  {
   "cell_type": "markdown",
   "metadata": {
    "slideshow": {
     "slide_type": "slide"
    }
   },
   "source": [
    "### Basic properties of the data set"
   ]
  },
  {
   "cell_type": "markdown",
   "metadata": {},
   "source": [
    "Next, we calculate some basic properties of the data set:\n",
    "\n",
    "  * the size,\n",
    "  * the average,\n",
    "  * the median (middle value of the data set),\n",
    "  * the tail (98%ile),\n",
    "  * the mode (value that occurs the most)."
   ]
  },
  {
   "cell_type": "code",
   "execution_count": 19,
   "metadata": {
    "slideshow": {
     "slide_type": "skip"
    }
   },
   "outputs": [],
   "source": [
    "# Modify the data based on the settings above:\n",
    "data = raw |> Enum.chunk_every(groups,groups) |> Enum.map(& Enum.sum(&1))\n",
    "\n",
    "# The size of the dataset\n",
    "len = length(data)\n",
    "\n",
    "# Maximum lead time in the data\n",
    "maxdays = data |> Enum.max\n",
    "\n",
    "# Het gemiddelde\n",
    "avgdays = Enum.sum(data)/len\n",
    "\n",
    "# Median & Tail (98%ile)\n",
    "{median, tail, _} = data |> Enum.sort |> Enum.reduce({nil,nil,1}, fn\n",
    "  lt, {nil,nil,idx} when (idx+1)/len > 0.50 -> {lt,nil,idx+1}\n",
    "  lt, {me,nil,idx} when (idx+1)/len > 0.98 -> {me,lt,idx+1}\n",
    "  _lt, {me,ta,idx} -> {me,ta,idx+1}\n",
    "end)\n",
    "\n",
    "# The mode is the value that occurs the most:\n",
    "{mode,max_frequency} = data |> Enum.frequencies |> Enum.max_by(fn {_,v} -> v end)\n",
    ":\"do not show this result in output\""
   ]
  },
  {
   "cell_type": "code",
   "execution_count": 20,
   "metadata": {},
   "outputs": [
    {
     "name": "stdout",
     "output_type": "stream",
     "text": [
      "Mode          = 0\n",
      "Median        = 1\n",
      "Average       = 2.1\n",
      "Tail (98%ile) = 6\n",
      "\n",
      "(All amounts are per 7 days)\n"
     ]
    }
   ],
   "source": [
    "units = interval*groups\n",
    "IO.puts \"Mode          = #{round(mode)}\"\n",
    "IO.puts \"Median        = #{median}\"\n",
    "IO.puts \"Average       = #{Float.round(avgdays,1)}\"\n",
    "IO.puts \"Tail (98%ile) = #{tail}\"\n",
    "IO.puts \"\\n(All amounts are per #{units} days)\"\n",
    ":\"do not show this result in output\""
   ]
  },
  {
   "cell_type": "markdown",
   "metadata": {
    "slideshow": {
     "slide_type": "slide"
    }
   },
   "source": [
    "## Visualisation of the data"
   ]
  },
  {
   "cell_type": "code",
   "execution_count": 21,
   "metadata": {},
   "outputs": [
    {
     "data": {
      "image/png": "[encoded data removed]"
     },
     "metadata": {},
     "output_type": "display_data"
    }
   ],
   "source": [
    "P.histogram(data,\n",
    "    plottitle: \"Throughput histogram\",\n",
    "    xlabel: \"Throughput (completed items per #{units} days)\",\n",
    "    ylabel: \"Frequency\",\n",
    "    xrange: '[0:#{maxdays*1.2}]',\n",
    "    yrange: '[0:#{max_frequency*1.2}]',\n",
    "    bin: binsize)\n",
    ":\"this is an inline image\""
   ]
  },
  {
   "cell_type": "markdown",
   "metadata": {
    "slideshow": {
     "slide_type": "subslide"
    }
   },
   "source": [
    "The chart may show a couple of things. Two important properties are (a) whether the data is multi modal or not and (b) whether it shows indications of a fat-tail.\n",
    "\n",
    "Multi modal is recognized by more than 1 mode. Multi-modal data mostly is a result from the presence of multiple work item types. This will be analyzed below in more detail.\n",
    "\n",
    "Fat-tailed data. This is also known as extremistan. Linear regression to the mean is not possible. The presence of data far to the right of the chart away from the mean, is a very strong indication that the data is extremistan."
   ]
  },
  {
   "cell_type": "markdown",
   "metadata": {
    "slideshow": {
     "slide_type": "slide"
    }
   },
   "source": [
    "### Thin- or fat-tailed data?"
   ]
  },
  {
   "cell_type": "markdown",
   "metadata": {},
   "source": [
    "An important property of the data is to determine whether it is fat-tailed or not. With thin-tailed data forecasting is less uncertain, and is preferred.\n",
    "\n",
    "A differentiator between mediocristan and extremistan data is to test the data sample for subexponentiality. Taleb [8] mentions 2 tests for this."
   ]
  },
  {
   "cell_type": "code",
   "execution_count": 22,
   "metadata": {},
   "outputs": [
    {
     "data": {
      "text/plain": [
       "true"
      ]
     },
     "execution_count": 22,
     "metadata": {},
     "output_type": "execute_result"
    }
   ],
   "source": [
    "# Test 1:\n",
    "# A value close to zero, say within 0.1, indicates it is extremistan (fat-tailed, subexponential)\n",
    "test1 = data |> S.subexponential_stat(:max) < 0.1"
   ]
  },
  {
   "cell_type": "code",
   "execution_count": 23,
   "metadata": {},
   "outputs": [
    {
     "data": {
      "text/plain": [
       "true"
      ]
     },
     "execution_count": 23,
     "metadata": {},
     "output_type": "execute_result"
    }
   ],
   "source": [
    "# Test 2:\n",
    "# A value close to zero, say within 0.1, indicates it is extremistan (fat-tailed, subexponential)\n",
    "test2 = data |> S.subexponential_stat(:sum) < 0.1"
   ]
  },
  {
   "cell_type": "code",
   "execution_count": 24,
   "metadata": {
    "slideshow": {
     "slide_type": "subslide"
    }
   },
   "outputs": [
    {
     "name": "stdout",
     "output_type": "stream",
     "text": [
      "Data is fat tailed!\n"
     ]
    }
   ],
   "source": [
    "# Thin or fat tailed distribution?\n",
    "# See KMM.plus for an explanation of the numbers\n",
    "check1 = tail/median < 5.6\n",
    "check2 = if mode>0, do: tail/mode < 16, else: false\n",
    "\n",
    "case {check1,check2} do\n",
    "  {true,true} -> IO.puts \"Data is thin tailed!\"\n",
    "  {false,false} -> IO.puts \"Data is fat tailed!\"\n",
    "  _else -> IO.puts \"Inclusive whether data is thin or fat tailed, check for multi-modal data (see below)\"\n",
    "end\n",
    ":\"do not show this result in output\""
   ]
  },
  {
   "cell_type": "markdown",
   "metadata": {
    "slideshow": {
     "slide_type": "slide"
    }
   },
   "source": [
    "## Empirical distribution"
   ]
  },
  {
   "cell_type": "markdown",
   "metadata": {},
   "source": [
    "As a first step we convert the throughput data to a histogram. To this end we group the data in bins of size 1 starting at 0 and determine the cumulative distribution function (CDF). Since it is directly calculated from the observed data, we will call this the empirical cumulative distribution function (ECDF). This is the function that we will use to find a suitable probability distribution that describes the data."
   ]
  },
  {
   "cell_type": "markdown",
   "metadata": {},
   "source": [
    "An important property of a CDF (and therefor also for the ECDF) is that the value always is between 0 and 1."
   ]
  },
  {
   "cell_type": "code",
   "execution_count": 25,
   "metadata": {
    "scrolled": false
   },
   "outputs": [
    {
     "name": "stdout",
     "output_type": "stream",
     "text": [
      "bin index|value             |low               |high               \n",
      "---------|------------------|------------------|-------------------\n",
      "1        |0.3333333333333333|0.2619590316047003|0.41205985002195966\n",
      "2        |0.5490196078431373|0.4693334933381733|0.6265576074897032 \n",
      "3        |0.6862745098039216|0.6081128777585465|0.7562025291870149 \n",
      "4        |0.7843137254901961|0.7110378681422991|0.8448186366836251 \n",
      "5        |0.8235294117647058|0.7533661771437564|0.8790002461835639 \n",
      "6        |0.9019607843137255|0.8409447560847112|0.9439686602963081 \n",
      "7        |0.9607843137254902|0.9111357425558969|0.9866556598542698 \n",
      "8        |0.9803921568627451|0.9364212632226532|0.9973690503039632 \n",
      "16       |1.0               |0.9641694112344984|1.0                \n"
     ]
    }
   ],
   "source": [
    "hdata = S.to_bins data, {binsize,0}\n",
    "hdata |> U.as_table({\"bin index\",\"value\",\"low\",\"high\"})\n",
    ":\"do not show this result in output\""
   ]
  },
  {
   "cell_type": "markdown",
   "metadata": {
    "slideshow": {
     "slide_type": "subslide"
    }
   },
   "source": [
    "The data returned contains a list of tuples each describing a bin:\n",
    "* the end-point of the bin,\n",
    "* the proportional number of events for this bin (the total count is normalized to one),\n",
    "* the lower value of the error bound,\n",
    "* the upper value of the error bound."
   ]
  },
  {
   "cell_type": "markdown",
   "metadata": {},
   "source": [
    "As can be seen the sizes of the lower and upper bounds are different in value, i.e. they are asymmetrical. The contribution or weight to the likelihood function used in fitting known distributions will de different depending on whether the observed value if larger or smaller than the predicted value. This is specified by using the option `:linear` (see below). See [3] for details."
   ]
  },
  {
   "cell_type": "markdown",
   "metadata": {},
   "source": [
    "A consequence that the values of a CDF are between 0 and 1, is that the low and high bounds must be between 0 and 1. From this it follows that the error bounds are asymmetrical in nature. When finding a suitable distribution we need to take this into account."
   ]
  },
  {
   "cell_type": "code",
   "execution_count": 26,
   "metadata": {
    "slideshow": {
     "slide_type": "subslide"
    }
   },
   "outputs": [
    {
     "data": {
      "image/png": "[encoded data removed]"
     },
     "metadata": {},
     "output_type": "display_data"
    }
   ],
   "source": [
    "P.ecdf(hdata,\n",
    "    plottitle: \"Empirical CDF\",\n",
    "    xlabel: \"Throughput (items per #{units} days)\",\n",
    "    ylabel: \"Probability\",\n",
    "    xrange: '[0:#{maxdays*1.1}]',\n",
    "    bin: binsize)\n",
    ":\"this is an inline image\""
   ]
  },
  {
   "cell_type": "markdown",
   "metadata": {
    "slideshow": {
     "slide_type": "slide"
    }
   },
   "source": [
    "## References"
   ]
  },
  {
   "cell_type": "markdown",
   "metadata": {},
   "source": [
    "[1] _Poisson distribution_, https://en.wikipedia.org/wiki/Poisson_distribution/<br>\n",
    "[2] _Chi2Fit_, Pieter Rijken, 2018, https://hex.pm/packages/chi2fit<br>\n",
    "[3] _Asymmetric errors_, Roger Barlow, Manchester University, UK and Stanford University, USA, PHYSTAT2003, SLAC, Stanford, California, September 8-11, 2003, https://www.slac.stanford.edu/econf/C030908/papers/WEMT002.pdf<br>\n",
    "[4] _Efficient use of Monte Carlo: uncertainty propagation_, D. Rochman et. al., Nuclear Science and Engineering, 2013, ftp://ftp.nrg.eu/pub/www/talys/bib_rochman/fastTMC.pdf<br>\n",
    "[5] _Understanding lead time_, https://www.google.com/url?sa=t&rct=j&q=&esrc=s&source=web&cd=&ved=2ahUKEwiIi9Py19zwAhW2DWMBHdKYDz0QFjALegQIHRAD&url=https%3A%2F%2Fmauvisoft.com%2Fkmm-understanding-lead-time%2F&usg=AOvVaw1iDIcri4tDi3vxo1W6yJp-<br>\n",
    "[6] _Kanban Maturity Model_, .....<br>\n",
    "[7] _KMM: A Map To Organizational Agility, Resilience & Reinvention_, http://kmm.plus<br>\n",
    "[8] _Statistical consequences of fat tails_, Nassim Taleb"
   ]
  }
 ],
 "metadata": {
  "kernelspec": {
   "display_name": "Elixir",
   "language": "Elixir",
   "name": "ielixir"
  },
  "language_info": {
   "codemirror_mode": "elixir",
   "file_extension": "ex",
   "mimetype": "text/x-elixir",
   "name": "elixir",
   "nbconvert_exporter": "",
   "pygments_lexer": "elixir",
   "version": "1.11.2"
  }
 },
 "nbformat": 4,
 "nbformat_minor": 2
}
