{
 "cells": [
  {
   "cell_type": "markdown",
   "metadata": {},
   "source": [
    "# Backlog Forecasting"
   ]
  },
  {
   "cell_type": "markdown",
   "metadata": {},
   "source": [
    "Fitting data to known distributions use is done using [Chi2Fit](https://hex.pm/packages/chi2fit)."
   ]
  },
  {
   "cell_type": "markdown",
   "metadata": {},
   "source": [
    "## Table of contents"
   ]
  },
  {
   "cell_type": "markdown",
   "metadata": {},
   "source": [
    "* [Set-up](#Set-up)\n",
    "* [Data](#Data)\n",
    "* [Simulation set-up](#Simulation-set-up)\n",
    "* [Preparation](#preparation)\n",
    "* [Simple forecast using the empirical data](#Simple-forecast-using-the-empirical-data)\n",
    "* [Forecasting using a Poisson distribution](#Forecasting-using-a-Poisson-distribution)\n",
    "* [References](#References)\n",
    "* [Tear-down](#Tear-down)"
   ]
  },
  {
   "cell_type": "markdown",
   "metadata": {},
   "source": [
    "## Set-up"
   ]
  },
  {
   "cell_type": "code",
   "execution_count": 1,
   "metadata": {},
   "outputs": [
    {
     "name": "stdout",
     "output_type": "stream",
     "text": [
      "All dependencies up to date\n"
     ]
    },
    {
     "data": {
      "text/plain": [
       "{:ok, [\"chi2fit\"]}"
      ]
     },
     "execution_count": 1,
     "metadata": {},
     "output_type": "execute_result"
    }
   ],
   "source": [
    "Boyle.mk(\"chi2fit\")"
   ]
  },
  {
   "cell_type": "code",
   "execution_count": 2,
   "metadata": {},
   "outputs": [
    {
     "data": {
      "text/plain": [
       "{:ok, [\"chi2fit\"]}"
      ]
     },
     "execution_count": 2,
     "metadata": {},
     "output_type": "execute_result"
    }
   ],
   "source": [
    "Boyle.list()"
   ]
  },
  {
   "cell_type": "code",
   "execution_count": 3,
   "metadata": {
    "scrolled": false
   },
   "outputs": [
    {
     "name": "stdout",
     "output_type": "stream",
     "text": [
      "All dependencies up to date\n"
     ]
    },
    {
     "data": {
      "text/plain": [
       ":ok"
      ]
     },
     "execution_count": 3,
     "metadata": {},
     "output_type": "execute_result"
    }
   ],
   "source": [
    "Boyle.activate(\"chi2fit\")"
   ]
  },
  {
   "cell_type": "code",
   "execution_count": 4,
   "metadata": {},
   "outputs": [
    {
     "name": "stdout",
     "output_type": "stream",
     "text": [
      "Resolving Hex dependencies...\n",
      "Dependency resolution completed:\n",
      "Unchanged:\n",
      "  exalgebra 0.0.5\n",
      "  exboost 0.2.3\n",
      "==> exboost\n",
      "make: 'priv/libboostnif.so' is up to date.\n",
      "\n"
     ]
    },
    {
     "data": {
      "text/plain": [
       ":ok"
      ]
     },
     "execution_count": 4,
     "metadata": {},
     "output_type": "execute_result"
    }
   ],
   "source": [
    "Boyle.install({:chi2fit, path: \"/app/chi2fit\"})"
   ]
  },
  {
   "cell_type": "code",
   "execution_count": 5,
   "metadata": {
    "collapsed": true
   },
   "outputs": [
    {
     "data": {
      "text/plain": [
       "Chi2fit.Utilities"
      ]
     },
     "execution_count": 5,
     "metadata": {},
     "output_type": "execute_result"
    }
   ],
   "source": [
    "require Chi2fit.Distribution\n",
    "alias Chi2fit.Distribution, as: D\n",
    "alias Chi2fit.Fit, as: F\n",
    "alias Chi2fit.Matrix, as: M\n",
    "alias Chi2fit.Utilities, as: U"
   ]
  },
  {
   "cell_type": "code",
   "execution_count": 84,
   "metadata": {
    "collapsed": true
   },
   "outputs": [
    {
     "data": {
      "text/plain": [
       "{:module, Forecast, <<70, 79, 82, 49, 0, 0, 5, 60, 66, 69, 65, 77, 65, 116, 85, 56, 0, 0, 0, 135, 0, 0, 0, 15, 15, 69, 108, 105, 120, 105, 114, 46, 70, 111, 114, 101, 99, 97, 115, 116, 8, 95, 95, 105, 110, 102, 111, ...>>, {:forecast, 3}}"
      ]
     },
     "execution_count": 84,
     "metadata": {},
     "output_type": "execute_result"
    }
   ],
   "source": [
    "defmodule Forecast do\n",
    "    def forecast(fun, size, tries \\\\ 0)\n",
    "    def forecast(fun, size, tries) when size>0 do\n",
    "        forecast(fun, size-fun.(),tries+1)\n",
    "    end\n",
    "    def forecast(_fun,_size,tries), do: tries\n",
    "end"
   ]
  },
  {
   "cell_type": "markdown",
   "metadata": {},
   "source": [
    "## Data"
   ]
  },
  {
   "cell_type": "code",
   "execution_count": 81,
   "metadata": {
    "collapsed": true
   },
   "outputs": [
    {
     "data": {
      "text/plain": [
       "[3, 3, 4, 4, 7, 5, 1, 11, 5, 6, 3, 6, 6, 5, 4, 10, 4, 5, 8, 2, 4, 12, 5]"
      ]
     },
     "execution_count": 81,
     "metadata": {},
     "output_type": "execute_result"
    }
   ],
   "source": [
    "# Raw throughput data: the number of backlog items completed every 2 weeks\n",
    "data = [3,3,4,4,7,5,1,11,5,6,3,6,6,5,4,10,4,5,8,2,4,12,5]"
   ]
  },
  {
   "cell_type": "markdown",
   "metadata": {},
   "source": [
    "## Simulation set-up"
   ]
  },
  {
   "cell_type": "code",
   "execution_count": 78,
   "metadata": {
    "collapsed": true
   },
   "outputs": [
    {
     "data": {
      "text/plain": [
       "1000"
      ]
     },
     "execution_count": 78,
     "metadata": {},
     "output_type": "execute_result"
    }
   ],
   "source": [
    "# The size of the backlog, e.g. 100 backlog items\n",
    "size = 100\n",
    "\n",
    "# Number of iterations to use in the Monte Carlo\n",
    "iterations = 1000"
   ]
  },
  {
   "cell_type": "markdown",
   "metadata": {},
   "source": [
    "## Preparation"
   ]
  },
  {
   "cell_type": "code",
   "execution_count": 82,
   "metadata": {},
   "outputs": [
    {
     "data": {
      "text/plain": [
       "[{1.5, 0.043478260869565216, 0.0058447102657877, 0.13689038224309594}, {2.5, 0.08695652173913043, 0.02977628442357071, 0.1905937209791003}, {3.5, 0.21739130434782608, 0.1263699563343216, 0.33774551477037923}, {4.5, 0.43478260869565216, 0.3160946312914347, 0.5600249434832333}, {5.5, 0.6521739130434783, 0.5263221461493021, 0.7626298741894857}, {6.5, 0.782608695652174, 0.6622544852296207, 0.8736300436656784}, {7.5, 0.8260869565217391, 0.709703289667655, 0.9080712005244068}, {8.5, 0.8695652173913043, 0.7585954661422599, 0.9405937209791002}, {10.5, 0.9130434782608695, 0.8094062790208998, 0.9702237155764294}, {11.5, 0.9565217391304348, 0.8631096177569041, 0.9941552897342123}, {12.5, 1.0, 0.9225113769324543, 1.0}]"
      ]
     },
     "execution_count": 82,
     "metadata": {},
     "output_type": "execute_result"
    }
   ],
   "source": [
    "hdata = U.to_bins data"
   ]
  },
  {
   "cell_type": "markdown",
   "metadata": {},
   "source": [
    "## Simple forecast using the empirical data"
   ]
  },
  {
   "cell_type": "code",
   "execution_count": 64,
   "metadata": {},
   "outputs": [
    {
     "name": "stdout",
     "output_type": "stream",
     "text": [
      "50% with      20.0\n",
      "84% within    22.0 iterations\n",
      "97.5% within  24.0 iterations\n",
      "99.85% within 26.0 iterations\n"
     ]
    },
    {
     "data": {
      "text/plain": [
       ":ok"
      ]
     },
     "execution_count": 64,
     "metadata": {},
     "output_type": "execute_result"
    }
   ],
   "source": [
    "tries = 1..iterations |> Enum.map(fn _ -> Forecast.forecast(fn -> Enum.random(data) end, size) end)\n",
    "avg = U.moment tries, 1\n",
    "sd = :math.sqrt U.momentc tries,2\n",
    "\n",
    "IO.puts \"50% with      #{:math.ceil(avg)}\"\n",
    "IO.puts \"84% within    #{:math.ceil(avg+sd)} iterations\"\n",
    "IO.puts \"97.5% within  #{:math.ceil(avg+2*sd)} iterations\"\n",
    "IO.puts \"99.85% within #{:math.ceil(avg+3*sd)} iterations\""
   ]
  },
  {
   "cell_type": "markdown",
   "metadata": {},
   "source": [
    "## Forecasting using a Poisson distribution"
   ]
  },
  {
   "cell_type": "markdown",
   "metadata": {},
   "source": [
    "Instead of directly using the raw data captured one can also use a known probability distribution. The parameter of the distribution is matched to the data. After matching the parameter value one uses the known distribution to forecast."
   ]
  },
  {
   "cell_type": "markdown",
   "metadata": {},
   "source": [
    "Here, we will use the __Poisson distribution__ [1]. This basically assumes that the data points are independent of each other."
   ]
  },
  {
   "cell_type": "markdown",
   "metadata": {},
   "source": [
    "The code below uses basic settings of the commands provided by `Chi2Fit`. More advanced options can be found at [2]. First a fixed number of random parameter values are tried to get a rough estimate. The option `probes` equals the number of tries. Furthermore, since we are fitting a probability distribution which has values on the interval `[0,1]` the errors are asymmetrical. This is specified by the option `linear`. "
   ]
  },
  {
   "cell_type": "code",
   "execution_count": 65,
   "metadata": {},
   "outputs": [
    {
     "name": "stdout",
     "output_type": "stream",
     "text": [
      "Initial guess:\n",
      "    chi2:\t\t3.7680928408143695\n",
      "    pars:\t\t[5.468463586964908]\n",
      "    errors:\t\t{[5.262886308299022, 5.68704613959866]}\n",
      "\n"
     ]
    },
    {
     "data": {
      "text/plain": [
       ":ok"
      ]
     },
     "execution_count": 65,
     "metadata": {},
     "output_type": "execute_result"
    }
   ],
   "source": [
    "model = D.model \"poisson\"\n",
    "options = [probes: 10_000, smoothing: false, model: :linear]\n",
    "{chi2, parameters,errors} = F.chi2probe hdata, [{1,10}], {model[:fun], &F.nopenalties/2}, options\n",
    "\n",
    "IO.puts \"Initial guess:\"\n",
    "IO.puts \"    chi2:\\t\\t#{chi2}\"\n",
    "IO.puts \"    pars:\\t\\t#{inspect parameters}\"\n",
    "IO.puts \"    errors:\\t\\t#{inspect errors}\\n\""
   ]
  },
  {
   "cell_type": "markdown",
   "metadata": {},
   "source": [
    "The errors reported is the found range of parameter values where the corresponding `chi2` values are within 1 of the found minimum value."
   ]
  },
  {
   "cell_type": "markdown",
   "metadata": {},
   "source": [
    "After roughly locating the minimum we do a more precise (and computationally more expensive) search for the minimum."
   ]
  },
  {
   "cell_type": "code",
   "execution_count": 83,
   "metadata": {
    "scrolled": true
   },
   "outputs": [
    {
     "name": "stdout",
     "output_type": "stream",
     "text": [
      "Final:\n",
      "    chi2:\t\t3.768088744230755\n",
      "    Degrees of freedom:\t10\n",
      "    covariance:\t\t[\n",
      "    \t\t\t  [0.04665516250250693]\n",
      "    \t\t\t]\n",
      "    gradient:\t\t[-1.3372622014991359e-9]\n",
      "    parameters:\t\t[5.468026377336737]\n",
      "    errors:\t\t[0.21599806133969568]\n",
      "    ranges:\n",
      "\t\t\tchi2:\t\t3.768088744230755\t-\t3.768088744230786\n",
      "\t\t\tparameter:\t5.468026377306263\t-\t5.468026377398795\n"
     ]
    },
    {
     "data": {
      "text/plain": [
       ":ok"
      ]
     },
     "execution_count": 83,
     "metadata": {},
     "output_type": "execute_result"
    }
   ],
   "source": [
    "{chi2, cov, parameters, errors} = F.chi2fit hdata, {parameters, model[:fun], &F.nopenalties/2}, 10, options\n",
    "\n",
    "param_errors = cov |> M.diagonal |> Enum.map(fn x->x|>abs|>:math.sqrt end)\n",
    "\n",
    "IO.puts \"Final:\"\n",
    "IO.puts \"    chi2:\\t\\t#{chi2}\"\n",
    "IO.puts \"    Degrees of freedom:\\t#{length(hdata)-model[:df]}\"\n",
    "IO.puts \"    covariance:\\t\\t[\"\n",
    "cov |> Enum.each(fn row -> IO.puts \"    \\t\\t\\t  #{inspect row}\" end)\n",
    "IO.puts \"    \\t\\t\\t]\"\n",
    "IO.puts \"    gradient:\\t\\t#{inspect U.jacobian(parameters,&F.chi2(hdata,fn x->model[:fun].(x,&1) end,fn _->0.0 end,options),options)}\"\n",
    "IO.puts \"    parameters:\\t\\t#{inspect parameters}\"\n",
    "IO.puts \"    errors:\\t\\t#{inspect param_errors}\"\n",
    "IO.puts \"    ranges:\"\n",
    "U.puts_errors errors"
   ]
  },
  {
   "cell_type": "code",
   "execution_count": 76,
   "metadata": {
    "scrolled": true
   },
   "outputs": [
    {
     "name": "stdout",
     "output_type": "stream",
     "text": [
      "Number of iterations to complete the backlog:\n",
      "18.8 (+/- 1.9) (-0.7 +0.8)\n",
      "\n",
      "50% with      19.0\n",
      "84% within    21.0 iterations\n",
      "97.5% within  23.0 iterations\n",
      "99.85% within 25.0 iterations\n"
     ]
    },
    {
     "data": {
      "text/plain": [
       ":ok"
      ]
     },
     "execution_count": 76,
     "metadata": {},
     "output_type": "execute_result"
    }
   ],
   "source": [
    "[rate] = parameters\n",
    "[sd_rate] = param_errors\n",
    "\n",
    "tries_min = 1..iterations |> Enum.map(fn _ -> Forecast.forecast(D.poisson(rate-sd_rate), size) end)\n",
    "tries_avg = 1..iterations |> Enum.map(fn _ -> Forecast.forecast(D.poisson(rate        ), size) end)\n",
    "tries_max = 1..iterations |> Enum.map(fn _ -> Forecast.forecast(D.poisson(rate+sd_rate), size) end)\n",
    "\n",
    "avg = U.moment tries_avg, 1\n",
    "sd = :math.sqrt U.momentc tries_avg,2\n",
    "\n",
    "sd_min = abs(avg-U.moment(tries_min, 1))\n",
    "sd_plus = abs(U.moment(tries_max, 1)-avg)\n",
    "\n",
    "IO.puts \"Number of iterations to complete the backlog:\"\n",
    "IO.puts \"#{Float.round(avg,1)} (+/- #{Float.round(sd,1)}) (-#{Float.round(sd_plus,1)} +#{Float.round(sd_min,1)})\"\n",
    "IO.puts \"\"\n",
    "IO.puts \"50% with      #{:math.ceil(avg)}\"\n",
    "IO.puts \"84% within    #{:math.ceil(avg+sd)} iterations\"\n",
    "IO.puts \"97.5% within  #{:math.ceil(avg+2*sd)} iterations\"\n",
    "IO.puts \"99.85% within #{:math.ceil(avg+3*sd)} iterations\""
   ]
  },
  {
   "cell_type": "markdown",
   "metadata": {},
   "source": [
    "## References"
   ]
  },
  {
   "cell_type": "markdown",
   "metadata": {},
   "source": [
    "[1] Poisson distribution, https://en.wikipedia.org/wiki/Poisson_distribution/<br>\n",
    "[2] Chi2Fit, https://hex.pm/packages/chi2fit"
   ]
  },
  {
   "cell_type": "markdown",
   "metadata": {},
   "source": [
    "## Tear-down"
   ]
  },
  {
   "cell_type": "code",
   "execution_count": 8,
   "metadata": {},
   "outputs": [
    {
     "data": {
      "text/plain": [
       ":ok"
      ]
     },
     "execution_count": 8,
     "metadata": {},
     "output_type": "execute_result"
    }
   ],
   "source": [
    "Boyle.deactivate()"
   ]
  }
 ],
 "metadata": {
  "kernelspec": {
   "display_name": "Elixir",
   "language": "Elixir",
   "name": "ielixir"
  },
  "language_info": {
   "codemirror_mode": "elixir",
   "file_extension": "ex",
   "mimetype": "text/x-elixir",
   "name": "elixir",
   "nbconvert_exporter": "",
   "pygments_lexer": "elixir",
   "version": "#Version<1.6.6>"
  }
 },
 "nbformat": 4,
 "nbformat_minor": 2
}
