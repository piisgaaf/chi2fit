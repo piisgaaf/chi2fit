{
 "cells": [
  {
   "cell_type": "markdown",
   "metadata": {},
   "source": [
    "# Backlog Forecasting - non-equilibrium"
   ]
  },
  {
   "cell_type": "markdown",
   "metadata": {},
   "source": [
    "Fitting data to known distributions use is done using [Chi2Fit](https://hex.pm/packages/chi2fit).\n",
    "\n",
    "This note is about forecasting in a non-equilibirum situation. It illustrates how this manifests itself and how to identify a (sub)period of equilibrium."
   ]
  },
  {
   "cell_type": "markdown",
   "metadata": {},
   "source": [
    "The data used in this note exhibits two 'difficulties':\n",
    "\n",
    "1. it is a sequence of throughput data with a changing delivery rate,\n",
    "1. the number of data points is much less than the number of categories ($x$-range)."
   ]
  },
  {
   "cell_type": "markdown",
   "metadata": {},
   "source": [
    "## Table of contents\n",
    "\n",
    "* [Set-up](#Set-up)\n",
    "* [Data and simulation set-up](#Data-and-simulation-set-up)\n",
    "* [Preparation](#Preparation)\n",
    "* [Simple forecast using the empirical data](#Simple-forecast-using-the-empirical-data)\n",
    "* [First attempt to fit the data using a Poisson distribution](#First-attempt-to-fit-the-data-using-a-Poisson-distribution)\n",
    "* [Second attempt](#Second-attempt)\n",
    "* [Forecasting using a Poisson distribution](#Forecasting-using-a-Poisson-distribution)\n",
    "* [Total Monte Carlo](#Total-Monte-Carlo)\n",
    "* [References](#References)"
   ]
  },
  {
   "cell_type": "markdown",
   "metadata": {},
   "source": [
    "## Set-up"
   ]
  },
  {
   "cell_type": "code",
   "execution_count": 1,
   "metadata": {},
   "outputs": [
    {
     "data": {
      "text/plain": [
       "Exboost.Math"
      ]
     },
     "execution_count": 1,
     "metadata": {},
     "output_type": "execute_result"
    }
   ],
   "source": [
    "require Chi2fit.Distribution\n",
    "alias Chi2fit.Distribution, as: D\n",
    "alias Chi2fit.Fit, as: F\n",
    "alias Chi2fit.Matrix, as: M\n",
    "alias Chi2fit.Utilities, as: U\n",
    "alias Gnuplotlib, as: P\n",
    "alias Gnuplot, as: G\n",
    "alias Exboost.Math"
   ]
  },
  {
   "cell_type": "markdown",
   "metadata": {},
   "source": [
    "## Data and simulation set-up"
   ]
  },
  {
   "cell_type": "markdown",
   "metadata": {},
   "source": [
    "As an example consider the throughput of completed backlog items. At the end of a fixed time period we count the number of backlog items that a team completes. Partially completed items are excluded from the count.\n",
    "\n",
    "The following is such a sequence with the count corresponding to the most recent date as the first item."
   ]
  },
  {
   "cell_type": "code",
   "execution_count": 2,
   "metadata": {},
   "outputs": [
    {
     "data": {
      "text/plain": [
       "[53, 50, 53, 48, 69, 39, 12, 17, 21, 15, 15, 31, 62, 78, 23, 17, 25, 28, 38, 16]"
      ]
     },
     "execution_count": 2,
     "metadata": {},
     "output_type": "execute_result"
    }
   ],
   "source": [
    "data = [53, 50, 53, 48, 69, 39, 12, 17, 21, 15, 15, 31, 62, 78, 23, 17, 25, 28, 38, 16]"
   ]
  },
  {
   "cell_type": "code",
   "execution_count": 3,
   "metadata": {},
   "outputs": [
    {
     "data": {
      "image/png": "[encoded data removed]"
     },
     "metadata": {},
     "output_type": "display_data"
    }
   ],
   "source": [
    "P.histogram(data,\n",
    "    plottitle: \"Throughput histogram\",\n",
    "    xlabel: \"Throughput (items per 2 weeks)\",\n",
    "    ylabel: \"Frequency\",\n",
    "    yrange: '[0:5]')\n",
    ":\"this is an inline image\""
   ]
  },
  {
   "cell_type": "markdown",
   "metadata": {},
   "source": [
    "Other parameters that affect the forecasting are listed below. Please adjust to your needs."
   ]
  },
  {
   "cell_type": "code",
   "execution_count": 4,
   "metadata": {},
   "outputs": [
    {
     "data": {
      "text/plain": [
       "[{1, 100}]"
      ]
     },
     "execution_count": 4,
     "metadata": {},
     "output_type": "execute_result"
    }
   ],
   "source": [
    "# The size of the backlog, e.g. 100 backlog items\n",
    "size = 1000\n",
    "\n",
    "# The time period (in days) that the throughput data is collected\n",
    "period = 15\n",
    "\n",
    "# The size of the bins (number of periods)\n",
    "binsize = 5\n",
    "\n",
    "# Number of iterations to use in the Monte Carlo\n",
    "iterations = 1000\n",
    "\n",
    "# Number of probes to use in the chi2 fit\n",
    "probes = 10_000\n",
    "\n",
    "# The range of the parameter to look for a (global) minimum\n",
    "initial = [{1,100}]"
   ]
  },
  {
   "cell_type": "markdown",
   "metadata": {},
   "source": [
    "## Preparation"
   ]
  },
  {
   "cell_type": "markdown",
   "metadata": {},
   "source": [
    "Next, we convert the throughput data to a histogram. To this end we group the data in bins of size 5 starting at 0."
   ]
  },
  {
   "cell_type": "markdown",
   "metadata": {},
   "source": [
    "__Note__. Here, we have grouped the data in bins of size 5. This is a bit of experimentation. A too small bin size will give many categories but with a few events per bin. This results is a large error per bin. On the other hand, a larger bin size provides more events per bin and a relatively smeller error but with less categories and therefore less data points to fit a distribution."
   ]
  },
  {
   "cell_type": "code",
   "execution_count": 5,
   "metadata": {},
   "outputs": [
    {
     "data": {
      "text/plain": [
       "[{15, 0.15, 0.06851192859049528, 0.27482375992342073}, {20, 0.3, 0.18768957690362428, 0.43588026413027636}, {25, 0.45, 0.3206378385081606, 0.5851694522985315}, {30, 0.5, 0.36721150008242087, 0.6327884999175791}, {35, 0.55, 0.41483054770146854, 0.6793621614918394}, {40, 0.65, 0.513235780746243, 0.7692135974636096}, {50, 0.75, 0.6162610054750528, 0.8539648329961009}, {55, 0.85, 0.7251762400765793, 0.9314880714095048}, {65, 0.9, 0.7827976428762097, 0.9656975423431892}, {70, 0.95, 0.8438262671806204, 0.993275152469804}, {80, 1.0, 0.9114867522921007, 1.0}]"
      ]
     },
     "execution_count": 5,
     "metadata": {},
     "output_type": "execute_result"
    }
   ],
   "source": [
    "hdata = U.to_bins data, {binsize,0}"
   ]
  },
  {
   "cell_type": "markdown",
   "metadata": {},
   "source": [
    "The data returned contains a list of tuples each describing a bin:\n",
    "* the end-point of the bin,\n",
    "* the proportional number of events for this bin (the total count is normalized to one),\n",
    "* the lower value of the error bound,\n",
    "* the upper value of the error bound."
   ]
  },
  {
   "cell_type": "markdown",
   "metadata": {},
   "source": [
    "As can be seen the sizes of the lower and upper bounds are different in value, i.e. they are asymmetrical. The contribution or weight to the likelihood function used in fitting known distributions will de different depending on whether the observed value if larger or smaller than the predicted value. This is specified by using the option `:linear` (see below). See [3] for details."
   ]
  },
  {
   "cell_type": "code",
   "execution_count": 6,
   "metadata": {},
   "outputs": [
    {
     "data": {
      "image/png": "[encoded data removed]"
     },
     "metadata": {},
     "output_type": "display_data"
    }
   ],
   "source": [
    "P.ecdf(hdata,\n",
    "    plottitle: \"Empirical CDF\",\n",
    "    xlabel: \"Throughput (items per 2 weeks)\",\n",
    "    ylabel: \"Probability\",\n",
    "    xrange: '[0:100]')\n",
    ":\"this is an inline image\""
   ]
  },
  {
   "cell_type": "markdown",
   "metadata": {},
   "source": [
    "## Simple forecast using the empirical data"
   ]
  },
  {
   "cell_type": "markdown",
   "metadata": {},
   "source": [
    "Using the histogram data for the throughput we perform a Monte Carlo simulation to get an estimation for the number of iterations needed to deplete the backlog. Since for a large enough number of samples results of a Monte Carlo simulation approximate the normal distribution. This provides a range for the uncertainty of the number of iterations. We express this as a probability using percentages."
   ]
  },
  {
   "cell_type": "code",
   "execution_count": 7,
   "metadata": {},
   "outputs": [
    {
     "name": "stdout",
     "output_type": "stream",
     "text": [
      "50%    => 29.0 units\n",
      "84%    => 32.0 units\n",
      "97.5%  => 35.0 units\n",
      "99.85% => 38.0 units\n"
     ]
    },
    {
     "data": {
      "text/plain": [
       ":ok"
      ]
     },
     "execution_count": 7,
     "metadata": {},
     "output_type": "execute_result"
    }
   ],
   "source": [
    "{avg,sd,all} = U.mc iterations, U.forecast_duration(data, size), collect_all?: true\n",
    "U.display {avg,sd,:+}"
   ]
  },
  {
   "cell_type": "code",
   "execution_count": 8,
   "metadata": {},
   "outputs": [
    {
     "data": {
      "image/png": "[encoded data removed]"
     },
     "metadata": {},
     "output_type": "display_data"
    }
   ],
   "source": [
    "P.histogram(all,\n",
    "    plottitle: \"Monte Carlo result for duration\",\n",
    "    xlabel: \"Duration (number of iterations)\",\n",
    "    ylabel: \"Frequency\",\n",
    "    xrange: '[0:50]')\n",
    ":\"this is an inline image\""
   ]
  },
  {
   "cell_type": "markdown",
   "metadata": {},
   "source": [
    "## First attempt to fit the data using a Poisson distribution"
   ]
  },
  {
   "cell_type": "markdown",
   "metadata": {},
   "source": [
    "Instead of directly using the raw data captured one can also use a known probability distribution. The parameter of the distribution is matched to the data. After matching the parameter value one uses the known distribution to forecast."
   ]
  },
  {
   "cell_type": "markdown",
   "metadata": {},
   "source": [
    "Here, we will use the __Poisson distribution__ [1]. This basically assumes that the data points are independent of each other. For most teams we expect this to be a more than reasonable choice."
   ]
  },
  {
   "cell_type": "code",
   "execution_count": 9,
   "metadata": {},
   "outputs": [
    {
     "data": {
      "text/plain": [
       "[probes: 10000, smoothing: false, model: :linear, saved?: true]"
      ]
     },
     "execution_count": 9,
     "metadata": {},
     "output_type": "execute_result"
    }
   ],
   "source": [
    "model = D.model {\"poisson\",period}\n",
    "options = [probes: probes, smoothing: false, model: :linear, saved?: true]"
   ]
  },
  {
   "cell_type": "markdown",
   "metadata": {},
   "source": [
    "The code below uses basic settings of the commands provided by `Chi2Fit`. More advanced options can be found at [2]. First a fixed number of random parameter values are tried to get a rough estimate. The option `probes` equals the number of tries. Furthermore, since we are fitting a probability distribution which has values on the interval `[0,1]` the errors are asymmetrical. This is specified by the option `linear`. "
   ]
  },
  {
   "cell_type": "code",
   "execution_count": 10,
   "metadata": {
    "scrolled": true
   },
   "outputs": [
    {
     "name": "stdout",
     "output_type": "stream",
     "text": [
      "Initial guess:\n",
      "    chi2:\t\t758393.3412123919\n",
      "    pars:\t\t[2.243114188316348]\n",
      "    ranges:\t\t{[2.243114188316348, 2.243114188316348]}\n",
      "\n"
     ]
    },
    {
     "data": {
      "text/plain": [
       ":ok"
      ]
     },
     "execution_count": 10,
     "metadata": {},
     "output_type": "execute_result"
    }
   ],
   "source": [
    "result = {_,_parameters,_,_saved} = F.chi2probe hdata, initial, {Distribution.cdf(model), &F.nopenalties/2}, options\n",
    "U.display result"
   ]
  },
  {
   "cell_type": "markdown",
   "metadata": {},
   "source": [
    "The result shows a very high value of the Chi-squared statistic at the minimum. This is a first indication that a Poisson distribution does not describe our team's data very well. This is surprising and not what we would expect.\n",
    "\n",
    "Let's try to figure out what is going on."
   ]
  },
  {
   "cell_type": "markdown",
   "metadata": {},
   "source": [
    "## Analysis"
   ]
  },
  {
   "cell_type": "markdown",
   "metadata": {},
   "source": [
    "To analyse the team's throughput data we start with the most recent throughput data point and each time add a data point until we reach the end. Doing this we form a sequence of data points where at every step the new sequence is one item longer than the previous sequence."
   ]
  },
  {
   "cell_type": "markdown",
   "metadata": {},
   "source": [
    "For each such formed subsequence we run a fit against the Poisson distribution. The result is shown below."
   ]
  },
  {
   "cell_type": "code",
   "execution_count": 11,
   "metadata": {},
   "outputs": [
    {
     "data": {
      "text/plain": [
       "[{{9.071053470133408e-33, 1.0049703427458812}, 0}, {{0.01662588668916018, 3.182279601472663}, 1}, {{0.17988984076898581, 3.325009970930553}, 2}, {{0.1445104916643348, 3.2508207024172537}, 3}, {{0.036134687231965855, 3.4132230019381264}, 4}, {{0.036381269944899076, 3.312561296608398}, 5}, {{25632.9303993888, 2.2819523945633744}, 6}, {{19608.56876245674, 2.2764566511457502}, 7}, {{15340.852797647462, 2.277373527744813}, 8}, {{90727.06324893293, 2.1701043632753505}, 9}, {{170908.1441146137, 2.108638770225964}, 10}, {{142027.69228065666, 2.1018672899377306}, 11}, {{559521.0145206252, 2.2026943204622524}, 12}, {{1584813.1430503663, 2.252231715105347}, 13}, {{1372755.2416254685, 2.244356963845306}, 14}, {{1198480.4549526616, 2.249302874705055}, 15}, {{1056966.6561416877, 2.246148711799301}, 16}, {{939759.7432170652, 2.2444053840463365}, 17}, {{838873.2102029142, 2.2458672675262323}, 18}, {{759794.7929476947, 2.255436039915598}, 19}]"
      ]
     },
     "execution_count": 11,
     "metadata": {},
     "output_type": "execute_result"
    }
   ],
   "source": [
    "history = 0..length(data)-1\n",
    "|> Stream.map(fn i ->\n",
    "        data\n",
    "        |> Enum.slice(0..i)\n",
    "        |> U.to_bins({binsize,0})\n",
    "        |> F.chi2probe(initial, {Distribution.cdf(model), &F.nopenalties/2}, options)\n",
    "    end)\n",
    "|> Stream.map(fn {chi,[par],_,_} -> {chi,par} end)\n",
    "|> Enum.with_index()"
   ]
  },
  {
   "cell_type": "markdown",
   "metadata": {},
   "source": [
    "Next, we plot the results for each subsequence. We get two sets of data points corresponding to the value of chi-squared at the minimum and the value for the fitted delivery rate."
   ]
  },
  {
   "cell_type": "code",
   "execution_count": 12,
   "metadata": {},
   "outputs": [
    {
     "data": {
      "image/png": "[encoded data removed]"
     },
     "metadata": {},
     "output_type": "display_data"
    }
   ],
   "source": [
    "G.plot([\n",
    "    ~w(set terminal png)a,\n",
    "    ~w(set output)a,\n",
    "    [:set, :yrange, '[-0.01:10000000]'],\n",
    "    ~w(set logscale y)a,\n",
    "    [:plot, G.list([\n",
    "            ~w|'-' u 1:2 w points ls 1 title \"Delivery rate\"|a,\n",
    "            [\"\", :u, '1:2', :w, :points, :ls, 3, :title, \"chi minimum\"]\n",
    "        ])\n",
    "    ]\n",
    "  ],\n",
    "  [\n",
    "      history |> Enum.map(fn {{_,rate},x} -> [x,rate] end),\n",
    "      history |> Enum.map(fn {{chi,_},x} -> [x,chi] end)\n",
    "  ])\n",
    "P.capture() |> Base.encode64 |> IO.write\n",
    ":\"this is an inline image\""
   ]
  },
  {
   "cell_type": "markdown",
   "metadata": {},
   "source": [
    "The graph above shows the logarithm of the chi-squared at the minimum as the blue stars. This clearly shows jumps at the sixth, ninth, and twelth data points. The same is true for the delivery rate although this is most evident at the sixth data point!"
   ]
  },
  {
   "cell_type": "markdown",
   "metadata": {},
   "source": [
    "This shows that the most probable explanation is that the delivery rate is not constant for the team over time.\n",
    "One of the assumptions for ther Poisson distribution to describe the data is a constant delivery rate [1], i.e. the delivery rate does not change over time."
   ]
  },
  {
   "cell_type": "markdown",
   "metadata": {},
   "source": [
    "If we take the 5 most recent data points we can fit this with a Poisson distribution. The downside is that we loose many of our data points resulting in a large error on the fitted delivery rate."
   ]
  },
  {
   "cell_type": "markdown",
   "metadata": {},
   "source": [
    "### Automated"
   ]
  },
  {
   "cell_type": "markdown",
   "metadata": {},
   "source": [
    "Luckily, `Chi2fit` provides a function that automates the finding of the jumps in how well a distribution is able to describe our data."
   ]
  },
  {
   "cell_type": "code",
   "execution_count": 13,
   "metadata": {},
   "outputs": [
    {
     "data": {
      "text/plain": [
       "[{0.036298739064136686, [3.3105360191533375], '5250E\\''}, {0.6734317357994228, [1.1964637990990683], [12, 17, 21, 15, 15, 31]}, {5.800820523615346e-4, [4.3540473193510625], '>N'}, {0.04491801200236626, [1.578301449162081], [23, 17, 25, 28, 38, 16]}]"
      ]
     },
     "execution_count": 13,
     "metadata": {},
     "output_type": "execute_result"
    }
   ],
   "source": [
    "trends = F.find_all(data, [{:bin,binsize}, {:fitmodel, model}, {:init, initial} |options])"
   ]
  },
  {
   "cell_type": "markdown",
   "metadata": {},
   "source": [
    "`F.find_all` returns a list of tuples. Each tuple includes the elements:\n",
    "\n",
    "1. value of chi-squared at the found minimum,\n",
    "1. list of parameter values at the minimum,\n",
    "1. subsequence of data"
   ]
  },
  {
   "cell_type": "markdown",
   "metadata": {},
   "source": [
    "## Second attempt"
   ]
  },
  {
   "cell_type": "markdown",
   "metadata": {},
   "source": [
    "We take a subset of the original data set, namely the most recent 6 data points."
   ]
  },
  {
   "cell_type": "code",
   "execution_count": 14,
   "metadata": {},
   "outputs": [
    {
     "data": {
      "text/plain": [
       "[{40, 0.16666666666666666, 0.02262494120997527, 0.45322913427940825}, {50, 0.5, 0.24185253403145093, 0.7581474659685491}, {55, 0.8333333333333334, 0.5467708657205917, 0.9773750587900247}, {70, 1.0, 0.7369106554956896, 1.0}]"
      ]
     },
     "execution_count": 14,
     "metadata": {},
     "output_type": "execute_result"
    }
   ],
   "source": [
    "# Extract the most recent data sequence from the head of `trends`\n",
    "{_,_,data} = hd trends\n",
    "hdata = U.to_bins data, {binsize,0}"
   ]
  },
  {
   "cell_type": "markdown",
   "metadata": {},
   "source": [
    "## Forecasting using a Poisson distribution"
   ]
  },
  {
   "cell_type": "markdown",
   "metadata": {},
   "source": [
    "First, run an initial fit to get an estimate of the parameters."
   ]
  },
  {
   "cell_type": "code",
   "execution_count": 15,
   "metadata": {
    "scrolled": true
   },
   "outputs": [
    {
     "name": "stdout",
     "output_type": "stream",
     "text": [
      "Initial guess:\n",
      "    chi2:\t\t0.03658634067587007\n",
      "    pars:\t\t[3.303671412343659]\n",
      "    ranges:\t\t{[3.0710423614985243, 3.5658573339602837]}\n",
      "\n"
     ]
    },
    {
     "data": {
      "text/plain": [
       ":ok"
      ]
     },
     "execution_count": 15,
     "metadata": {},
     "output_type": "execute_result"
    }
   ],
   "source": [
    "result = {_,parameters,_,saved} = F.chi2probe hdata, initial, {Distribution.cdf(model), &F.nopenalties/2}, options\n",
    "U.display result"
   ]
  },
  {
   "cell_type": "markdown",
   "metadata": {},
   "source": [
    "The errors reported is the found range of parameter values where the corresponding `chi2` values are within 1 of the found minimum value."
   ]
  },
  {
   "cell_type": "markdown",
   "metadata": {},
   "source": [
    "After roughly locating the minimum we do a more precise (and computationally more expensive) search for the minimum."
   ]
  },
  {
   "cell_type": "code",
   "execution_count": 16,
   "metadata": {},
   "outputs": [
    {
     "name": "stdout",
     "output_type": "stream",
     "text": [
      "Final:\n",
      "    chi2:\t\t0.03628574276222343\n",
      "    Degrees of freedom:\t3\n",
      "    gradient:\t\t[-6.2495214917223885e-12]\n",
      "    parameters:\t\t[3.309353062586756]\n",
      "    errors:\t\t[0.32807215518642774]\n",
      "    ranges:\n",
      "\t\t\tchi2:\t\t0.03628574276222343\t-\t1.0090360306540513\n",
      "\t\t\tparameter:\t3.0710423614985243\t-\t3.5658573339602837\n"
     ]
    },
    {
     "data": {
      "text/plain": [
       ":ok"
      ]
     },
     "execution_count": 16,
     "metadata": {},
     "output_type": "execute_result"
    }
   ],
   "source": [
    "options = [{:probes,saved}|options]\n",
    "result = {_,cov,parameters,_} = F.chi2fit hdata, {parameters, Distribution.cdf(model), &F.nopenalties/2}, 100, options\n",
    "U.display(hdata,model,result,options)"
   ]
  },
  {
   "cell_type": "markdown",
   "metadata": {},
   "source": [
    "For a (local) minimum the value of the gradient should be very close to zero which is the case. The value of chi-squared at the minimum is much, much smaller than 1. Usually values below 1 indicate a very good fit. Large errors on the data make it easy to fit a curve resulting in low values for chi-squared. Here, it means that the errors in the data are large."
   ]
  },
  {
   "cell_type": "code",
   "execution_count": 17,
   "metadata": {},
   "outputs": [
    {
     "data": {
      "image/png": "[encoded data removed]"
     },
     "metadata": {},
     "output_type": "display_data"
    }
   ],
   "source": [
    "P.ecdf(hdata,\n",
    "    plottitle: \"Fit of Poisson to CDF\",\n",
    "    xlabel: \"Throughput (items per 2 weeks)\",\n",
    "    ylabel: \"Probability\",\n",
    "    xrange: '[0:100]',\n",
    "    title: \"Poisson\",\n",
    "    func: & Distribution.cdf(model).(&1,parameters))\n",
    ":\"this is an inline image\""
   ]
  },
  {
   "cell_type": "code",
   "execution_count": 20,
   "metadata": {},
   "outputs": [
    {
     "data": {
      "image/png": "[encoded data removed]"
     },
     "metadata": {},
     "output_type": "display_data"
    }
   ],
   "source": [
    "rate = hd(parameters)\n",
    "pdf = fn x -> :math.exp(x*:math.log(rate*period)-rate*period-Math.lgamma(x+1.0)) end\n",
    "P.pdf(data,\n",
    "    plottitle: \"Fit of PDF to Poisson\",\n",
    "    xlabel: \"Throughput (items per 2 weeks)\",\n",
    "    ylabel: \"Frequency\",\n",
    "    yrange: '[0:0.15]',\n",
    "    pdf: pdf,\n",
    "    title: \"Poisson\",\n",
    "    bin: binsize)\n",
    ":\"this is an inline image\""
   ]
  },
  {
   "cell_type": "markdown",
   "metadata": {},
   "source": [
    "Again, using a Monte Carlo simulation we estimate the number of iterations and the range to expect."
   ]
  },
  {
   "cell_type": "code",
   "execution_count": 21,
   "metadata": {
    "scrolled": true
   },
   "outputs": [
    {
     "name": "stdout",
     "output_type": "stream",
     "text": [
      "50%    => 21.0 units\n",
      "84%    => 22.0 units\n",
      "97.5%  => 22.0 units\n",
      "99.85% => 23.0 units\n"
     ]
    },
    {
     "data": {
      "text/plain": [
       ":ok"
      ]
     },
     "execution_count": 21,
     "metadata": {},
     "output_type": "execute_result"
    }
   ],
   "source": [
    "[rate] = parameters\n",
    "{avg,sd,all} = U.mc iterations, fn -> U.forecast(fn -> Distribution.random(model).(parameters) end, size) end, collect_all?: true\n",
    "U.display {avg,sd,:+}"
   ]
  },
  {
   "cell_type": "code",
   "execution_count": 22,
   "metadata": {},
   "outputs": [
    {
     "data": {
      "image/png": "[encoded data removed]"
     },
     "metadata": {},
     "output_type": "display_data"
    }
   ],
   "source": [
    "P.histogram(all,\n",
    "    plottitle: \"Monte Carlo simulation for duration\",\n",
    "    xlabel: \"Duration (number of iterations)\",\n",
    "    ylabel: \"Frequency\",\n",
    "    xrange: '[0:30]')\n",
    ":\"this is an inline image\""
   ]
  },
  {
   "cell_type": "markdown",
   "metadata": {},
   "source": [
    "## Total Monte Carlo"
   ]
  },
  {
   "cell_type": "markdown",
   "metadata": {},
   "source": [
    "In the results of a Monte Carlo simulation the errors reported and the range of the number of iterations is the statistical error associated with the Monte Carlo simulation. It dopes not take into account the uncertainty of the parameter used in the fitted probability distribution function."
   ]
  },
  {
   "cell_type": "markdown",
   "metadata": {},
   "source": [
    "In Total Monte Carlo [4] multiple Monte Carlo simulations are done that correspond to the extreme values of the error bounds of the used parameters. The error results is of a different nature than the statistical error from the Monte Carlo simulation. These error reported separately."
   ]
  },
  {
   "cell_type": "code",
   "execution_count": 23,
   "metadata": {},
   "outputs": [
    {
     "name": "stdout",
     "output_type": "stream",
     "text": [
      "Number of iterations to complete the backlog:\n",
      "20.7 (+/- 0.7) (-2.2 +1.8)\n"
     ]
    },
    {
     "data": {
      "text/plain": [
       ":ok"
      ]
     },
     "execution_count": 23,
     "metadata": {},
     "output_type": "execute_result"
    }
   ],
   "source": [
    "# Pick up the error in the paramater value\n",
    "param_errors = cov |> M.diagonal |> Enum.map(fn x->x|>abs|>:math.sqrt end)\n",
    "[sd_rate] = param_errors\n",
    "\n",
    "{avg_min,_} = U.mc(iterations, fn -> U.forecast(fn -> Distribution.random(model).([rate-sd_rate]) end, size) end)\n",
    "{avg_max,_} = U.mc(iterations, fn -> U.forecast(fn -> Distribution.random(model).([rate+sd_rate]) end, size) end)\n",
    "\n",
    "sd_min = avg - avg_max\n",
    "sd_plus = avg_min - avg\n",
    "\n",
    "IO.puts \"Number of iterations to complete the backlog:\"\n",
    "IO.puts \"#{Float.round(avg,1)} (+/- #{Float.round(sd,1)}) (-#{Float.round(sd_plus,1)} +#{Float.round(sd_min,1)})\""
   ]
  },
  {
   "cell_type": "markdown",
   "metadata": {},
   "source": [
    "The first error is symmetric while the second error reported is asymmetric."
   ]
  },
  {
   "cell_type": "markdown",
   "metadata": {},
   "source": [
    "## References"
   ]
  },
  {
   "cell_type": "markdown",
   "metadata": {},
   "source": [
    "[1] _Poisson distribution_, https://en.wikipedia.org/wiki/Poisson_distribution/<br>\n",
    "[2] _Chi2Fit_, Pieter Rijken, 2018, https://hex.pm/packages/chi2fit<br>\n",
    "[3] _Asymmetric errors_, Roger Barlow, Manchester University, UK and Stanford University, USA, PHYSTAT2003, SLAC, Stanford, California, September 8-11, 2003, https://www.slac.stanford.edu/econf/C030908/papers/WEMT002.pdf<br>\n",
    "[4] _Efficient use of Monte Carlo: uncertainty propagation_, D. Rochman et. al., Nuclear Science and Engineering, 2013, ftp://ftp.nrg.eu/pub/www/talys/bib_rochman/fastTMC.pdf"
   ]
  }
 ],
 "metadata": {
  "kernelspec": {
   "display_name": "Elixir",
   "language": "Elixir",
   "name": "ielixir"
  },
  "language_info": {
   "codemirror_mode": "elixir",
   "file_extension": "ex",
   "mimetype": "text/x-elixir",
   "name": "elixir",
   "nbconvert_exporter": "",
   "pygments_lexer": "elixir",
   "version": "1.6.6"
  }
 },
 "nbformat": 4,
 "nbformat_minor": 2
}
