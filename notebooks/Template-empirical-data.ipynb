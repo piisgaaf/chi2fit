{
 "cells": [
  {
   "cell_type": "markdown",
   "metadata": {
    "slideshow": {
     "slide_type": "slide"
    }
   },
   "source": [
    "# Template: Forecasting - based on empirical data"
   ]
  },
  {
   "cell_type": "code",
   "execution_count": null,
   "metadata": {
    "slideshow": {
     "slide_type": "skip"
    }
   },
   "outputs": [],
   "source": [
    "alias Chi2fit.Utilities, as: U\n",
    "alias Chi2fit.Distribution, as: D\n",
    "alias Chi2fit.Fit, as: F\n",
    "alias Gnuplotlib, as: P"
   ]
  },
  {
   "cell_type": "markdown",
   "metadata": {},
   "source": [
    "#### Using this template\n",
    "\n",
    "Follow these steps to start with forecasting based on your team's capability to deliver:\n",
    "\n",
    "1. Extract the delivery dates of completed items from your favourite tool ([Team data](#Team-data))\n",
    "1. Adjust any simulation parameters ([Simulation settings](#Simulation-settings)) to your needs\n",
    "1. Run the initial simulation to get a first forecast ([Simple forecast using the empirical data: number of completed items](#Simple-forecast-using-the-empirical-data:-number-of-completed-items))\n",
    "1. Select the most recent subsequence of deliveries ([Finding the largest set of most recent relevant data](#Finding-the-largest-set-of-most-recent-relevant-data))\n",
    "1. Run the simulation based on the found subsequence ([Forecast: number of completed items revisited](#Forecast:-number-of-completed-items-revisited))"
   ]
  },
  {
   "cell_type": "markdown",
   "metadata": {},
   "source": [
    "#### README\n",
    "\n",
    "The [README](README.ipynb) contains more information on how to use the notebooks."
   ]
  },
  {
   "cell_type": "markdown",
   "metadata": {
    "slideshow": {
     "slide_type": "slide"
    }
   },
   "source": [
    "## Data and simulation set-up"
   ]
  },
  {
   "cell_type": "markdown",
   "metadata": {},
   "source": [
    "In the set-up below the data is assumed to be uploaded as a file named `team.csv`. It assumes that one column holds the date when an item is completed. The time stamps are supposed to be in the format `<day>/<month as a 3 letter code>/<2 digit year> <hours>:<minutes>`. A tool that uses this format is [Jira](https://jira.atlassian.com/)."
   ]
  },
  {
   "cell_type": "markdown",
   "metadata": {},
   "source": [
    "An example file is\n",
    "```csv\n",
    "Issue key,Issue id,Issue Type,Custom field (Status),Status,Custom field (Created),Created,Resolved\n",
    "<key1>,<id>,Story,,Done,,07/May/19 13:21,13/May/19 12:37\n",
    "<key2>,<id>,Story,,Done,,07/May/19 13:20,10/May/19 09:31\n",
    ".....\n",
    "```"
   ]
  },
  {
   "cell_type": "markdown",
   "metadata": {
    "slideshow": {
     "slide_type": "subslide"
    }
   },
   "source": [
    "#### Team data"
   ]
  },
  {
   "cell_type": "code",
   "execution_count": null,
   "metadata": {
    "scrolled": false,
    "slideshow": {
     "slide_type": "fragment"
    }
   },
   "outputs": [],
   "source": [
    "#\n",
    "# A completed items have a resolution date which is in the column \"Resolved\"\n",
    "# Jira exports time data as shown above.\n",
    "#\n",
    "deliveries = \"/app/notebooks/team.csv\"\n",
    "|> File.stream!\n",
    "|> U.csv_to_list(\"Resolved\", header?: true, format: \"{0D}/{Mshort}/{YY} {h24}:{0m}\")\n",
    "IO.inspect(deliveries, print: false, limit: 3)\n",
    ":\"do not show this result in output\""
   ]
  },
  {
   "cell_type": "markdown",
   "metadata": {},
   "source": [
    "#### Extract the Cycle Times\n",
    "\n",
    "The definition of _Cycle Time_ used here is:\n",
    "\n",
    "Cycle Time\n",
    ": \"...the time between two items emerging from a process\"\n",
    "\n",
    "Note: See [\"Essential Kanban Condensed\"](http://leankanban.com/wp-content/uploads/2016/06/Essential-Kanban-Condensed.pdf)"
   ]
  },
  {
   "cell_type": "code",
   "execution_count": null,
   "metadata": {
    "scrolled": false,
    "slideshow": {
     "slide_type": "fragment"
    }
   },
   "outputs": [],
   "source": [
    "# Cycle Times in number of days\n",
    "ctlist = deliveries\n",
    "|> Stream.chunk_every(2, 1, :discard)\n",
    "|> Stream.map(fn [d1,d2] -> NaiveDateTime.diff(d1,d2) end) # Calculate the time difference between two consecutive deliveries in seconds\n",
    "|> Enum.map(& &1/24/3600) # Convert the number of seconds to number of days\n",
    "IO.inspect(ctlist, print: false, limit: 3)\n",
    ":\"do not show this result in output\""
   ]
  },
  {
   "cell_type": "markdown",
   "metadata": {},
   "source": [
    "#### Extract the Delivery Rates"
   ]
  },
  {
   "cell_type": "code",
   "execution_count": null,
   "metadata": {
    "scrolled": false,
    "slideshow": {
     "slide_type": "fragment"
    }
   },
   "outputs": [],
   "source": [
    "# Every first and sixteenth of the month\n",
    "intervals = U.intervals()\n",
    "\n",
    "data = intervals\n",
    "|> U.throughput(deliveries)\n",
    "|> tl # Skip the first data point because it corresponds to an incomplete iteration\n",
    "\n",
    "IO.inspect Enum.zip(Enum.take(intervals, length(data)) |> tl, data)\n",
    ":\"do not show this result in output\""
   ]
  },
  {
   "cell_type": "markdown",
   "metadata": {
    "slideshow": {
     "slide_type": "subslide"
    }
   },
   "source": [
    "A visualization of the data using a histogram or frequency chart is shown below. The horizontal axis indicates the number of completed items in an iteration. The vertical axis shows how often a certain throughput occured."
   ]
  },
  {
   "cell_type": "code",
   "execution_count": null,
   "metadata": {
    "slideshow": {
     "slide_type": "fragment"
    }
   },
   "outputs": [],
   "source": [
    "P.histogram(data,\n",
    "    plottitle: \"Throughput histogram\",\n",
    "    xlabel: \"Throughput (items per 2 weeks)\",\n",
    "    ylabel: \"Frequency\",\n",
    "    xrange: '[0:100]',\n",
    "    yrange: '[0:3]')\n",
    ":\"this is an inline image\""
   ]
  },
  {
   "cell_type": "markdown",
   "metadata": {
    "slideshow": {
     "slide_type": "slide"
    }
   },
   "source": [
    "#### Simulation settings"
   ]
  },
  {
   "cell_type": "markdown",
   "metadata": {
    "slideshow": {
     "slide_type": "fragment"
    }
   },
   "source": [
    "Parameters that affect the forecasting are listed below. Please adjust to your needs."
   ]
  },
  {
   "cell_type": "code",
   "execution_count": null,
   "metadata": {
    "scrolled": true,
    "slideshow": {
     "slide_type": "fragment"
    }
   },
   "outputs": [],
   "source": [
    "# The size of the backlog, e.g. 100 backlog items\n",
    "size = 500\n",
    "\n",
    "# Number of iterations to use in the Monte Carlo\n",
    "iterations = 500000\n",
    "\n",
    "# Number of iterations to forecast the number of completed items\n",
    "periods = 6"
   ]
  },
  {
   "cell_type": "markdown",
   "metadata": {
    "slideshow": {
     "slide_type": "slide"
    }
   },
   "source": [
    "## Simple forecast using the empirical data: number of completed items"
   ]
  },
  {
   "cell_type": "code",
   "execution_count": null,
   "metadata": {
    "slideshow": {
     "slide_type": "fragment"
    }
   },
   "outputs": [],
   "source": [
    "{avg,sd,all} = U.mc iterations, U.forecast_items(data,periods), collect_all?: true\n",
    "U.display {avg,sd,:-}"
   ]
  },
  {
   "cell_type": "markdown",
   "metadata": {
    "slideshow": {
     "slide_type": "notes"
    }
   },
   "source": [
    "Here, the interpretation is that in 50% of the runs 230 work items or more have been completed in 6 iterations. While in 84% of the runs 179 or more work items have been completed.\n",
    "Finally, we expect with near certainty to always complete 79 work items or more."
   ]
  },
  {
   "cell_type": "code",
   "execution_count": null,
   "metadata": {
    "scrolled": false,
    "slideshow": {
     "slide_type": "fragment"
    }
   },
   "outputs": [],
   "source": [
    "P.histogram(all,\n",
    "    plottitle: \"Monte Carlo result for completed items after #{periods} iterations\",\n",
    "    xlabel: \"Completed items (count)\",\n",
    "    ylabel: \"Frequency\")\n",
    ":\"this is an inline image\""
   ]
  },
  {
   "cell_type": "markdown",
   "metadata": {
    "slideshow": {
     "slide_type": "slide"
    }
   },
   "source": [
    "## Finding the largest set of most recent relevant data"
   ]
  },
  {
   "cell_type": "code",
   "execution_count": null,
   "metadata": {
    "slideshow": {
     "slide_type": "fragment"
    }
   },
   "outputs": [],
   "source": [
    "# The size of the bins\n",
    "binsize = 5\n",
    "\n",
    "# Number of probes to use in the chi2 fit\n",
    "probes = 10_000\n",
    "\n",
    "# The range of the parameter to look for a (global) minimum\n",
    "initial = {1,100}"
   ]
  },
  {
   "cell_type": "markdown",
   "metadata": {},
   "source": [
    "Next, we use the Poisson distribution to model the data."
   ]
  },
  {
   "cell_type": "code",
   "execution_count": null,
   "metadata": {
    "slideshow": {
     "slide_type": "fragment"
    }
   },
   "outputs": [],
   "source": [
    "# Use the Poisson distribution as a model; in most cases this is a more than reasonable assumption\n",
    "model = D.model \"poisson\"\n",
    "options = [probes: probes, smoothing: false, model: :linear, saved?: true, bin: binsize, fitmodel: model, init: initial]\n",
    ":\"do not show this result in output\""
   ]
  },
  {
   "cell_type": "code",
   "execution_count": null,
   "metadata": {
    "slideshow": {
     "slide_type": "fragment"
    }
   },
   "outputs": [],
   "source": [
    "# Find points in the delivery dates that indicate a change in the model\n",
    "trends = F.find_all data, options\n",
    ":\"do not show this result in output\""
   ]
  },
  {
   "cell_type": "code",
   "execution_count": null,
   "metadata": {},
   "outputs": [],
   "source": [
    "trends\n",
    "|> Stream.transform(1, fn arg={_,_,data}, index -> { [{arg, Enum.at(history,index)}], index+length(data)} end)\n",
    "|> Enum.map(fn {{chi, [rate], sub}, date} ->\n",
    "    [ Timex.format!(date,~S({Mshort}, {D} {YYYY})), Float.round(chi,4), Float.round(rate,1), \"#{inspect(sub, charlists: :as_lists)}\" ]\n",
    "  end)\n",
    "|> U.as_table({\"End date of sequence\", \"Goodness of fit\", \"Delivery Rate\", \"Subsequence\"})\n",
    ":\"do not show this result in output\""
   ]
  },
  {
   "cell_type": "code",
   "execution_count": null,
   "metadata": {
    "slideshow": {
     "slide_type": "fragment"
    }
   },
   "outputs": [],
   "source": [
    "# Pick the first (and most recent subsequence); extract the subsequence\n",
    "{_, _, subdata} = hd(trends)"
   ]
  },
  {
   "cell_type": "markdown",
   "metadata": {},
   "source": [
    "## Forecast: number of completed items revisited"
   ]
  },
  {
   "cell_type": "code",
   "execution_count": null,
   "metadata": {},
   "outputs": [],
   "source": [
    "# If you're not interested in plotting a histogram of the simulation data, use `collect_all?: false`\n",
    "{avg,sd,all} = U.mc iterations, U.forecast_items(subdata,periods), collect_all?: true\n",
    "U.display {avg,sd,:-}"
   ]
  },
  {
   "cell_type": "markdown",
   "metadata": {
    "slideshow": {
     "slide_type": "notes"
    }
   },
   "source": [
    "Here, the interpretation is that in 50% of the runs 332 work items or more have been completed in 6 iterations. While in 84% of the runs 308 or more work items have been completed.\n",
    "Finally, we expect with near certainty to always complete 259 work items or more."
   ]
  },
  {
   "cell_type": "code",
   "execution_count": null,
   "metadata": {},
   "outputs": [],
   "source": [
    "P.histogram(all,\n",
    "    plottitle: \"Monte Carlo result for completed items after #{periods} iterations\",\n",
    "    xlabel: \"Completed items (count)\",\n",
    "    ylabel: \"Frequency\")\n",
    ":\"this is an inline image\""
   ]
  }
 ],
 "metadata": {
  "kernelspec": {
   "display_name": "Elixir",
   "language": "Elixir",
   "name": "ielixir"
  },
  "language_info": {
   "codemirror_mode": "elixir",
   "file_extension": "ex",
   "mimetype": "text/x-elixir",
   "name": "elixir",
   "nbconvert_exporter": "",
   "pygments_lexer": "elixir",
   "version": "1.6.6"
  },
  "rise": {
   "autolaunch": false,
   "progress": true,
   "scroll": true,
   "slideNumber": true,
   "start_slideshow_at": "beginning",
   "theme": "sky",
   "transition": "zoom"
  }
 },
 "nbformat": 4,
 "nbformat_minor": 2
}
