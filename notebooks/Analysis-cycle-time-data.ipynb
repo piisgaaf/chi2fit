{
 "cells": [
  {
   "cell_type": "markdown",
   "metadata": {
    "slideshow": {
     "slide_type": "slide"
    }
   },
   "source": [
    "# Analysis - cycle time data\n",
    "\n",
    "Let's first define what _Cycle Time_ means or how it's defined for the purpose of this notebook:\n",
    "\n",
    "__Cycle Time__:\n",
    "  > \"...the time between two items emerging from a process\"\n",
    "\n",
    "This notebook illustrates an analysis and forecasting for data based on _Cycle Time_ as defined above.\n",
    "In particular the following aspects are considered:\n",
    "\n",
    "* working days versus calendar days\n",
    "* working hours versus 24h\n",
    "* batches of deliveries or single items\n",
    "* consistency with the 'Delivery Rate'\n",
    "* noise in the data due to sloppy/faulty entry dates of the data"
   ]
  },
  {
   "cell_type": "markdown",
   "metadata": {
    "slideshow": {
     "slide_type": "subslide"
    }
   },
   "source": [
    "## Table of contents\n",
    "\n",
    "* [Set-up](#Set-up)\n",
    "* [Data and simulation set-up](#Data-and-simulation-set-up)\n",
    "* [Data analysis](#Data-analysis)\n",
    "* [Empirical CDF](#Empirical-CDF)\n",
    "* [References](#References)"
   ]
  },
  {
   "cell_type": "markdown",
   "metadata": {
    "slideshow": {
     "slide_type": "skip"
    }
   },
   "source": [
    "## Set-up"
   ]
  },
  {
   "cell_type": "code",
   "execution_count": 13,
   "metadata": {
    "slideshow": {
     "slide_type": "skip"
    }
   },
   "outputs": [],
   "source": [
    "import Chi2fit.CSV\n",
    "alias Chi2fit.Distribution, as: D\n",
    "alias Chi2fit.Gnuplotlib, as: G\n",
    "import Chi2fit.Statistics\n",
    "import Chi2fit.Times\n",
    "alias Chi2fit.Utilities, as: U\n",
    ":\"do not show this result in output\""
   ]
  },
  {
   "cell_type": "markdown",
   "metadata": {
    "slideshow": {
     "slide_type": "slide"
    }
   },
   "source": [
    "## Data and simulation set-up\n",
    "\n",
    "The data set (`team.csv`) consists of several hundreds of completed items in the span of 1 year. In this case the data is exported from [Jira](http://jira.atlassian.com). Here, we take as a completion date the resolution times."
   ]
  },
  {
   "cell_type": "code",
   "execution_count": 3,
   "metadata": {},
   "outputs": [
    {
     "name": "stdout",
     "output_type": "stream",
     "text": [
      "[~N[2019-05-13 13:03:00], ~N[2019-05-13 11:42:00], ~N[2019-05-13 09:24:00], ...]\n",
      "Number of completed items: 879\n"
     ]
    }
   ],
   "source": [
    "#\n",
    "# Completed items have a resolution date which is in the column \"Resolved\"\n",
    "# Jira exports time data as shown above.\n",
    "#\n",
    "deliveries = \"/app/notebooks/data/team.csv\"\n",
    "|> File.stream!\n",
    "|> csv_to_list(\"Resolved\", header?: true, format: \"{0D}/{Mshort}/{YY} {h24}:{0m}\")\n",
    "\n",
    "IO.inspect(deliveries, print: false, limit: 3)\n",
    "IO.puts \"Number of completed items: #{length(deliveries)}\"\n",
    ":\"do not show this result in output\""
   ]
  },
  {
   "cell_type": "markdown",
   "metadata": {
    "slideshow": {
     "slide_type": "subslide"
    }
   },
   "source": [
    "First, we set some parameters that will be used later on in this notebook. Especially important for analyzing the data, is that we need to make a choice for how to handle:\n",
    "\n",
    "* working days vs calendar days,\n",
    "* working hours vs 24h,\n",
    "* look at batches of deliveries or at single deliveries,\n",
    "* decide on the size of a cluster of data for fitting to a known distribution."
   ]
  },
  {
   "cell_type": "code",
   "execution_count": 8,
   "metadata": {
    "slideshow": {
     "slide_type": "skip"
    }
   },
   "outputs": [],
   "source": [
    "##\n",
    "## Data analysis\n",
    "##\n",
    "\n",
    "# Working hours: 8AM to 8PM\n",
    "workhours = {8,20}\n",
    "\n",
    "# Correct for working days and/or working hours (:weekday, :worktime, :\"weekday+worktime\")\n",
    "correct = :\"weekday+worktime\"\n",
    "\n",
    "# Cutoff for minimum amount of time between consecutive deliveries (15/12/60 corresponds to 15 minutes)\n",
    "cutoff = 15/(12*60)\n",
    "\n",
    "# Size of the bins to group the data (2/24 means a granularity of 2 hours)\n",
    "binsize = 2/12\n",
    ":\"do not show this result in output\""
   ]
  },
  {
   "cell_type": "code",
   "execution_count": 5,
   "metadata": {
    "slideshow": {
     "slide_type": "skip"
    }
   },
   "outputs": [],
   "source": [
    "{startofday,endofday} = workhours\n",
    "hours_in_day = endofday - startofday\n",
    ":\"do not show this result in output\""
   ]
  },
  {
   "cell_type": "code",
   "execution_count": 6,
   "metadata": {},
   "outputs": [
    {
     "name": "stdout",
     "output_type": "stream",
     "text": [
      "[0.05625, 0.09583333333333334, 0.002777777777777778, ...]\n"
     ]
    }
   ],
   "source": [
    "# Cycle Times in number of calendar days\n",
    "ctlist = deliveries\n",
    "|> Stream.chunk_every(2, 1, :discard)\n",
    "|> Stream.map(fn [d1,d2] -> NaiveDateTime.diff(d1,d2) end) # Calculate the time difference between two consecutive deliveries in seconds\n",
    "|> Enum.map(& &1/24/3600) # Convert the number of seconds to number of days\n",
    "IO.inspect(ctlist, print: false, limit: 3)\n",
    ":\"do not show this result in output\""
   ]
  },
  {
   "cell_type": "code",
   "execution_count": 7,
   "metadata": {
    "scrolled": false,
    "slideshow": {
     "slide_type": "slide"
    }
   },
   "outputs": [
    {
     "data": {
      "image/png": "[encoded data removed]"
     },
     "metadata": {},
     "output_type": "display_data"
    }
   ],
   "source": [
    "G.histogram(ctlist,\n",
    "    bin: binsize,\n",
    "    plottitle: \"Cycle Time histogram\",\n",
    "    xlabel: \"Cycle Time (calendar days)\",\n",
    "    ylabel: \"Frequency\",\n",
    "    xrange: '[0:]')\n",
    ":\"this is an inline image\""
   ]
  },
  {
   "cell_type": "markdown",
   "metadata": {
    "slideshow": {
     "slide_type": "notes"
    }
   },
   "source": [
    "The histogram shows some 'strange' humps. It could be due to so-called multi-modal data. Muti-modal means that the data has a 'preference' for certain values (= the humps) and usually corresponds to different types of work. However, it is more likely to becaused by patterns in the data which we may be able to correct for."
   ]
  },
  {
   "cell_type": "markdown",
   "metadata": {
    "slideshow": {
     "slide_type": "slide"
    }
   },
   "source": [
    "## Data analysis\n",
    "\n",
    "On first site there appear to be bumps around _Cycle Times_ of a whole number of days. Second, between 0 and 1 the _Cycle Time_ exhibits a dip. There are two main factors that may be relevant and may explain this observed behaviour:\n",
    "\n",
    "1. __Work hours__. Most people have regularised working hours somewhere between 8AM and 18PM depending on how early they start work,\n",
    "1. __Weekdays__. People don't work during the weekends,\n",
    "1. __Sloppy administration__. What often happens is that work has completed at some time of the day and instead of immediately registering the work as done, this often happens a couple of hours later, or the next day, or even at the end of an iteration (just before reporting).\n",
    "\n",
    "First we will examine the first 2 factors. One way of handling the 3rd factor is to add a random noise to the completion dates and estimate the effect of this.\n",
    "\n",
    "For now, we'll assume no noise."
   ]
  },
  {
   "cell_type": "code",
   "execution_count": 11,
   "metadata": {
    "slideshow": {
     "slide_type": "skip"
    }
   },
   "outputs": [],
   "source": [
    "#\n",
    "# The noise to add to the delivery times to estimagte the error due to sloppy/faulty administration\n",
    "#\n",
    "\n",
    "# No noise\n",
    "noise = fn -> 0.0 end\n",
    "\n",
    "# Assume that in practice deliveries never are at exactly the same time. If so, then we'll further assume that\n",
    "# this is due to 'sloppy' administration. When this happens we set the _Cycle Time_ to a certain minimum space\n",
    "# between them (the cutoff)\n",
    "fun = fn dat -> dat\n",
    "  # Map the delivery times to numbers: the number of days since the epoch Jan 1st, 1970:\n",
    "  |> Stream.map(& NaiveDateTime.diff(&1, ~N[1970-01-01 00:00:00], :second)/(24*3600))\n",
    "\n",
    "  # Adjust the time for working hours: 8AM - 22PM\n",
    "  # This maps the period of working hours to the interval 0..1\n",
    "  |> adjust_times(correct: correct, workhours: workhours)\n",
    "\n",
    "  # Apply noise to our data\n",
    "  |> Stream.map(& &1+noise.())\n",
    "  \n",
    "  # Sort again to get properly ordered completeion dates\n",
    "  |> Enum.sort(& &1>&2)\n",
    "  \n",
    "  # Calculate time differences with cut-off\n",
    "  |> time_diff(cutoff: cutoff)\n",
    "end\n",
    ":\"do not show this result in output\""
   ]
  },
  {
   "cell_type": "markdown",
   "metadata": {
    "slideshow": {
     "slide_type": "slide"
    }
   },
   "source": [
    "Next, recalculate the _Cycle Times_ with the corrections specified above. This basically switches from _calendar days_ to _working days_."
   ]
  },
  {
   "cell_type": "code",
   "execution_count": 12,
   "metadata": {},
   "outputs": [
    {
     "data": {
      "image/png": "[encoded data removed]"
     },
     "metadata": {},
     "output_type": "display_data"
    }
   ],
   "source": [
    "# Cycle Times in number of days\n",
    "ctlist = deliveries\n",
    "|> fun.()\n",
    "\n",
    "ctlist |> G.histogram(\n",
    "    bin: binsize,\n",
    "    plottitle: \"Cycle Time histogram\",\n",
    "    xlabel: \"Cycle Time (calendar days)\",\n",
    "    ylabel: \"Frequency\",\n",
    "    xrange: '[0:]')\n",
    ":\"this is an inline image\""
   ]
  },
  {
   "cell_type": "markdown",
   "metadata": {
    "slideshow": {
     "slide_type": "notes"
    }
   },
   "source": [
    "The effect of the corrections is clearly visible in the chart:\n",
    "\n",
    "* much more smoothened graph without significant bumps,\n",
    "* no small bar to the left of the largest bar; this is caused by the cutoff.\n",
    "\n",
    "We did not take into account public holidays so this could still introduce small bumps but we expect that this effect is 'within' the noise of the data."
   ]
  },
  {
   "cell_type": "markdown",
   "metadata": {
    "slideshow": {
     "slide_type": "slide"
    }
   },
   "source": [
    "## Empirical CDF"
   ]
  },
  {
   "cell_type": "code",
   "execution_count": 14,
   "metadata": {
    "slideshow": {
     "slide_type": "skip"
    }
   },
   "outputs": [
    {
     "name": "stdout",
     "output_type": "stream",
     "text": [
      "878 Cycle Times reduced to 19 bins\n"
     ]
    }
   ],
   "source": [
    "hdata = ctlist |> to_bins({binsize,0})\n",
    "IO.puts \"#{length(ctlist)} Cycle Times reduced to #{length(hdata)} bins\"\n",
    ":\"do not show this result in output\""
   ]
  },
  {
   "cell_type": "markdown",
   "metadata": {},
   "source": [
    "The data returned contains a list of tuples each describing a bin:\n",
    "* the end-point of the bin,\n",
    "* the proportional number of events for this bin (the total count is normalized to one),\n",
    "* the lower value of the error bound,\n",
    "* the upper value of the error bound.\n",
    "\n",
    "As can be seen the sizes of the lower and upper bounds are different in value, i.e. they are asymmetrical. The contribution or weight to the likelihood function used in fitting known distributions will de different depending on whether the observed value if larger or smaller than the predicted value. This is specified by using the option `:linear` (see below). See [3] for details."
   ]
  },
  {
   "cell_type": "code",
   "execution_count": 15,
   "metadata": {
    "scrolled": false
   },
   "outputs": [
    {
     "data": {
      "image/png": "[encoded data removed]"
     },
     "metadata": {},
     "output_type": "display_data"
    }
   ],
   "source": [
    "G.ecdf(hdata,\n",
    "    plottitle: \"Empirical CDF\",\n",
    "    xlabel: \"Cycle Time (working days)\",\n",
    "    ylabel: \"Probability\",\n",
    "    xrange: '[0:8]')\n",
    ":\"this is an inline image\""
   ]
  },
  {
   "cell_type": "markdown",
   "metadata": {
    "slideshow": {
     "slide_type": "slide"
    }
   },
   "source": [
    "## References\n",
    "\n",
    "[1] _Erlang distribution_, https://en.wikipedia.org/wiki/Erlang_distribution\n",
    "\n",
    "[2]: _Chi2Fit_, Pieter Rijken, 2018, https://hex.pm/packages/chi2fit\n",
    "\n",
    "[3]: _Asymmetric errors_, Roger Barlow, Manchester University, UK and Stanford University, USA, PHYSTAT2003, SLAC, Stanford, California, September 8-11, 2003, https://www.slac.stanford.edu/econf/C030908/papers/WEMT002.pdf\n",
    "\n",
    "[4]: _Efficient use of Monte Carlo: uncertainty propagation_, D. Rochman et. al., Nuclear Science and Engineering, 2013, ftp://ftp.nrg.eu/pub/www/talys/bib_rochman/fastTMC.pdf"
   ]
  }
 ],
 "metadata": {
  "kernelspec": {
   "display_name": "Elixir",
   "language": "Elixir",
   "name": "ielixir"
  },
  "language_info": {
   "codemirror_mode": "elixir",
   "file_extension": "ex",
   "mimetype": "text/x-elixir",
   "name": "elixir",
   "nbconvert_exporter": "",
   "pygments_lexer": "elixir",
   "version": "1.11.2"
  }
 },
 "nbformat": 4,
 "nbformat_minor": 2
}
