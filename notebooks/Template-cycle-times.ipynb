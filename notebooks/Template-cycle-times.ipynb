{
 "cells": [
  {
   "cell_type": "markdown",
   "metadata": {},
   "source": [
    "# Template - forecasting - using Cycle Times"
   ]
  },
  {
   "cell_type": "markdown",
   "metadata": {},
   "source": [
    "Let's first define what _Cycle Time_ means or how it's defined for the purpose of this notebook:\n",
    "\n",
    "__Cycle Time__:\n",
    "  > \"...the time between two items emerging from a process\""
   ]
  },
  {
   "cell_type": "markdown",
   "metadata": {},
   "source": [
    "This notebook illustrates an analysis and forecasting for data based on _Cycle Time_ as defined above.\n",
    "In particular the following aspects are considered:\n",
    "\n",
    "* working days versus calendar days\n",
    "* working hours versus 24h\n",
    "* batches of deliveries or single items\n",
    "* consistency with the 'Delivery Rate'\n",
    "* noise in the data due to sloppy/faulty entry dates of the data"
   ]
  },
  {
   "cell_type": "markdown",
   "metadata": {},
   "source": [
    "## Set-up"
   ]
  },
  {
   "cell_type": "code",
   "execution_count": null,
   "metadata": {},
   "outputs": [],
   "source": [
    "require Chi2fit.Distribution\n",
    "alias Chi2fit.Distribution, as: D\n",
    "alias Chi2fit.Fit, as: F\n",
    "alias Chi2fit.Matrix, as: M\n",
    "alias Chi2fit.Utilities, as: U\n",
    "alias Gnuplotlib, as: P\n",
    "alias Exboost.Math\n",
    ":\"do not show this result in output\""
   ]
  },
  {
   "cell_type": "markdown",
   "metadata": {},
   "source": [
    "## Data and simulation set-up"
   ]
  },
  {
   "cell_type": "code",
   "execution_count": null,
   "metadata": {},
   "outputs": [],
   "source": [
    "#\n",
    "# Completed items have a resolution date which is in the column \"Resolved\"\n",
    "# Jira exports time data as shown above.\n",
    "#\n",
    "deliveries = \"/app/notebooks/<filename>\"\n",
    "|> File.stream!\n",
    "|> U.csv_to_list(\"Resolved\", header?: true, format: \"{0D}/{Mshort}/{YY} {h24}:{0m}\")\n",
    "\n",
    "IO.inspect(deliveries, print: false, limit: 3)\n",
    "IO.puts \"Number of completed items: #{length(deliveries)}\"\n",
    ":\"do not show this result in output\""
   ]
  },
  {
   "cell_type": "markdown",
   "metadata": {},
   "source": [
    "First, we set some parameters that will be used later on in this notebook. Especially important for analyzing the data, is that we need to make a choice for how to handle:\n",
    "\n",
    "* working days vs calendar days,\n",
    "* working hours vs 24h,\n",
    "* look at batches of deliveries or at single deliveries,\n",
    "* decide on the size of a cluster of data for fitting to a known distribution."
   ]
  },
  {
   "cell_type": "code",
   "execution_count": null,
   "metadata": {},
   "outputs": [],
   "source": [
    "##\n",
    "## Data analysis\n",
    "##\n",
    "\n",
    "# Working hours: 8AM to 8PM\n",
    "workhours = {8,20}\n",
    "\n",
    "# Correct for working days and/or working hours (:weekday, :worktime, :\"weekday+worktime\")\n",
    "correct = :\"weekday+worktime\"\n",
    "\n",
    "# Cutoff for minimum amount of time between consecutive deliveries (15/12/60 corresponds to 15 minutes)\n",
    "cutoff = 15/(12*60)\n",
    "\n",
    "# Size of the bins to group the data (2/24 means a granularity of 2 hours)\n",
    "binsize = 2/12\n",
    "\n",
    "# The noise to add to the delivery times to estimagte the error due to sloppy/faulty administration\n",
    "#noise = D.normal(0.0, 2.0/12)\n",
    "noise = fn -> 0.0 end # No noise\n",
    "\n",
    "##\n",
    "## Forecasting\n",
    "##\n",
    "\n",
    "# The size of the backlog, e.g. 100 backlog items\n",
    "size = 1000\n",
    "\n",
    "##\n",
    "## Monte Carlo simulations stuff\n",
    "##\n",
    "\n",
    "# Number of iterations to use in the Monte Carlo\n",
    "iterations = 100\n",
    "\n",
    "# Number of probes to use in the chi2 fit\n",
    "probes = 50_000\n",
    "\n",
    "##\n",
    "## Fitting a distribution\n",
    "##\n",
    "\n",
    "# The range of the parameter to look for a (global) minimum\n",
    "initial = [{0.1,50},{0.1,50}]\n",
    ":\"do not show this result in output\""
   ]
  },
  {
   "cell_type": "code",
   "execution_count": null,
   "metadata": {},
   "outputs": [],
   "source": [
    "{startofday,endofday} = workhours\n",
    "hours_in_day = endofday - startofday\n",
    ":\"do not show this result in output\""
   ]
  },
  {
   "cell_type": "code",
   "execution_count": null,
   "metadata": {},
   "outputs": [],
   "source": [
    "# Cycle Times in number of calendar days\n",
    "ctlist = deliveries\n",
    "|> Stream.chunk_every(2, 1, :discard)\n",
    "|> Stream.map(fn [d1,d2] -> NaiveDateTime.diff(d1,d2) end) # Calculate the time difference between two consecutive deliveries in seconds\n",
    "|> Enum.map(& &1/24/3600) # Convert the number of seconds to number of days\n",
    "IO.inspect(ctlist, print: false, limit: 3)\n",
    ":\"do not show this result in output\""
   ]
  },
  {
   "cell_type": "code",
   "execution_count": null,
   "metadata": {
    "scrolled": false
   },
   "outputs": [],
   "source": [
    "P.histogram(ctlist,\n",
    "    bin: binsize,\n",
    "    plottitle: \"Cycle Time histogram\",\n",
    "    xlabel: \"Cycle Time (calendar days)\",\n",
    "    ylabel: \"Frequency\",\n",
    "    xrange: '[0:]')\n",
    ":\"this is an inline image\""
   ]
  },
  {
   "cell_type": "markdown",
   "metadata": {},
   "source": [
    "## Data analysis"
   ]
  },
  {
   "cell_type": "markdown",
   "metadata": {},
   "source": [
    "On first site there appear to be bumps around _Cycle Times_ of a whole number of days. Second, between 0 and 1 the _Cycle Time_ exhibits a dip. There are two main factors that may be relevant and may explain this observed behaviour:\n",
    "\n",
    "1. __Work hours__. Most people have regularised working hours somewhere between 8AM and 18PM depending on how early they start work,\n",
    "1. __Weekdays__. People don't work during the weekends,\n",
    "1. __Sloppy administration__. What often happens is that work has completed at some time of the day and instead of immediately registering the work as done, this often happens a couple of hours later, or the next day, or even at the end of an iteration (just before reporting).\n",
    "\n",
    "First we will examine the first 2 factors. One way of handling the 3rd factor is to add a random noise to the completion dates and estimate the effect of this.\n",
    "\n",
    "For now, we'll assume no noise."
   ]
  },
  {
   "cell_type": "code",
   "execution_count": null,
   "metadata": {},
   "outputs": [],
   "source": [
    "# No noise\n",
    "noise = fn -> 0.0 end\n",
    "\n",
    "# Assume that in practice deliveries never are at exactly the same time. If so, then we'll further assume that\n",
    "# this is due to 'sloppy' administration. When this happens we set the _Cycle Time_ to a certain minimum space\n",
    "# between them (the cutoff)\n",
    "fun = fn dat -> dat\n",
    "  # Map the delivery times to numbers: the number of days since the epoch Jan 1st, 1970:\n",
    "  |> Stream.map(& NaiveDateTime.diff(&1, ~N[1970-01-01 00:00:00], :second)/(24*3600))\n",
    "\n",
    "  # Adjust the time for working hours: 8AM - 22PM\n",
    "  # This maps the period of working hours to the interval 0..1\n",
    "  |> U.adjust_times(correct: correct, workhours: workhours)\n",
    "\n",
    "  # Apply noise to our data\n",
    "  |> Stream.map(& &1+noise.())\n",
    "  \n",
    "  # Sort again to get properly ordered completeion dates\n",
    "  |> Enum.sort(& &1>&2)\n",
    "  \n",
    "  # Calculate time differences with cut-off\n",
    "  |> U.time_diff(cutoff: cutoff)\n",
    "end\n",
    ":\"do not show this result in output\""
   ]
  },
  {
   "cell_type": "markdown",
   "metadata": {},
   "source": [
    "Next, recalculate the _Cycle Times_ with the corrections specified above. This basically switches from _calendar days_ to _working days_."
   ]
  },
  {
   "cell_type": "code",
   "execution_count": null,
   "metadata": {},
   "outputs": [],
   "source": [
    "# Cycle Times in number of days\n",
    "ctlist = deliveries\n",
    "|> fun.()\n",
    "\n",
    "ctlist |> P.histogram(\n",
    "    bin: binsize,\n",
    "    plottitle: \"Cycle Time histogram\",\n",
    "    xlabel: \"Cycle Time (calendar days)\",\n",
    "    ylabel: \"Frequency\",\n",
    "    xrange: '[0:]')\n",
    ":\"this is an inline image\""
   ]
  },
  {
   "cell_type": "markdown",
   "metadata": {},
   "source": [
    "## Empirical CDF"
   ]
  },
  {
   "cell_type": "code",
   "execution_count": null,
   "metadata": {},
   "outputs": [],
   "source": [
    "hdata = ctlist |> U.to_bins({binsize,0})\n",
    "IO.puts \"#{length(ctlist)} Cycle Times reduced to #{length(hdata)} bins\"\n",
    ":\"do not show this result in output\""
   ]
  },
  {
   "cell_type": "markdown",
   "metadata": {},
   "source": [
    "The data returned contains a list of tuples each describing a bin:\n",
    "* the end-point of the bin,\n",
    "* the proportional number of events for this bin (the total count is normalized to one),\n",
    "* the lower value of the error bound,\n",
    "* the upper value of the error bound."
   ]
  },
  {
   "cell_type": "markdown",
   "metadata": {},
   "source": [
    "## Simple forecast using the empirical data"
   ]
  },
  {
   "cell_type": "code",
   "execution_count": null,
   "metadata": {},
   "outputs": [],
   "source": [
    "{avg,sd,all} = U.mc(iterations, U.forecast_items(ctlist, size), collect_all?: true)\n",
    "U.display {avg,sd,:+}\n",
    ":\"do not show this result in output\""
   ]
  },
  {
   "cell_type": "code",
   "execution_count": null,
   "metadata": {},
   "outputs": [],
   "source": [
    "P.histogram(all,\n",
    "    plottitle: \"Monte Carlo result for duration after the first item is delivered\",\n",
    "    xlabel: \"Duration (number of calendar days)\",\n",
    "    ylabel: \"Frequency\",\n",
    "    yrange: '[0:7]')\n",
    ":\"this is an inline image\""
   ]
  },
  {
   "cell_type": "markdown",
   "metadata": {},
   "source": [
    "## Forecasting using an Erlang distribution"
   ]
  },
  {
   "cell_type": "markdown",
   "metadata": {},
   "source": [
    "#### Fitting an Erlang distribution to the data"
   ]
  },
  {
   "cell_type": "code",
   "execution_count": null,
   "metadata": {
    "scrolled": true
   },
   "outputs": [],
   "source": [
    "model = D.model {\"erlang\", 1.0}\n",
    "options = [model: :linear]\n",
    "\n",
    "result = {_,cov,parameters,_} = F.chi2fit hdata, {[2.5], model[:fun], &F.nopenalties/2}, 50, model: :linear\n",
    "U.display(hdata,model,result,options)"
   ]
  },
  {
   "cell_type": "markdown",
   "metadata": {},
   "source": [
    "#### Second try: time between batches of 10 deliveries"
   ]
  },
  {
   "cell_type": "code",
   "execution_count": null,
   "metadata": {
    "scrolled": false
   },
   "outputs": [],
   "source": [
    "batch = 10\n",
    "binsize = 2/hours_in_day\n",
    "\n",
    "bdel = deliveries\n",
    "|> Stream.chunk_every(batch, batch, :discard)\n",
    "|> Stream.map(& hd &1)\n",
    "\n",
    "hdata = bdel\n",
    "|> U.binerror(fun, bin: binsize, iterations: 1, correct: correct, workhours: workhours, cutoff: cutoff)\n",
    "\n",
    "IO.puts \"#{length(ctlist)} Cycle Times reduced to #{length(hdata)} bins\"\n",
    ":\"do not show this result in output\""
   ]
  },
  {
   "cell_type": "markdown",
   "metadata": {},
   "source": [
    "Therefore, we will alter the data to determine the _Cycle Times_ between 10 completed items. We still expect an Erlang distribution and to be more specific, an Erlang-10 distribution since we will be considering batches of 10 deliveries."
   ]
  },
  {
   "cell_type": "code",
   "execution_count": null,
   "metadata": {},
   "outputs": [],
   "source": [
    "P.ecdf(hdata,\n",
    "    plottitle: \"Empirical CDF (batches of 10 items)\",\n",
    "    xlabel: \"Cycle Time (working days)\",\n",
    "    ylabel: \"Probability\",\n",
    "    xrange: '[0:15]')\n",
    ":\"this is an inline image\""
   ]
  },
  {
   "cell_type": "code",
   "execution_count": null,
   "metadata": {
    "scrolled": false
   },
   "outputs": [],
   "source": [
    "model = D.model {\"erlang\", batch*1.0}\n",
    "\n",
    "result = {_,cov,parameters,_} = F.chi2fit hdata, {[2.5], model[:fun], &F.nopenalties/2}, 50, model: :linear\n",
    "U.display(hdata,model,result,options)\n",
    ":\"do not show this result in output\""
   ]
  },
  {
   "cell_type": "markdown",
   "metadata": {},
   "source": [
    "#### Third try: considering only recent data"
   ]
  },
  {
   "cell_type": "markdown",
   "metadata": {},
   "source": [
    "Perhaps not all data is relevant. As a variation we will consider only data after January 1st, 2019.\n",
    "\n",
    "Again, batches of 10 deliveries."
   ]
  },
  {
   "cell_type": "code",
   "execution_count": null,
   "metadata": {},
   "outputs": [],
   "source": [
    "recent = deliveries\n",
    "|> Stream.filter(fn t -> Timex.after?(t, ~D[2019-01-01]) end)\n",
    "|> Stream.chunk_every(batch, batch, :discard)\n",
    "|> Stream.map(& hd &1)\n",
    "\n",
    "hdata = recent\n",
    "|> U.binerror(fun, bin: binsize, iterations: 1, correct: correct, workhours: workhours, cutoff: cutoff)\n",
    "\n",
    "IO.puts \"#{length(ctlist)} Cycle Times reduced to #{length(hdata)} bins\"\n",
    ":\"do not show this result in output\""
   ]
  },
  {
   "cell_type": "markdown",
   "metadata": {},
   "source": [
    "Next, perform a dit against the Erlang distribution."
   ]
  },
  {
   "cell_type": "code",
   "execution_count": null,
   "metadata": {
    "scrolled": false
   },
   "outputs": [],
   "source": [
    "result = {_,cov,[lambda],_} = F.chi2fit hdata, {[2.5], model[:fun], &F.nopenalties/2}, 50, model: :linear\n",
    "U.display(hdata,model,result,options)\n",
    ":\"do not show this result in output\""
   ]
  },
  {
   "cell_type": "code",
   "execution_count": null,
   "metadata": {},
   "outputs": [],
   "source": [
    "P.ecdf(hdata,\n",
    "    plottitle: \"Fit of Poisson to CDF\",\n",
    "    xlabel: \"Cycle Times (working days)\",\n",
    "    ylabel: \"Probability\",\n",
    "    title: \"Erlang_{10}\",\n",
    "    func: D.erlangCDF(batch*1.0,lambda))\n",
    ":\"this is an inline image\""
   ]
  },
  {
   "cell_type": "markdown",
   "metadata": {},
   "source": [
    "## Finding an appropriate subsequence"
   ]
  },
  {
   "cell_type": "markdown",
   "metadata": {},
   "source": [
    "Instead of manually removing old data from our data set, `Chi2fit` provides a function for partitioning the data set into longest subsequences that will fit the chosen model."
   ]
  },
  {
   "cell_type": "code",
   "execution_count": null,
   "metadata": {},
   "outputs": [],
   "source": [
    "batch = 10\n",
    "binsize = 2/hours_in_day\n",
    "\n",
    "options = [probes: probes, bin: binsize, init: List.duplicate({0.1,50.0},model[:df]), fitmodel: model, model: :linear]\n",
    "\n",
    "# Find points in the delivery dates that indicate a change in the model.\n",
    "# `find_all` is a lazy function, meaning it does not always traverse the entire data set.\n",
    "# In the example below, it stops after finding 5 jumping points.\n",
    "trends = bdel\n",
    "|> fun.()\n",
    "|> F.find_all(options)\n",
    "|> Enum.take(5)\n",
    ":\"do not show this result in output\""
   ]
  },
  {
   "cell_type": "code",
   "execution_count": null,
   "metadata": {},
   "outputs": [],
   "source": [
    "trends\n",
    "|> Enum.map(fn {chi,[rate],list} -> {chi, rate, Enum.sum(list), length(list)} end)\n",
    "|> U.as_table({\"Goodness of fit\", \"Delivery rate (items per working day)\", \"Duration (work days)\", \"Count of items\"})\n",
    ":\"do not show this result in output\""
   ]
  },
  {
   "cell_type": "code",
   "execution_count": null,
   "metadata": {},
   "outputs": [],
   "source": [
    "# Get the most recent sequence:\n",
    "{_chi,[lambda],list} = hd trends\n",
    "delivery_rate = lambda * 10 # items per 2 weeks\n",
    "startdate = Timex.shift(~D[2019-05-13], days: -round(Enum.sum(list)/5*7)) # work days to calendar days\n",
    "\n",
    "IO.puts ~s[The found sequence runs from #{Timex.format! startdate, \"{Mshort} {D}, {YYYY}\"} till #{Timex.format! ~D[2019-05-13], \"{Mshort} {D}, {YYYY}\"}]\n",
    "IO.puts \"Delivery rate = #{Float.round(delivery_rate,2)} items per 2 weeks\"\n",
    ":\"do not show this result in output\""
   ]
  },
  {
   "cell_type": "markdown",
   "metadata": {},
   "source": [
    "#### Forecasting"
   ]
  },
  {
   "cell_type": "code",
   "execution_count": null,
   "metadata": {},
   "outputs": [],
   "source": [
    "# The Erlang_1 distribution is equivalent to the Exponential distribution.\n",
    "# We could have also used Erlang_10 and divided size by 10. This gives equivalent results.\n",
    "{avg,sd} = U.mc(iterations, U.forecast_items(D.exponential(lambda), size))\n",
    "\n",
    "IO.puts \"Forecast using the parameter as fit with the Erlang_10 distribution:\"\n",
    "U.display {avg,sd,:+}\n",
    ":\"do not show this result in output\""
   ]
  },
  {
   "cell_type": "markdown",
   "metadata": {},
   "source": [
    "Or using the empirical data of the subsequence instead of the whole data set:"
   ]
  },
  {
   "cell_type": "code",
   "execution_count": null,
   "metadata": {},
   "outputs": [],
   "source": [
    "# Remember to divide size by 10 since `list` corresponds to cycle times of batches of 10\n",
    "{avg,sd} = U.mc(iterations, U.forecast_items(list, size/10))\n",
    "\n",
    "IO.puts \"Forecast directly using the subsequence of the data set:\"\n",
    "U.display {avg,sd,:+}\n",
    ":\"do not show this result in output\""
   ]
  }
 ],
 "metadata": {
  "kernelspec": {
   "display_name": "Elixir",
   "language": "Elixir",
   "name": "ielixir"
  },
  "language_info": {
   "codemirror_mode": "elixir",
   "file_extension": "ex",
   "mimetype": "text/x-elixir",
   "name": "elixir",
   "nbconvert_exporter": "",
   "pygments_lexer": "elixir",
   "version": "1.6.6"
  }
 },
 "nbformat": 4,
 "nbformat_minor": 2
}
