{
 "cells": [
  {
   "cell_type": "markdown",
   "metadata": {},
   "source": [
    "# Throughput Analysis"
   ]
  },
  {
   "cell_type": "markdown",
   "metadata": {},
   "source": [
    "Fitting data to known distributions use is done using [Chi2Fit](https://hex.pm/packages/chi2fit).\n",
    "\n",
    "This notebook describes the steps to do an analysis of throughput data. This supports the capability analysis of flow systems, like a kanban system.\n",
    "\n",
    "This notebook is compatible with the section 'Understanding leadtime' from the [Kanban Maturity Model](https://www.google.com/url?sa=t&rct=j&q=&esrc=s&source=web&cd=&ved=2ahUKEwiIi9Py19zwAhW2DWMBHdKYDz0QFjALegQIHRAD&url=https%3A%2F%2Fmauvisoft.com%2Fkmm-understanding-lead-time%2F&usg=AOvVaw1iDIcri4tDi3vxo1W6yJp-)"
   ]
  },
  {
   "cell_type": "markdown",
   "metadata": {},
   "source": [
    "## Table of contents\n",
    "\n",
    "* [Data and simulation set-up](#Data-and-simulation-set-up)\n",
    "* [Preparation](#Preparation)\n",
    "* [Forecasting using a Poisson distribution](#Forecasting-using-a-Poisson-distribution)\n",
    "* [Rate error propagation: Total Monte Carlo](#Rate-error-propagation:-Total-Monte-Carlo)\n",
    "* [References](#References)"
   ]
  },
  {
   "cell_type": "markdown",
   "metadata": {},
   "source": [
    "## Set-up"
   ]
  },
  {
   "cell_type": "code",
   "execution_count": 46,
   "metadata": {},
   "outputs": [
    {
     "data": {
      "text/plain": [
       "Exboost.Math"
      ]
     },
     "execution_count": 46,
     "metadata": {},
     "output_type": "execute_result"
    }
   ],
   "source": [
    "alias Chi2fit.Distribution, as: D\n",
    "alias Chi2fit.Fit, as: F\n",
    "alias Chi2fit.Matrix, as: M\n",
    "alias Chi2fit.Utilities, as: U\n",
    "alias Gnuplotlib, as: P\n",
    "alias Exboost.Math"
   ]
  },
  {
   "cell_type": "markdown",
   "metadata": {},
   "source": [
    "## Throughput data"
   ]
  },
  {
   "cell_type": "markdown",
   "metadata": {},
   "source": [
    "First, decide on an interval for which to capture the throughput. Depending on the context and amount of data, daily, weekly, bi-weekly, or monthly intervals are common choices."
   ]
  },
  {
   "cell_type": "code",
   "execution_count": 47,
   "metadata": {},
   "outputs": [
    {
     "data": {
      "text/plain": [
       "7"
      ]
     },
     "execution_count": 47,
     "metadata": {},
     "output_type": "execute_result"
    }
   ],
   "source": [
    "# Specify the interval in a number of days:\n",
    "interval = 7"
   ]
  },
  {
   "cell_type": "markdown",
   "metadata": {},
   "source": [
    "Next, choose the workitem to use for the throughput. For each interval count the number of work items completed in that interval. Partially completed items are excluded from the count."
   ]
  },
  {
   "cell_type": "code",
   "execution_count": 48,
   "metadata": {},
   "outputs": [
    {
     "data": {
      "text/plain": [
       "[1, 2, 0, 3, 0, 3, 1, 6, 0, 0, 1, 1, 0, 0, 1, 0, 3, 4, 5, 1, 7, 2, 3, 2, 1, 0, 1, 2, 0, 1, 0, 6, 5, 6, 0, 5, 0, 0, 2, 0, 0, 0, 1, 2, 15, 3, 1, 5, 2, 4, ...]"
      ]
     },
     "execution_count": 48,
     "metadata": {},
     "output_type": "execute_result"
    }
   ],
   "source": [
    "# The raw throughput data:\n",
    "raw = [1, 2, 0, 3, 0, 3, 1, 6, 0, 0, 1, 1, 0, 0, 1, 0, 3, 4, 5, 1, 7, 2, 3, 2, 1, 0, 1, 2, 0, 1, 0, 6, 5, 6, 0, 5, 0, 0, 2, 0, 0, 0, 1, 2, 15, 3, 1, 5, 2, 4, 0]"
   ]
  },
  {
   "cell_type": "markdown",
   "metadata": {},
   "source": [
    "Because we don't count partially completed items some of the intervals will contain zero completed work items. If this gives unsatisfactory results later on, experiment by grouping intervals.\n",
    "\n",
    "For example, when we start with weekly throughput data (interval = 7 days), we may group two consecutive intervals for get bi-weekly data. The properties of the data set that results from this grouping may be more realistic than the raw data.\n",
    "\n",
    "Especially, if the lead time of work items is larger than the interval chosen, this may result in frequent zero throughput per interval. But, if in practice it never occurs that zero items are completed in two consecutive intervals, than grouping by two intervals may resemble the 'true' properties of the throughput better.\n",
    "\n",
    "It is recommended to start with using the raw data and experiment with this in a later stage."
   ]
  },
  {
   "cell_type": "code",
   "execution_count": 49,
   "metadata": {},
   "outputs": [
    {
     "data": {
      "text/plain": [
       "1"
      ]
     },
     "execution_count": 49,
     "metadata": {},
     "output_type": "execute_result"
    }
   ],
   "source": [
    "# The number of intervals to combine to form new (and larger) intervals:\n",
    "groups = 1"
   ]
  },
  {
   "cell_type": "markdown",
   "metadata": {},
   "source": [
    "Next, specify the grouping of the frequency of throughput data. These are called 'bins' and the size of the bins is called the bin size.\n",
    "\n",
    "Usually, no grouping is good enough, i.e. a binsize of one. However, if a vast number of work items (tens or hundreds) are completed in the intervals the throughput may vary a lot. In this case it may help to use a bin size larger than 1. For example, bins of 0-4, 5-9, 10-14, etc.\n",
    "\n",
    "Again, there is no recipe that tells what value to use. Start with one, and experiment to see what gives reliable results."
   ]
  },
  {
   "cell_type": "code",
   "execution_count": 50,
   "metadata": {},
   "outputs": [
    {
     "data": {
      "text/plain": [
       "1"
      ]
     },
     "execution_count": 50,
     "metadata": {},
     "output_type": "execute_result"
    }
   ],
   "source": [
    "# The size of bins for grouping the frequency data\n",
    "binsize = 1"
   ]
  },
  {
   "cell_type": "markdown",
   "metadata": {},
   "source": [
    "### Basic properties of the data set"
   ]
  },
  {
   "cell_type": "markdown",
   "metadata": {},
   "source": [
    "Next, we calculate some basic properties of the data set:\n",
    "\n",
    "  * the size,\n",
    "  * the average,\n",
    "  * the median (middle value of the data set),\n",
    "  * the tail (98%ile),\n",
    "  * the mode (value that occurs the most)."
   ]
  },
  {
   "cell_type": "code",
   "execution_count": 51,
   "metadata": {},
   "outputs": [],
   "source": [
    "# Modify the data based on the settings above:\n",
    "data = raw |> Enum.chunk_every(groups,groups) |> Enum.map(& Enum.sum(&1))\n",
    "\n",
    "# The size of the dataset\n",
    "len = length(data)\n",
    "\n",
    "# Maximum lead time in the data\n",
    "maxdays = data |> Enum.max\n",
    "\n",
    "# Het gemiddelde\n",
    "avgdays = Enum.sum(data)/len\n",
    "\n",
    "# Median & Tail (98%ile)\n",
    "{median, tail, _} = data |> Enum.sort |> Enum.reduce({nil,nil,1}, fn\n",
    "  lt, {nil,nil,idx} when (idx+1)/len > 0.50 -> {lt,nil,idx+1}\n",
    "  lt, {me,nil,idx} when (idx+1)/len > 0.98 -> {me,lt,idx+1}\n",
    "  _lt, {me,ta,idx} -> {me,ta,idx+1}\n",
    "end)\n",
    "\n",
    "# The mode is the value that occurs the most:\n",
    "{mode,max_frequency} = data |> Enum.frequencies |> Enum.max_by(fn {_,v} -> v end)\n",
    ":\"do not show this result in output\""
   ]
  },
  {
   "cell_type": "code",
   "execution_count": 52,
   "metadata": {},
   "outputs": [
    {
     "name": "stdout",
     "output_type": "stream",
     "text": [
      "Mode          = 0\n",
      "Median        = 1\n",
      "Average       = 2.1\n",
      "Tail (98%ile) = 6\n",
      "\n",
      "(All amounts are per 7 days)\n"
     ]
    }
   ],
   "source": [
    "units = interval*groups\n",
    "IO.puts \"Mode          = #{round(mode)}\"\n",
    "IO.puts \"Median        = #{median}\"\n",
    "IO.puts \"Average       = #{Float.round(avgdays,1)}\"\n",
    "IO.puts \"Tail (98%ile) = #{tail}\"\n",
    "IO.puts \"\\n(All amounts are per #{units} days)\"\n",
    ":\"do not show this result in output\""
   ]
  },
  {
   "cell_type": "markdown",
   "metadata": {},
   "source": [
    "## Visualisation of the data"
   ]
  },
  {
   "cell_type": "code",
   "execution_count": 53,
   "metadata": {},
   "outputs": [
    {
     "data": {
      "image/png": "[encoded data removed]"
     },
     "metadata": {},
     "output_type": "display_data"
    }
   ],
   "source": [
    "P.histogram(data,\n",
    "    plottitle: \"Throughput histogram\",\n",
    "    xlabel: \"Throughput (completed items per #{units} days)\",\n",
    "    ylabel: \"Frequency\",\n",
    "    xrange: '[0:#{maxdays*1.2}]',\n",
    "    yrange: '[0:#{max_frequency*1.2}]',\n",
    "    bin: binsize)\n",
    ":\"this is an inline image\""
   ]
  },
  {
   "cell_type": "markdown",
   "metadata": {},
   "source": [
    "The chart may show a couple of things. Two important properties are (a) whether the data is multi modal or not and (b) whether it shows indications of a fat-tail.\n",
    "\n",
    "Multi modal is recognized by more than 1 mode. Multi-modal data mostly is a result from the presence of multiple work item types. This will be analyzed below in more detail.\n",
    "\n",
    "Fat-tailed data. This is also known as extremistan. Linear regression to the mean is not possible. The presence of data far to the right of the chart away from the mean, is a very strong indication that the data is extremistan."
   ]
  },
  {
   "cell_type": "markdown",
   "metadata": {},
   "source": [
    "### Thin- or fat-tailed data?"
   ]
  },
  {
   "cell_type": "markdown",
   "metadata": {},
   "source": [
    "An important property of the data is to determine whether it is fat-tailed or not. With thin-tailed data forecasting is less uncertain, and is preferred.\n",
    "\n",
    "A differentiator between mediocristan and extremistan data is to test the data sample for subexponentiality. Taleb [8] mentions 2 tests for this."
   ]
  },
  {
   "cell_type": "code",
   "execution_count": 54,
   "metadata": {},
   "outputs": [
    {
     "data": {
      "text/plain": [
       "true"
      ]
     },
     "execution_count": 54,
     "metadata": {},
     "output_type": "execute_result"
    }
   ],
   "source": [
    "# Test 1:\n",
    "# A value close to zero, say within 0.1, indicates it is extremistan (fat-tailed, subexponential)\n",
    "test1 = data |> U.subexponential_stat(:max) < 0.1"
   ]
  },
  {
   "cell_type": "code",
   "execution_count": 55,
   "metadata": {},
   "outputs": [
    {
     "data": {
      "text/plain": [
       "true"
      ]
     },
     "execution_count": 55,
     "metadata": {},
     "output_type": "execute_result"
    }
   ],
   "source": [
    "# Test 2:\n",
    "# A value close to zero, say within 0.1, indicates it is extremistan (fat-tailed, subexponential)\n",
    "test2 = data |> U.subexponential_stat(:sum) < 0.1"
   ]
  },
  {
   "cell_type": "code",
   "execution_count": 56,
   "metadata": {},
   "outputs": [
    {
     "name": "stdout",
     "output_type": "stream",
     "text": [
      "Data is fat tailed!\n"
     ]
    }
   ],
   "source": [
    "# Thin or fat tailed distribution?\n",
    "# See KMM.plus for an explanation of the numbers\n",
    "check1 = tail/median < 5.6\n",
    "check2 = if mode>0, do: tail/mode < 16, else: false\n",
    "\n",
    "case {check1,check2} do\n",
    "  {true,true} -> IO.puts \"Data is thin tailed!\"\n",
    "  {false,false} -> IO.puts \"Data is fat tailed!\"\n",
    "  _else -> IO.puts \"Inclusive whether data is thin or fat tailed, check for multi-modal data (see below)\"\n",
    "end\n",
    ":\"do not show this result in output\""
   ]
  },
  {
   "cell_type": "markdown",
   "metadata": {},
   "source": [
    "## Extremistan: finding a distribution"
   ]
  },
  {
   "cell_type": "markdown",
   "metadata": {},
   "source": [
    "In the case of extremistan data we seek a probability distribution that is compatible with the observed data. The distributions with the highest values are good starting points."
   ]
  },
  {
   "cell_type": "code",
   "execution_count": 57,
   "metadata": {
    "scrolled": true
   },
   "outputs": [
    {
     "name": "stdout",
     "output_type": "stream",
     "text": [
      "Distribution|Likelihood          \n",
      "------------|--------------------\n",
      "poisson     |0.042754163632000915\n",
      "nakagami    |0.05460907705409822 \n",
      "erlang      |0.0659795744234219  \n",
      "weibull     |0.06629521752068336 \n",
      "exponential |0.06668864622994962 \n",
      "wald        |0.07204366754823187 \n",
      "frechet     |0.08552405570933133 \n",
      "sep         |0.17699884893479348 \n",
      "normal      |0.2955987013048619  \n"
     ]
    }
   ],
   "source": [
    "data |> D.guess(2000) |> U.as_table({\"Distribution\",\"Likelihood\"})\n",
    ":\"do not show this result in output\""
   ]
  },
  {
   "cell_type": "markdown",
   "metadata": {},
   "source": [
    "As a first step we convert the throughput data to a histogram. To this end we group the data in bins of size 1 starting at 0 and determine the cumulative distribution function (CDF). Since it is directly calculated from the observed data, we will call this the empirical cumulative distribution function (ECDF). This is the function that we will use to find a suitable probability distribution that describes the data."
   ]
  },
  {
   "cell_type": "markdown",
   "metadata": {},
   "source": [
    "An important property of a CDF (and therefor also for the ECDF) is that the value always is between 0 and 1."
   ]
  },
  {
   "cell_type": "code",
   "execution_count": 58,
   "metadata": {
    "scrolled": false
   },
   "outputs": [
    {
     "name": "stdout",
     "output_type": "stream",
     "text": [
      "bin index|value             |low               |high               \n",
      "---------|------------------|------------------|-------------------\n",
      "1        |0.3333333333333333|0.2619590316047003|0.41205985002195966\n",
      "2        |0.5490196078431373|0.4693334933381733|0.6265576074897032 \n",
      "3        |0.6862745098039216|0.6081128777585465|0.7562025291870149 \n",
      "4        |0.7843137254901961|0.7110378681422991|0.8448186366836251 \n",
      "5        |0.8235294117647058|0.7533661771437564|0.8790002461835639 \n",
      "6        |0.9019607843137255|0.8409447560847112|0.9439686602963081 \n",
      "7        |0.9607843137254902|0.9111357425558969|0.9866556598542698 \n",
      "8        |0.9803921568627451|0.9364212632226532|0.9973690503039632 \n",
      "16       |1.0               |0.9641694112344984|1.0                \n"
     ]
    }
   ],
   "source": [
    "hdata = U.to_bins data, {binsize,0}\n",
    "hdata |> U.as_table({\"bin index\",\"value\",\"low\",\"high\"})\n",
    ":\"do not show this result in output\""
   ]
  },
  {
   "cell_type": "markdown",
   "metadata": {},
   "source": [
    "The data returned contains a list of tuples each describing a bin:\n",
    "* the end-point of the bin,\n",
    "* the proportional number of events for this bin (the total count is normalized to one),\n",
    "* the lower value of the error bound,\n",
    "* the upper value of the error bound."
   ]
  },
  {
   "cell_type": "markdown",
   "metadata": {},
   "source": [
    "As can be seen the sizes of the lower and upper bounds are different in value, i.e. they are asymmetrical. The contribution or weight to the likelihood function used in fitting known distributions will de different depending on whether the observed value if larger or smaller than the predicted value. This is specified by using the option `:linear` (see below). See [3] for details."
   ]
  },
  {
   "cell_type": "markdown",
   "metadata": {},
   "source": [
    "A consequence that the values of a CDF are between 0 and 1, is that the low and high bounds must be between 0 and 1. From this it follows that the error bounds are asymmetrical in nature. When finding a suitable distribution we need to take this into account."
   ]
  },
  {
   "cell_type": "code",
   "execution_count": 59,
   "metadata": {},
   "outputs": [
    {
     "data": {
      "image/png": "[encoded data removed]"
     },
     "metadata": {},
     "output_type": "display_data"
    }
   ],
   "source": [
    "P.ecdf(hdata,\n",
    "    plottitle: \"Empirical CDF\",\n",
    "    xlabel: \"Throughput (items per #{units} days)\",\n",
    "    ylabel: \"Probability\",\n",
    "    xrange: '[0:#{maxdays*1.1}]',\n",
    "    bin: binsize)\n",
    ":\"this is an inline image\""
   ]
  },
  {
   "cell_type": "markdown",
   "metadata": {},
   "source": [
    "## Determining the distribution"
   ]
  },
  {
   "cell_type": "markdown",
   "metadata": {},
   "source": [
    "As a preparation, we set some parameters that affect the algorithm for finding the parameter values of the distribution."
   ]
  },
  {
   "cell_type": "code",
   "execution_count": 60,
   "metadata": {},
   "outputs": [],
   "source": [
    "# Number of probes to use as an initial search.\n",
    "# Values between 100 and 50_000 are reasonable numbers.\n",
    "# For more extensive searches (costs more time) use values of 500_000 or 1_000_000\n",
    "probes = 100_000\n",
    "\n",
    "# Number of iterations to for fine-tuning the parameter values.\n",
    "# Anything between 20 and 100 is reasonable. Start with 20.\n",
    "iterations = 40\n",
    ":\"do not show this result in output\""
   ]
  },
  {
   "cell_type": "markdown",
   "metadata": {},
   "source": [
    "Other parameters that affect the forecasting are listed below. Please adjust to your needs."
   ]
  },
  {
   "cell_type": "markdown",
   "metadata": {},
   "source": [
    "Instead of directly using the raw data captured one can also use a known probability distribution. The parameter of the distribution is matched to the data. After matching the parameter value one uses the known distribution to forecast."
   ]
  },
  {
   "cell_type": "markdown",
   "metadata": {},
   "source": [
    "Here, we will use the __Weibull distribution__ [1]. This basically assumes that the data points are independent of each other."
   ]
  },
  {
   "cell_type": "code",
   "execution_count": 61,
   "metadata": {},
   "outputs": [
    {
     "data": {
      "text/plain": [
       "2"
      ]
     },
     "execution_count": 61,
     "metadata": {},
     "output_type": "execute_result"
    }
   ],
   "source": [
    "# The distribution to use\n",
    "model = D.model \"weibull\"\n",
    "\n",
    "# The number of parameters\n",
    "Distribution.size(model)"
   ]
  },
  {
   "cell_type": "code",
   "execution_count": 62,
   "metadata": {},
   "outputs": [
    {
     "data": {
      "text/plain": [
       "[{0.1, 5.0}, {1, 2.541176470588235}]"
      ]
     },
     "execution_count": 62,
     "metadata": {},
     "output_type": "execute_result"
    }
   ],
   "source": [
    "# The range of the parameter values to look for a (global) minimum\n",
    "# The number of tuples must match the number of parameters the distribution has (see above)\n",
    "# This can be a rough estimate of the value (or random); the algorithm will try to find the precise value\n",
    "initial = [{0.1,5.0},{1,avgdays*1.2}]"
   ]
  },
  {
   "cell_type": "markdown",
   "metadata": {},
   "source": [
    "The code below uses basic settings of the commands provided by `Chi2Fit`. More advanced options can be found at [2]. First a fixed number of random parameter values are tried to get a rough estimate. The option `probes` equals the number of tries. Furthermore, since we are fitting a probability distribution which has values on the interval `[0,1]` the errors are asymmetrical. This is specified by the option `linear`. "
   ]
  },
  {
   "cell_type": "code",
   "execution_count": 63,
   "metadata": {},
   "outputs": [
    {
     "name": "stdout",
     "output_type": "stream",
     "text": [
      "Initial guess:\n",
      "    chi2:\t\t0.8556666509158083\n",
      "    pars:\t\t[1.0030811173573677, 2.537590186876523]\n",
      "    ranges:\t\t{[0.8747054712991019, 1.1126569938106348], [2.296021155252987, 2.5410289850337486]}\n",
      "\n"
     ]
    },
    {
     "data": {
      "text/plain": [
       ":ok"
      ]
     },
     "execution_count": 63,
     "metadata": {},
     "output_type": "execute_result"
    }
   ],
   "source": [
    "options = [probes: probes, smoothing: false, model: :linear, saved?: true]\n",
    "result = {_,parameters,_,saved} = F.chi2probe hdata, initial, {Distribution.cdf(model), &F.nopenalties/2}, options\n",
    "U.display result"
   ]
  },
  {
   "cell_type": "markdown",
   "metadata": {},
   "source": [
    "The errors reported is the found range of parameter values where the corresponding `chi2` values are within 1 of the found minimum value."
   ]
  },
  {
   "cell_type": "markdown",
   "metadata": {},
   "source": [
    "After roughly locating the minimum we do a more precise (and computationally more expensive) search for the minimum."
   ]
  },
  {
   "cell_type": "code",
   "execution_count": 64,
   "metadata": {},
   "outputs": [
    {
     "name": "stdout",
     "output_type": "stream",
     "text": [
      "Final:\n",
      "    chi2:\t\t0.8390490486375306\n",
      "    Degrees of freedom:\t7\n",
      "    gradient:\t\t[5.8476874750018036e-8, 1.2562368208177508e-8]\n",
      "    parameters:\t\t[1.020450285470515, 2.569653855150381]\n",
      "    errors:\t\t[0.1496489418506129, 0.26916296388460237]\n",
      "    ranges:\n",
      "\t\t\tchi2:\t\t0.8390490486375306\t-\t1.8356657251085\n",
      "\t\t\tparameter:\t0.8747054712991019\t-\t1.1126569938106348\n",
      "\t\t\tparameter:\t2.2982143492267593\t-\t2.601893136002352\n"
     ]
    },
    {
     "data": {
      "text/plain": [
       ":ok"
      ]
     },
     "execution_count": 64,
     "metadata": {},
     "output_type": "execute_result"
    }
   ],
   "source": [
    "options = [{:probes,saved}|options]\n",
    "result = {_,cov,parameters,_} = F.chi2fit hdata, {parameters, Distribution.cdf(model), &F.nopenalties/2}, iterations, options\n",
    "U.display(hdata,model,result,options)"
   ]
  },
  {
   "cell_type": "markdown",
   "metadata": {},
   "source": [
    "Some checks for a \"good\" fit:\n",
    "\n",
    "  * gradient: for a (local) minimum the value of the gradient should be very close to zero,\n",
    "  * chi-squared (`chi2`): should be 1 per degree of freedom.\n",
    "  \n",
    "A chi-squared value of 2 or larger per degree of freedom is an indication that the chosen distribution is not compatible with the data.\n",
    "\n",
    "\n",
    "On the other hand, a chi-squared value much smaller than 1 is an indication that the distribution matches the data too easily. It describes the data very well, but will be bad at predicting and forecasting. This usually happens when (a) the distribution contains too many parameters, or (b) too little data points, i.e. large error bars."
   ]
  },
  {
   "cell_type": "code",
   "execution_count": 65,
   "metadata": {},
   "outputs": [
    {
     "data": {
      "image/png": "[encoded data removed]"
     },
     "metadata": {},
     "output_type": "display_data"
    }
   ],
   "source": [
    "name = Distribution.name(model)|>String.capitalize()\n",
    "P.ecdf(hdata,\n",
    "    plottitle: \"Fit of #{name} to CDF\",\n",
    "    xlabel: \"Throughput (items per #{units} days)\",\n",
    "    ylabel: \"Probability\",\n",
    "    xrange: '[0:#{maxdays*1.1}]',\n",
    "    title: name,\n",
    "    bin: binsize,\n",
    "    func: & Distribution.cdf(model).(&1,parameters))\n",
    ":\"this is an inline image\""
   ]
  },
  {
   "cell_type": "markdown",
   "metadata": {},
   "source": [
    "## Verifying the found distribution with the frequency charts"
   ]
  },
  {
   "cell_type": "code",
   "execution_count": 66,
   "metadata": {},
   "outputs": [
    {
     "data": {
      "image/png": "[encoded data removed]"
     },
     "metadata": {},
     "output_type": "display_data"
    }
   ],
   "source": [
    "pdf = fn x -> Distribution.pdf(model).(x,parameters) end\n",
    "P.pdf(data,\n",
    "    plottitle: \"Fit of PDF to #{name}\",\n",
    "    xlabel: \"Throughput (items per #{units} days)\",\n",
    "    ylabel: \"Frequency\",\n",
    "    xrange: '[0:#{maxdays*1.1}]',\n",
    "    yrange: '[0:0.55]',\n",
    "    bin: binsize,\n",
    "    pdf: pdf,\n",
    "    title: name)\n",
    ":\"this is an inline image\""
   ]
  },
  {
   "cell_type": "markdown",
   "metadata": {},
   "source": [
    "## Forecasting"
   ]
  },
  {
   "cell_type": "markdown",
   "metadata": {},
   "source": [
    "We will be interested in forecasting to answer two questions:\n",
    "\n",
    "  1. How many items will we b e able to deliver within a certain period?\n",
    "  1. Given a number of work items, when will these be done?\n",
    "  "
   ]
  },
  {
   "cell_type": "markdown",
   "metadata": {},
   "source": [
    "### Forecasting - duration"
   ]
  },
  {
   "cell_type": "code",
   "execution_count": 67,
   "metadata": {},
   "outputs": [],
   "source": [
    "# The size of the backlog to use in estimations\n",
    "todo = 100\n",
    "\n",
    "# The number of iterations to use with Monte Carlo\n",
    "mc_iterations = 10_000\n",
    ":\"do not show this result in output\""
   ]
  },
  {
   "cell_type": "markdown",
   "metadata": {},
   "source": [
    "Using a Monte Carlo simulation we estimate the number of iterations and the range to expect."
   ]
  },
  {
   "cell_type": "code",
   "execution_count": 68,
   "metadata": {},
   "outputs": [
    {
     "name": "stdout",
     "output_type": "stream",
     "text": [
      "Estimation duration for 100 items (unit = 7 days):\n",
      "\n",
      "50%    => 40 units\n",
      "84%    => 47 units\n",
      "97.5%  => 53 units\n",
      "99.85% => 60 units\n"
     ]
    }
   ],
   "source": [
    "{_avg,_sd,all} = U.mc(mc_iterations, U.forecast_duration(fn -> Distribution.random(model).(parameters) end, todo), collect_all?: true)\n",
    "IO.puts \"Estimation duration for #{todo} items (unit = #{units} days):\\n\"\n",
    "U.display {all, :+}\n",
    ":\"do not show this result in output\""
   ]
  },
  {
   "cell_type": "markdown",
   "metadata": {},
   "source": [
    "It shows that we have 84% chance to complete all items with 46 weeks, and a small chance of finishing them in 53 weeks."
   ]
  },
  {
   "cell_type": "code",
   "execution_count": 69,
   "metadata": {},
   "outputs": [
    {
     "data": {
      "image/png": "[encoded data removed]"
     },
     "metadata": {},
     "output_type": "display_data"
    }
   ],
   "source": [
    "P.histogram(all,\n",
    "    plottitle: \"Monte Carlo simulation for duration\",\n",
    "    xlabel: \"Duration (number of #{units} days)\",\n",
    "    ylabel: \"Frequency\",\n",
    "    xrange: '[0:#{Enum.max(all)}]')\n",
    ":\"this is an inline image\""
   ]
  },
  {
   "cell_type": "markdown",
   "metadata": {},
   "source": [
    "### Forecasting: number of work items"
   ]
  },
  {
   "cell_type": "code",
   "execution_count": 70,
   "metadata": {},
   "outputs": [],
   "source": [
    "# The number of periods to for which to forecast the number of work items delivered\n",
    "periods = 13\n",
    ":\"do not show this result in output\""
   ]
  },
  {
   "cell_type": "markdown",
   "metadata": {},
   "source": [
    "Using a Monte Carlo simulation we estimate the number of iterations and the range to expect."
   ]
  },
  {
   "cell_type": "code",
   "execution_count": 71,
   "metadata": {
    "scrolled": true
   },
   "outputs": [
    {
     "name": "stdout",
     "output_type": "stream",
     "text": [
      "50%    => 32 units\n",
      "84%    => 24 units\n",
      "97.5%  => 17 units\n",
      "99.85% => 12 units\n"
     ]
    }
   ],
   "source": [
    "{avg,sd,all} = U.mc mc_iterations, U.forecast_items(fn -> round(Distribution.random(model).(parameters)) end,periods), collect_all?: true\n",
    "U.display {all,:-}\n",
    ":\"do not show this result in output\""
   ]
  },
  {
   "cell_type": "markdown",
   "metadata": {},
   "source": [
    "This shows that we have a 84% chance of completing at least 24 work items in a period of 13. And a 97.5% chance of at least 18 item. This means that 18 work items are \"guaranteed\"."
   ]
  },
  {
   "cell_type": "code",
   "execution_count": 72,
   "metadata": {},
   "outputs": [
    {
     "data": {
      "image/png": "[encoded data removed]"
     },
     "metadata": {},
     "output_type": "display_data"
    }
   ],
   "source": [
    "P.histogram(all,\n",
    "    plottitle: \"Monte Carlo result for completed items after #{periods} iterations\",\n",
    "    xlabel: \"Completed items (count)\",\n",
    "    ylabel: \"Frequency\",\n",
    "    xrange: '[0:#{Enum.max(all)}]')\n",
    ":\"this is an inline image\""
   ]
  },
  {
   "cell_type": "markdown",
   "metadata": {},
   "source": [
    "## Appendix: error propagation - Total Monte Carlo"
   ]
  },
  {
   "cell_type": "markdown",
   "metadata": {},
   "source": [
    "In the results of a Monte Carlo simulation the errors reported and the range of the number of iterations is the statistical error associated with the Monte Carlo simulation. It dopes not take into account the uncertainty of the parameter used in the fitted probability distribution function."
   ]
  },
  {
   "cell_type": "markdown",
   "metadata": {},
   "source": [
    "In Total Monte Carlo [4] multiple Monte Carlo simulations are done that correspond to the extreme values of the error bounds of the used parameters. The error results is of a different nature than the statistical error from the Monte Carlo simulation. These error reported separately."
   ]
  },
  {
   "cell_type": "code",
   "execution_count": 73,
   "metadata": {},
   "outputs": [
    {
     "name": "stdout",
     "output_type": "stream",
     "text": [
      "Number of iterations to complete the backlog:\n",
      "33.0 (+/- 9.1) (-0.0 +13.8)\n"
     ]
    }
   ],
   "source": [
    "# The number of iterations to use in the Monte Carlo method\n",
    "# Less iterations is faster, but larger error. A larger value results in better results,\n",
    "# but costs more processing time.\n",
    "mc_iterations = 10_000\n",
    "\n",
    "# Two options for mode of operation:\n",
    "# 1. `:use_bounds' - uses the parameters value and covariance matrix,\n",
    "# 2. `:use_ranges' - uses the ranges from the chi2-fit.\n",
    "{valmin, valmax} = U.total_mc(result, &fn -> U.forecast(fn -> Distribution.random(model).(&1) end, todo) end, :use_bounds, mc_iterations)\n",
    "\n",
    "sd_min = max(0.0, avg - valmin)\n",
    "sd_plus = max(0.0, valmax - avg)\n",
    "\n",
    "IO.puts \"Number of iterations to complete the backlog:\"\n",
    "IO.puts \"#{Float.round(avg,1)} (+/- #{Float.round(sd,1)}) (-#{Float.round(sd_min,1)} +#{Float.round(sd_plus,1)})\"\n",
    ":\"do not show this result in output\""
   ]
  },
  {
   "cell_type": "markdown",
   "metadata": {},
   "source": [
    "The first error is symmetric while the second error reported is asymmetric."
   ]
  },
  {
   "cell_type": "markdown",
   "metadata": {},
   "source": [
    "#### Combining the errors"
   ]
  },
  {
   "cell_type": "markdown",
   "metadata": {},
   "source": [
    "We now have estimated two erros which have a different origin:\n",
    "\n",
    "1. _statistical error_ caused by the nature of the Poisson distribution as determined in [Forecasting using a Poisson distribution](#Forecasting-using-a-Poisson-distribution), and\n",
    "1. _systematic error_ caused by the error in the deliveray rate in [this section](#Rate-error-propagation:-Total-Monte-Carlo)\n",
    "\n",
    "Making the assumption that both are Gaussian - which is true for the _systematic error_ but which is false for the _systematic error_ - allows us to combine the two by quadratically addition."
   ]
  },
  {
   "cell_type": "code",
   "execution_count": 74,
   "metadata": {},
   "outputs": [
    {
     "name": "stdout",
     "output_type": "stream",
     "text": [
      "50%    => 33.0 units\n",
      "84%    => 22.0 units\n",
      "97.5%  => 11.0 units\n",
      "99.85% => -1.0 units\n"
     ]
    }
   ],
   "source": [
    "# Assuming both error typs are gaussian distributed (which probably is not true):\n",
    "sd_avg = (sd_plus + sd_min)/2\n",
    "total = :math.sqrt(sd*sd + sd_avg*sd_avg)\n",
    "U.display {avg,total,:-}\n",
    ":\"do not show this result in output\""
   ]
  },
  {
   "cell_type": "markdown",
   "metadata": {},
   "source": [
    "## Appendix: Bimodal Poisson"
   ]
  },
  {
   "cell_type": "markdown",
   "metadata": {},
   "source": [
    "In this section we will fit sample data thathas two modes, i.e. visually contains two bumps in the data.\n",
    "Using a one of the 'standard' distributions to fir the data is dificult as this one distribution only has 1 mode."
   ]
  },
  {
   "cell_type": "markdown",
   "metadata": {},
   "source": [
    "Usually, this type of data contains a mix of two work item types: each work item type corresponding to one of the bumps. Two approaches exist to handle such data:\n",
    "\n",
    "  1. use a bi-modal distribution to fit the complete data set,\n",
    "  1. separate both work item types in the data and perform the analysis for both work items separately\n",
    "  "
   ]
  },
  {
   "cell_type": "markdown",
   "metadata": {},
   "source": [
    "We form a new distribution by combining two distributions. Each distribution (work item type) is given a certain weight `w1` and `w2`. The sum of the two weights is equal to 1."
   ]
  },
  {
   "cell_type": "code",
   "execution_count": 81,
   "metadata": {},
   "outputs": [],
   "source": [
    "# This ensures that the weights w_1 and w_2 will be positive and less than 1\n",
    "# The penalty acts as a constraint for the fitting procedure\n",
    "penalty = fn _,[w1|_] -> cond do\n",
    "  w1 < 0 -> 1_000_000_000\n",
    "  w1 > 1 -> 1_000_000_000\n",
    "  true -> 0\n",
    "  end\n",
    "end\n",
    ":\"do not show this result in output\""
   ]
  },
  {
   "cell_type": "markdown",
   "metadata": {},
   "source": [
    "We will combine two Poisson distributions each having a different delivery rate parameter to form a new bi-modal Poisson distribution.\n",
    "\n",
    "Note that this introduces 2 additional parameters so that we have a total of 3 parameters. Unless you have many data points, introducing more parameters may result in a very small chi-squared statistic."
   ]
  },
  {
   "cell_type": "code",
   "execution_count": 82,
   "metadata": {},
   "outputs": [
    {
     "name": "stdout",
     "output_type": "stream",
     "text": [
      "Initial guess:\n",
      "    chi2:\t\t0.36754988330519583\n",
      "    pars:\t\t[0.6700742402867552, 1.6420969716200688, 5.301489185216024]\n",
      "    ranges:\t\t{[0.1799304305846927, 0.8285977260101447], [0.8270646684954859, 6.900867375251137], [0.835672928996914, 6.686046769636131]}\n",
      "\n"
     ]
    },
    {
     "data": {
      "text/plain": [
       ":ok"
      ]
     },
     "execution_count": 82,
     "metadata": {},
     "output_type": "execute_result"
    }
   ],
   "source": [
    "model2 = %Distribution.BiModal{distribs: [%Distribution.Poisson{},%Distribution.Poisson{}]}\n",
    "initial = [{0,1},{0.1,10.0},{0.1,10.0}]\n",
    "options = [probes: 50_000, smoothing: false, model: :linear, saved?: true]\n",
    "result = {_,parameters2,_,saved} = F.chi2probe hdata, initial, {Distribution.cdf(model2), penalty}, options\n",
    "U.display result"
   ]
  },
  {
   "cell_type": "markdown",
   "metadata": {},
   "source": [
    "After determining roughly the optimal values for the parameters we will fine-tune them by performaing a chi-squared fit:"
   ]
  },
  {
   "cell_type": "code",
   "execution_count": 83,
   "metadata": {},
   "outputs": [
    {
     "name": "stdout",
     "output_type": "stream",
     "text": [
      "Final:\n",
      "    chi2:\t\t0.30567511693144805\n",
      "    Degrees of freedom:\t6\n",
      "    gradient:\t\t[3.0489225337168027e-9, -3.5670089756772626e-8, 1.3275980909398123e-8]\n",
      "    parameters:\t\t[0.6370755618015221, 1.6153636471428205, 5.105899418232546]\n",
      "    errors:\t\t[0.24159498777110952, 0.7245234008011712, 1.399139368434782]\n",
      "    ranges:\n",
      "\t\t\tchi2:\t\t0.305675116931448\t-\t1.30342819408881\n",
      "\t\t\tparameter:\t0.1799304305846927\t-\t0.8285977260101447\n",
      "\t\t\tparameter:\t0.8270646684954859\t-\t6.900867375251137\n",
      "\t\t\tparameter:\t0.9247856377802312\t-\t6.686046769636131\n"
     ]
    },
    {
     "data": {
      "text/plain": [
       ":ok"
      ]
     },
     "execution_count": 83,
     "metadata": {},
     "output_type": "execute_result"
    }
   ],
   "source": [
    "options = [{:probes,saved}|options]\n",
    "result = {_,cov,parameters2,_} = F.chi2fit hdata, {parameters2, Distribution.cdf(model2), penalty}, 20, options\n",
    "U.display(hdata,model2,result,options)"
   ]
  },
  {
   "cell_type": "code",
   "execution_count": 84,
   "metadata": {},
   "outputs": [
    {
     "data": {
      "image/png": "[encoded data removed]"
     },
     "metadata": {},
     "output_type": "display_data"
    }
   ],
   "source": [
    "pdf2 = fn x -> Distribution.pdf(model2).(x,parameters2) end\n",
    "P.pdf(data,\n",
    "    plottitle: \"Fit of PDF to Bimodal Poisson\",\n",
    "    xlabel: \"Lead time\",\n",
    "    ylabel: \"Frequency\",\n",
    "    xrange: '[0:#{maxdays*1.1}]',\n",
    "    yrange: '[0:0.50]',\n",
    "    pdf: pdf2,\n",
    "    bin: binsize,\n",
    "    title: \"Bimodal: Two Poissons\")\n",
    ":\"this is an inline image\""
   ]
  },
  {
   "cell_type": "code",
   "execution_count": 85,
   "metadata": {},
   "outputs": [
    {
     "data": {
      "image/png": "[encoded data removed]"
     },
     "metadata": {},
     "output_type": "display_data"
    }
   ],
   "source": [
    "P.ecdf(hdata,\n",
    "    plottitle: \"Fit of Two Poissons to CDF\",\n",
    "    xlabel: \"Throughput (work days)\",\n",
    "    ylabel: \"Probability\",\n",
    "    xrange: '[0:#{maxdays*1.1}]',\n",
    "    title: \"Bimodal Poisson\",\n",
    "    func: & Distribution.cdf(model2).(&1,parameters2))\n",
    ":\"this is an inline image\""
   ]
  },
  {
   "cell_type": "markdown",
   "metadata": {},
   "source": [
    "The figure below shows the two individual fitted Poisson distributions."
   ]
  },
  {
   "cell_type": "code",
   "execution_count": 86,
   "metadata": {
    "scrolled": false
   },
   "outputs": [
    {
     "data": {
      "image/png": "[encoded data removed]"
     },
     "metadata": {},
     "output_type": "display_data"
    }
   ],
   "source": [
    "model = D.model \"poisson\"\n",
    "pdf1 = fn x -> (parameters2|>hd)*Distribution.pdf(model).(x,parameters2|>Enum.slice(1,1)) end\n",
    "pdf2 = fn x -> (1-(parameters2|>hd))*Distribution.pdf(model).(x,parameters2|>Enum.slice(2,1)) end\n",
    "P.multi([\n",
    "    P.pdf(data, plottitle: \"One Poisson\",ylabel: \"Frequency\",xrange: '[0:#{maxdays*1.1}]', yrange: '[0:0.5]',pdf: pdf1,title: \"Modal\",bin: binsize, mode: :as_commands),\n",
    "    P.pdf(data, plottitle: \"Two Poissons\",xrange: '[0:#{maxdays*1.1}]',yrange: '[0:0.5]',pdf: pdf2,title: \"Bimodal\",bin: binsize, mode: :as_commands),\n",
    "],columns: 2, title: \"PDF of throughput data\", size: \"1200,600\")\n",
    ":\"this is an inline image\""
   ]
  },
  {
   "cell_type": "markdown",
   "metadata": {},
   "source": [
    "## References"
   ]
  },
  {
   "cell_type": "markdown",
   "metadata": {},
   "source": [
    "[1] _Poisson distribution_, https://en.wikipedia.org/wiki/Poisson_distribution/<br>\n",
    "[2] _Chi2Fit_, Pieter Rijken, 2018, https://hex.pm/packages/chi2fit<br>\n",
    "[3] _Asymmetric errors_, Roger Barlow, Manchester University, UK and Stanford University, USA, PHYSTAT2003, SLAC, Stanford, California, September 8-11, 2003, https://www.slac.stanford.edu/econf/C030908/papers/WEMT002.pdf<br>\n",
    "[4] _Efficient use of Monte Carlo: uncertainty propagation_, D. Rochman et. al., Nuclear Science and Engineering, 2013, ftp://ftp.nrg.eu/pub/www/talys/bib_rochman/fastTMC.pdf<br>\n",
    "[5] _Understanding lead time_, https://www.google.com/url?sa=t&rct=j&q=&esrc=s&source=web&cd=&ved=2ahUKEwiIi9Py19zwAhW2DWMBHdKYDz0QFjALegQIHRAD&url=https%3A%2F%2Fmauvisoft.com%2Fkmm-understanding-lead-time%2F&usg=AOvVaw1iDIcri4tDi3vxo1W6yJp-<br>\n",
    "[6] _Kanban Maturity Model_, .....<br>\n",
    "[7] _KMM: A Map To Organizational Agility, Resilience & Reinvention_, http://kmm.plus<br>\n",
    "[8] _Statistical consequences of fat tails_, Nassim Taleb"
   ]
  }
 ],
 "metadata": {
  "kernelspec": {
   "display_name": "Elixir",
   "language": "Elixir",
   "name": "ielixir"
  },
  "language_info": {
   "codemirror_mode": "elixir",
   "file_extension": "ex",
   "mimetype": "text/x-elixir",
   "name": "elixir",
   "nbconvert_exporter": "",
   "pygments_lexer": "elixir",
   "version": "1.11.2"
  }
 },
 "nbformat": 4,
 "nbformat_minor": 2
}
