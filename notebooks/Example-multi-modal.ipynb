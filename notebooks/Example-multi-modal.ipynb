{
 "cells": [
  {
   "cell_type": "markdown",
   "metadata": {
    "slideshow": {
     "slide_type": "slide"
    }
   },
   "source": [
    "# Fitting multi-modal empirical data\n",
    "\n",
    "Fitting multi modal data to known distributions use is done using [Chi2Fit](https://hex.pm/packages/chi2fit).\n",
    "\n",
    "The source of the data used is a LinkedIn post [5]."
   ]
  },
  {
   "cell_type": "markdown",
   "metadata": {
    "slideshow": {
     "slide_type": "skip"
    }
   },
   "source": [
    "## Set-up"
   ]
  },
  {
   "cell_type": "code",
   "execution_count": 1,
   "metadata": {
    "slideshow": {
     "slide_type": "skip"
    }
   },
   "outputs": [
    {
     "data": {
      "text/plain": [
       "Chi2fit.Gnuplotlib"
      ]
     },
     "execution_count": 1,
     "metadata": {},
     "output_type": "execute_result"
    }
   ],
   "source": [
    "alias Chi2fit.Distribution, as: D\n",
    "alias Chi2fit.Fit, as: F\n",
    "alias Chi2fit.Statistics, as: S\n",
    "alias Chi2fit.Utilities, as: U\n",
    "alias Chi2fit.Gnuplotlib, as: G"
   ]
  },
  {
   "cell_type": "markdown",
   "metadata": {
    "slideshow": {
     "slide_type": "slide"
    }
   },
   "source": [
    "## Data and simulation set-up"
   ]
  },
  {
   "cell_type": "markdown",
   "metadata": {},
   "source": [
    "As an example consider the lead time of work items."
   ]
  },
  {
   "cell_type": "code",
   "execution_count": 27,
   "metadata": {},
   "outputs": [
    {
     "data": {
      "text/plain": [
       "[1, 1, 1, 1, 1, 1, 1, 1, 1, 1, 1, 1, 1, 1, 1, 1, 1, 1, 1, 1, 1, 1, 1, 1, 1, 1, 1, 1, 1, 1, 0, 0, 0, 0, 0, 0, 0, 0, 0, 0, 0, 0, 0, 0, 0, 0, 0, 0, 0, 0, ...]"
      ]
     },
     "execution_count": 27,
     "metadata": {},
     "output_type": "execute_result"
    }
   ],
   "source": [
    "data = [{2,30},{4,20},{6,50},{8,35},{10,27},{12,11},{14,20},{16,16},{18,2}]\n",
    "|> Enum.map(fn {x,count}->List.duplicate(x-1,count)++List.duplicate(x-2,count) end)\n",
    "|> Enum.concat"
   ]
  },
  {
   "cell_type": "markdown",
   "metadata": {
    "slideshow": {
     "slide_type": "skip"
    }
   },
   "source": [
    "Other parameters that affect the forecasting are listed below. Please adjust to your needs."
   ]
  },
  {
   "cell_type": "code",
   "execution_count": 38,
   "metadata": {
    "slideshow": {
     "slide_type": "skip"
    }
   },
   "outputs": [],
   "source": [
    "# The size of the backlog, e.g. 100 backlog items\n",
    "size = 100\n",
    "\n",
    "# Number of iterations to use in the Monte Carlo\n",
    "iterations = 1000\n",
    "\n",
    "# The size of bins for grouping the data\n",
    "binsize = 1\n",
    "\n",
    "# Number of probes to use in the chi2 fit\n",
    "probes = 10_000\n",
    ":\"do not show this result in output\""
   ]
  },
  {
   "cell_type": "markdown",
   "metadata": {
    "slideshow": {
     "slide_type": "slide"
    }
   },
   "source": [
    "## Preparation"
   ]
  },
  {
   "cell_type": "markdown",
   "metadata": {},
   "source": [
    "Next, we convert the throughput data to a histogram. To this end we group the data in bins of size 1 starting at 0."
   ]
  },
  {
   "cell_type": "code",
   "execution_count": 29,
   "metadata": {},
   "outputs": [
    {
     "name": "stdout",
     "output_type": "stream",
     "text": [
      "Bin|Cumulative value   |Low                |High               \n",
      "---|-------------------|-------------------|-------------------\n",
      "1  |0.07109004739336493|0.05848245994924107|0.08591680793932278\n",
      "2  |0.14218009478672985|0.12490155152546507|0.1612680839337433 \n",
      "3  |0.1895734597156398 |0.1700988795014874 |0.21060674476907432\n",
      "4  |0.23696682464454977|0.21575792658003556|0.2594904490649855 \n",
      "5  |0.35545023696682465|0.3313521163088033 |0.38026651717980753\n",
      "6  |0.47393364928909953|0.4485384559848008 |0.49945808829233074\n",
      "7  |0.556872037914692  |0.5313956143805596 |0.5820664033914438 \n",
      "8  |0.6398104265402843 |0.614937787598684  |0.6639885501958502 \n",
      "9  |0.7037914691943128 |0.6798969971385972 |0.7266710956682081 \n",
      "10 |0.7677725118483413 |0.745380713759201  |0.7888253878593479 \n",
      "11 |0.7938388625592417 |0.7722385470472404 |0.8139664315296157 \n",
      "12 |0.8199052132701422 |0.7992202741819272 |0.8389819830878431 \n",
      "13 |0.8672985781990521 |0.8486684816872775 |0.8840677612266513 \n",
      "14 |0.9146919431279621 |0.8988275468620375 |0.9284254182526448 \n",
      "15 |0.95260663507109   |0.939847367023506  |0.962982354285936  \n",
      "16 |0.990521327014218  |0.9830533975559079 |0.9951039763640301 \n",
      "17 |0.995260663507109  |0.9889980121632688 |0.9983944654960313 \n",
      "18 |1.0                |0.9955894011724212 |1.0                \n"
     ]
    }
   ],
   "source": [
    "hdata = S.to_bins(data, {binsize,0}) |> U.as_table({\"Bin\",\"Cumulative value\",\"Low\",\"High\"})\n",
    ":\"do not show this result in output\""
   ]
  },
  {
   "cell_type": "markdown",
   "metadata": {
    "slideshow": {
     "slide_type": "slide"
    }
   },
   "source": [
    "## Mixture: Trimodal fit"
   ]
  },
  {
   "cell_type": "markdown",
   "metadata": {},
   "source": [
    "Next, we try a combination of three Weibulls to accomodate for the two gaps in the histogram."
   ]
  },
  {
   "cell_type": "code",
   "execution_count": 30,
   "metadata": {
    "slideshow": {
     "slide_type": "skip"
    }
   },
   "outputs": [],
   "source": [
    "penalty = fn _,[w1,w2|_] -> cond do\n",
    "  w1 < 0 -> 1_000_000_000\n",
    "  w1 > 1 -> 1_000_000_000\n",
    "  w2 < 0 -> 1_000_000_000\n",
    "  w2 > 1 -> 1_000_000_000\n",
    "  true -> 0\n",
    "  end\n",
    "end\n",
    ":\"do not show this result in output\""
   ]
  },
  {
   "cell_type": "code",
   "execution_count": 39,
   "metadata": {},
   "outputs": [],
   "source": [
    "model = %D.TriModal{distribs: [%D.Weibull{},%D.Weibull{},%D.Weibull{}]}\n",
    "initial = [{0.0,1.0},{0.0,1.0}|List.duplicate({0.1,20.0},D.size(model)-2)]\n",
    ":\"do not show this result in output\""
   ]
  },
  {
   "cell_type": "code",
   "execution_count": 32,
   "metadata": {
    "scrolled": false,
    "slideshow": {
     "slide_type": "skip"
    }
   },
   "outputs": [
    {
     "name": "stdout",
     "output_type": "stream",
     "text": [
      "Initial guess:\n",
      "    chi2:\t\t50.89288515980597\n",
      "    pars:\t\t[0.25915760868835025, 0.7492411090766671, 1.592099408808865, 2.3201782302715657, 2.7844598666968072, 8.124775329042656, 9.954365236676788, 14.09096798991696]\n",
      "    ranges:\t\t{[0.25915760868835025, 0.25915760868835025], [0.7492411090766671, 0.7492411090766671], [1.592099408808865, 1.592099408808865], [2.3201782302715657, 2.3201782302715657], [2.7844598666968072, 2.7844598666968072], [8.124775329042656, 8.124775329042656], [9.954365236676788, 9.954365236676788], [14.09096798991696, 14.09096798991696]}\n",
      "\n"
     ]
    },
    {
     "data": {
      "text/plain": [
       ":ok"
      ]
     },
     "execution_count": 32,
     "metadata": {},
     "output_type": "execute_result"
    }
   ],
   "source": [
    "options = [probes: 100_000, smoothing: false, model: :linear, saved?: true]\n",
    "result = {_,parameters3,ranges,saved} = F.chi2probe hdata, initial, {D.cdf(model), penalty}, options\n",
    "U.display result"
   ]
  },
  {
   "cell_type": "code",
   "execution_count": 33,
   "metadata": {
    "scrolled": false,
    "slideshow": {
     "slide_type": "subslide"
    }
   },
   "outputs": [
    {
     "name": "stdout",
     "output_type": "stream",
     "text": [
      "Final:\n",
      "    chi2:\t\t3.3306338811122207\n",
      "    Degrees of freedom:\t10\n",
      "    gradient:\t\t[4.998885393183873e-6, 5.936129571483151e-6, 2.0031914622750263e-7, -1.3538853575500901e-7, 8.476653439213792e-8, -7.92993328032603e-7, -4.9605776282994835e-8, 1.2079518088093428e-7]\n",
      "    parameters:\t\t[0.21871444048957814, 0.7141457366146093, 0.9123543218922615, 2.5943080238093197, 3.1269685423374893, 6.951343143912313, 8.151148649014004, 14.05842588492204]\n",
      "    errors:\t\t[0.13479962596757694, 0.10291389246472256, 0.35364380944756363, 2.4223361132068457, 0.7620661394839099, 0.524982938885739, 3.968536926004576, 0.6580167283863516]\n",
      "    ranges:\n",
      "\t\t\tchi2:\t\t3.3306338811122207\t-\t4.311217406170388\n",
      "\t\t\tparameter:\t0.18908051455804747\t-\t0.2620559711271096\n",
      "\t\t\tparameter:\t0.7122829137823627\t-\t0.7936785245450322\n",
      "\t\t\tparameter:\t0.7689964657666617\t-\t0.9886907516983285\n",
      "\t\t\tparameter:\t2.4525476870458314\t-\t3.465916585359323\n",
      "\t\t\tparameter:\t2.6264655633989578\t-\t3.190724005402417\n",
      "\t\t\tparameter:\t6.926472034185152\t-\t7.209203243424806\n",
      "\t\t\tparameter:\t8.092324380094142\t-\t10.941935476092475\n",
      "\t\t\tparameter:\t14.047433546404973\t-\t14.514827672780275\n"
     ]
    },
    {
     "data": {
      "text/plain": [
       ":ok"
      ]
     },
     "execution_count": 33,
     "metadata": {},
     "output_type": "execute_result"
    }
   ],
   "source": [
    "options = [{:probes, saved}|options]\n",
    "result = {_,_,parameters3,_} = F.chi2fit hdata, {parameters3, D.cdf(model), penalty}, 40, options\n",
    "U.display(hdata,model,result,options)"
   ]
  },
  {
   "cell_type": "code",
   "execution_count": 35,
   "metadata": {
    "scrolled": false,
    "slideshow": {
     "slide_type": "slide"
    }
   },
   "outputs": [
    {
     "data": {
      "image/png": "[encoded data removed]"
     },
     "metadata": {},
     "output_type": "display_data"
    }
   ],
   "source": [
    "pdf = fn x -> D.pdf(model).(x,parameters3) end\n",
    "G.pdf(data,\n",
    "    plottitle: \"Fit of PDF to Trimodal Weibull\",\n",
    "    xlabel: \"Lead time\",\n",
    "    ylabel: \"Frequency\",\n",
    "    xrange: '[0:20]',\n",
    "    yrange: '[0:0.15]',\n",
    "    pdf: pdf,\n",
    "    bin: binsize,\n",
    "    title: \"Three Weibulls\")\n",
    ":\"this is an inline image\""
   ]
  },
  {
   "cell_type": "markdown",
   "metadata": {
    "slideshow": {
     "slide_type": "slide"
    }
   },
   "source": [
    "## References"
   ]
  },
  {
   "cell_type": "markdown",
   "metadata": {
    "slideshow": {
     "slide_type": "-"
    }
   },
   "source": [
    "[1] _Poisson distribution_, https://en.wikipedia.org/wiki/Poisson_distribution/<br>\n",
    "[2] _Chi2Fit_, Pieter Rijken, 2018, https://hex.pm/packages/chi2fit<br>\n",
    "[3] _Asymmetric errors_, Roger Barlow, Manchester University, UK and Stanford University, USA, PHYSTAT2003, SLAC, Stanford, California, September 8-11, 2003, https://www.slac.stanford.edu/econf/C030908/papers/WEMT002.pdf<br>\n",
    "[4] _Efficient use of Monte Carlo: uncertainty propagation_, D. Rochman et. al., Nuclear Science and Engineering, 2013, ftp://ftp.nrg.eu/pub/www/talys/bib_rochman/fastTMC.pdf<br>\n",
    "[5] Niladri Bose, LinkedIn post, August 2020"
   ]
  }
 ],
 "metadata": {
  "kernelspec": {
   "display_name": "Elixir",
   "language": "Elixir",
   "name": "ielixir"
  },
  "language_info": {
   "codemirror_mode": "elixir",
   "file_extension": "ex",
   "mimetype": "text/x-elixir",
   "name": "elixir",
   "nbconvert_exporter": "",
   "pygments_lexer": "elixir",
   "version": "1.11.2"
  }
 },
 "nbformat": 4,
 "nbformat_minor": 2
}
