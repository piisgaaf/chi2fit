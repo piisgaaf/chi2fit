{
 "cells": [
  {
   "cell_type": "markdown",
   "metadata": {},
   "source": [
    "# Basic usage of the `Chi2fit` package"
   ]
  },
  {
   "cell_type": "code",
   "execution_count": 7,
   "metadata": {},
   "outputs": [
    {
     "data": {
      "text/plain": [
       "Chi2fit.Distribution"
      ]
     },
     "execution_count": 7,
     "metadata": {},
     "output_type": "execute_result"
    }
   ],
   "source": [
    "require Chi2fit.Distribution\n",
    "alias Chi2fit.Distribution, as: D"
   ]
  },
  {
   "cell_type": "code",
   "execution_count": 8,
   "metadata": {},
   "outputs": [
    {
     "data": {
      "text/plain": [
       "0.6462613084207343"
      ]
     },
     "execution_count": 8,
     "metadata": {},
     "output_type": "execute_result"
    }
   ],
   "source": [
    "f = D.erlangCDF 0.5,4.3\n",
    "f.(0.1)"
   ]
  },
  {
   "cell_type": "markdown",
   "metadata": {},
   "source": [
    "# Available functions"
   ]
  },
  {
   "cell_type": "code",
   "execution_count": 9,
   "metadata": {},
   "outputs": [
    {
     "name": "stdout",
     "output_type": "stream",
     "text": [
      "bernoulli/1          coin/0               constant/1           dice/1               \n",
      "dice_gk4/1           erlang/2             erlangCDF/2          exponential/1        \n",
      "exponentialCDF/1     frechet/2            frechetCDF/2         guess/1              \n",
      "guess/2              guess/3              model/1              model/2              \n",
      "nakagami/2           nakagamiCDF/2        normal/2             normalCDF/2          \n",
      "poisson/1            poissonCDF/1         sepCDF/4             sepCDF/5             \n",
      "uniform/1            uniform/2            wald/2               waldCDF/2            \n",
      "weibull/2            weibullCDF/2         \n"
     ]
    }
   ],
   "source": [
    "exports Chi2fit.Distribution"
   ]
  },
  {
   "cell_type": "markdown",
   "metadata": {},
   "source": [
    "# Help"
   ]
  },
  {
   "cell_type": "markdown",
   "metadata": {},
   "source": [
    "List of all available modules (see https://stackoverflow.com/questions/41733712/elixir-list-all-modules-in-namespace):"
   ]
  },
  {
   "cell_type": "code",
   "execution_count": 21,
   "metadata": {},
   "outputs": [
    {
     "data": {
      "text/plain": [
       "[Chi2fit.Cli, Chi2fit.Distribution, Chi2fit.Distribution.UnsupportedDistributionError, Chi2fit.FFT, Chi2fit.Fit, Chi2fit.Matrix, Chi2fit.Roots, Chi2fit.Utilities, Chi2fit.Utilities.UnknownSampleErrorAlgorithmError]"
      ]
     },
     "execution_count": 21,
     "metadata": {},
     "output_type": "execute_result"
    }
   ],
   "source": [
    ":application.load :chi2fit\n",
    "with {:ok, list} <- :application.get_key(:chi2fit, :modules) do\n",
    "  list |> Enum.filter(& &1 |> Module.split |> Enum.take(1) == ~w|Chi2fit|)\n",
    "end"
   ]
  },
  {
   "cell_type": "markdown",
   "metadata": {},
   "source": [
    "#### Help on modules"
   ]
  },
  {
   "cell_type": "code",
   "execution_count": 22,
   "metadata": {
    "scrolled": false
   },
   "outputs": [
    {
     "name": "stdout",
     "output_type": "stream",
     "text": [
      "\u001b[0m\n",
      "\u001b[7m\u001b[33m                                  Chi2fit.Fit                                   \u001b[0m\n",
      "\u001b[0m\n",
      "Implements fitting a distribution function to sample data. It minimizes the\n",
      "liklihood function.\n",
      "\u001b[0m\n",
      "\u001b[33m## Asymmetric Errors\u001b[0m\n",
      "\u001b[0m\n",
      "To handle asymmetric errors the module provides three ways of determining the\n",
      "contribution to the likelihood function:\n",
      "\u001b[0m\n",
      "\u001b[36m    `simple` - value difference of the observable and model divided by the averaged error lower and upper bounds;\n",
      "    `asimple` - value difference of the observable and model divided by the difference between upper/lower bound and the observed\n",
      "      value depending on whether the model is larger or smaller than the observed value;\n",
      "    `linear` - value difference of the observable and model divided by a linear tranformation (See below).\u001b[0m\n",
      "\u001b[0m\n",
      "\u001b[33m### 'linear': Linear transformation\u001b[0m\n",
      "\u001b[0m\n",
      "Linear transformation that:\n",
      "\u001b[0m\n",
      "\u001b[36m    - is continuous in u=0,\n",
      "    - passes through the point sigma+ at u=1,\n",
      "    - asymptotically reaches 1-y at u->infinity\n",
      "    - pass through the point -sigma- at u=-1,\n",
      "    - asymptotically reaches -y at u->-infinity\u001b[0m\n",
      "\u001b[0m\n",
      "\u001b[33m## References\u001b[0m\n",
      "\u001b[0m\n",
      "[1] See https://arxiv.org/pdf/physics/0401042v1.pdf\n",
      "\u001b[0m\n"
     ]
    }
   ],
   "source": [
    "h Chi2fit.Fit"
   ]
  },
  {
   "cell_type": "markdown",
   "metadata": {},
   "source": [
    "#### Help on functions"
   ]
  },
  {
   "cell_type": "code",
   "execution_count": 24,
   "metadata": {},
   "outputs": [
    {
     "name": "stdout",
     "output_type": "stream",
     "text": [
      "\u001b[0m\n",
      "\u001b[7m\u001b[33m                            def erlangCDF(k, lambda)                            \u001b[0m\n",
      "\u001b[0m\n",
      "    \u001b[36m@spec\u001b[0m erlangCDF(k :: number(), lambda :: number()) :: cdf()\n",
      "\n",
      "The Erlang cumulative distribution function.\n",
      "\u001b[0m\n"
     ]
    }
   ],
   "source": [
    "h Chi2fit.Distribution.erlangCDF"
   ]
  }
 ],
 "metadata": {
  "kernelspec": {
   "display_name": "Elixir",
   "language": "Elixir",
   "name": "ielixir"
  },
  "language_info": {
   "codemirror_mode": "elixir",
   "file_extension": "ex",
   "mimetype": "text/x-elixir",
   "name": "elixir",
   "nbconvert_exporter": "",
   "pygments_lexer": "elixir",
   "version": "1.6.6"
  }
 },
 "nbformat": 4,
 "nbformat_minor": 2
}
