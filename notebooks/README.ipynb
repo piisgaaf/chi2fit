{
 "cells": [
  {
   "cell_type": "markdown",
   "metadata": {},
   "source": [
    "# Basic usage of the `Chi2fit` package"
   ]
  },
  {
   "cell_type": "markdown",
   "metadata": {},
   "source": [
    "This notebook is based on Piotr Przetacznik's [IElixir](https://hex.pm/packages/ielixir)."
   ]
  },
  {
   "cell_type": "markdown",
   "metadata": {},
   "source": [
    "What to find in this notebook?\n",
    "\n",
    "* [Example notebooks](#Example-notebooks)\n",
    "* [Elixir tutorial](#Elixir tutorial)\n",
    "* [`Chi2fit` Package](#Chi2fit-Package)\n",
    "* [Available functions](#Available-functions)\n",
    "* [Help](#Help)\n",
    "    * [Help on modules](#Help-on-modules)\n",
    "    * [Help on functions](#Help-on-functions)\n",
    "* [Additional packages](#Additional-packages)\n",
    "* [Usage](#Usage)\n",
    "* [Special atoms](#Special-atoms)\n",
    "* [Inline images](#Inline-images)\n",
    "* [Command history](#Command-history)"
   ]
  },
  {
   "cell_type": "markdown",
   "metadata": {},
   "source": [
    "## Example notebooks"
   ]
  },
  {
   "cell_type": "markdown",
   "metadata": {},
   "source": [
    "Several examples are included. Use the menu `File -> open` to explore which ones are available. Use\n",
    "thse to learn more about how to use `Chi2fit` or copy these as a basis for your own notes."
   ]
  },
  {
   "cell_type": "markdown",
   "metadata": {},
   "source": [
    "A suggested reading order is:\n",
    "\n",
    "1. `README.ipynb` - this notebook ;-)\n",
    "1. [`Forecasting-empirical-data.ipynb`](Forecasting-empirical-data.ipynb) - directly using the empirical data to forecast\n",
    "1. [`Forecasting-bootstrapping.ipynb`](Forecasting-bootstrapping.ipynb) - estimation of the error of the forecast because the data set is limited\n",
    "1. [`Forecasting.ipynb`](Forecasting.ipynb) - description of the empirical data by a known probability distribution and use this to forecast\n",
    "1. [`Forecasting-non-equilibrium.ipynb`](Forecasting-non-equilibrium.ipynb) - analysis of changes in delivery rate to choose the most relevant and recent subsequence in the data set\n",
    "1. [`Forecasting-multiplot.ipynb`](Forecasting-multiplot.ipynb) - demonstrates the use of multi plots"
   ]
  },
  {
   "cell_type": "markdown",
   "metadata": {},
   "source": [
    "## Elixir tutorial"
   ]
  },
  {
   "cell_type": "markdown",
   "metadata": {},
   "source": [
    "The notebooks are based on Jupyter and on the Elixir kernel. Commands and statements are entered using the language Elixir. There are many good tutorials on Elixir.\n",
    "\n",
    "A good starting point is [Elixir's home](https://elixir-lang.org/).\n",
    "\n",
    "New to Elixir? An introduction to Elixir can be found [here](https://elixir-lang.org/getting-started/introduction.html)."
   ]
  },
  {
   "cell_type": "markdown",
   "metadata": {},
   "source": [
    "## `Chi2fit` Package"
   ]
  },
  {
   "cell_type": "markdown",
   "metadata": {},
   "source": [
    "The `Chi2fit` package consists of the (Elixir) modules:\n",
    "\n",
    "* [Distribution](https://hexdocs.pm/chi2fit/Chi2fit.Distribution.html#content)\n",
    "* [FFT](https://hexdocs.pm/chi2fit/Chi2fit.FFT.html#content)\n",
    "* [Fit](https://hexdocs.pm/chi2fit/Chi2fit.Fit.html#content)\n",
    "* [Matrix](https://hexdocs.pm/chi2fit/Chi2fit.Matrix.html#content)\n",
    "* [Root](https://hexdocs.pm/chi2fit/Chi2fit.Roots.html#content)\n",
    "* [Utilities](https://hexdocs.pm/chi2fit/Chi2fit.Utilities.html#content)\n",
    "\n",
    "And a module for drawing charts using [Gnuplot](https://hexdocs.pm/gnuplot/api-reference.html):\n",
    "\n",
    "* [Gnuplotlib](https://hexdocs.pm/chi2fit/Gnuplotlib.html#content)\n",
    "\n",
    "Finally, a contains the module `Chi2fit.Cli` for command line use outside of notebooks:\n",
    "\n",
    "* [Cli](* [Cli](https://hexdocs.pm/chi2fit/Chi2fit.Cli.html#content)\n"
   ]
  },
  {
   "cell_type": "markdown",
   "metadata": {},
   "source": [
    "List of all available modules (see https://stackoverflow.com/questions/41733712/elixir-list-all-modules-in-namespace):"
   ]
  },
  {
   "cell_type": "code",
   "execution_count": 1,
   "metadata": {},
   "outputs": [
    {
     "data": {
      "text/plain": [
       "[Chi2fit.Cli, Chi2fit.Distribution, Chi2fit.Distribution.UnsupportedDistributionError, Chi2fit.FFT, Chi2fit.Fit, Chi2fit.Matrix, Chi2fit.Roots, Chi2fit.Utilities, Chi2fit.Utilities.UnknownSampleErrorAlgorithmError]"
      ]
     },
     "execution_count": 1,
     "metadata": {},
     "output_type": "execute_result"
    }
   ],
   "source": [
    ":application.load :chi2fit\n",
    "with {:ok, list} <- :application.get_key(:chi2fit, :modules) do\n",
    "  list |> Enum.filter(& &1 |> Module.split |> Enum.take(1) == ~w|Chi2fit|)\n",
    "end"
   ]
  },
  {
   "cell_type": "markdown",
   "metadata": {},
   "source": [
    "## Available functions"
   ]
  },
  {
   "cell_type": "markdown",
   "metadata": {},
   "source": [
    "The functions provided by the modules are visible using the `export` function:"
   ]
  },
  {
   "cell_type": "code",
   "execution_count": 2,
   "metadata": {},
   "outputs": [
    {
     "name": "stdout",
     "output_type": "stream",
     "text": [
      "bernoulli/1          coin/0               constant/1           dice/1               \n",
      "dice_gk4/1           erlang/2             erlangCDF/2          exponential/1        \n",
      "exponentialCDF/1     frechet/2            frechetCDF/2         guess/1              \n",
      "guess/2              guess/3              model/1              model/2              \n",
      "nakagami/2           nakagamiCDF/2        normal/2             normalCDF/2          \n",
      "poisson/1            poissonCDF/1         sepCDF/4             sepCDF/5             \n",
      "uniform/1            uniform/2            wald/2               waldCDF/2            \n",
      "weibull/2            weibullCDF/2         \n"
     ]
    }
   ],
   "source": [
    "exports Chi2fit.Distribution"
   ]
  },
  {
   "cell_type": "markdown",
   "metadata": {},
   "source": [
    "## Help"
   ]
  },
  {
   "cell_type": "markdown",
   "metadata": {},
   "source": [
    "For all modules and function 'help' is available using the builtin command `h`."
   ]
  },
  {
   "cell_type": "markdown",
   "metadata": {},
   "source": [
    "#### Help on modules"
   ]
  },
  {
   "cell_type": "code",
   "execution_count": 3,
   "metadata": {
    "scrolled": false
   },
   "outputs": [
    {
     "name": "stdout",
     "output_type": "stream",
     "text": [
      "\u001b[0m\n",
      "\u001b[7m\u001b[33m                                  Chi2fit.Fit                                   \u001b[0m\n",
      "\u001b[0m\n",
      "Implements fitting a distribution function to sample data. It minimizes the\n",
      "liklihood function.\n",
      "\u001b[0m\n",
      "\u001b[33m## Asymmetric Errors\u001b[0m\n",
      "\u001b[0m\n",
      "To handle asymmetric errors the module provides three ways of determining the\n",
      "contribution to the likelihood function:\n",
      "\u001b[0m\n",
      "\u001b[36m    `simple` - value difference of the observable and model divided by the averaged error lower and upper bounds;\n",
      "    `asimple` - value difference of the observable and model divided by the difference between upper/lower bound and the observed\n",
      "      value depending on whether the model is larger or smaller than the observed value;\n",
      "    `linear` - value difference of the observable and model divided by a linear tranformation (See below).\u001b[0m\n",
      "\u001b[0m\n",
      "\u001b[33m### 'linear': Linear transformation\u001b[0m\n",
      "\u001b[0m\n",
      "Linear transformation that:\n",
      "\u001b[0m\n",
      "\u001b[36m    - is continuous in u=0,\n",
      "    - passes through the point sigma+ at u=1,\n",
      "    - asymptotically reaches 1-y at u->infinity\n",
      "    - pass through the point -sigma- at u=-1,\n",
      "    - asymptotically reaches -y at u->-infinity\u001b[0m\n",
      "\u001b[0m\n",
      "\u001b[33m## References\u001b[0m\n",
      "\u001b[0m\n",
      "[1] See https://arxiv.org/pdf/physics/0401042v1.pdf\n",
      "\u001b[0m\n"
     ]
    }
   ],
   "source": [
    "h Chi2fit.Fit"
   ]
  },
  {
   "cell_type": "markdown",
   "metadata": {},
   "source": [
    "#### Help on functions"
   ]
  },
  {
   "cell_type": "code",
   "execution_count": 4,
   "metadata": {
    "scrolled": false
   },
   "outputs": [
    {
     "name": "stdout",
     "output_type": "stream",
     "text": [
      "\u001b[0m\n",
      "\u001b[7m\u001b[33m                            def erlangCDF(k, lambda)                            \u001b[0m\n",
      "\u001b[0m\n",
      "    \u001b[36m@spec\u001b[0m erlangCDF(k :: number(), lambda :: number()) :: cdf()\n",
      "\n",
      "The Erlang cumulative distribution function.\n",
      "\u001b[0m\n"
     ]
    }
   ],
   "source": [
    "h Chi2fit.Distribution.erlangCDF"
   ]
  },
  {
   "cell_type": "markdown",
   "metadata": {},
   "source": [
    "## Additional packages"
   ]
  },
  {
   "cell_type": "markdown",
   "metadata": {},
   "source": [
    "The package `Chi2fit` is provided 'out-of-the-box' with this notebook. Additional packages can be installed from [Hex](http://hex.pm).\n",
    "\n",
    "`IElixir` provides a mechanism using [`Boyle`](https://github.com/pprzetacznik/ielixir#package-management-with-boyle)."
   ]
  },
  {
   "cell_type": "markdown",
   "metadata": {},
   "source": [
    "Suppose we want to use the functions provided by [`Decimal`](https://hex.pm/packages/decimal)."
   ]
  },
  {
   "cell_type": "code",
   "execution_count": 5,
   "metadata": {},
   "outputs": [
    {
     "name": "stdout",
     "output_type": "stream",
     "text": [
      "All dependencies up to date\n"
     ]
    },
    {
     "name": "stderr",
     "output_type": "stream",
     "text": [
      "\u001b[33mwarning: \u001b[0mredefining module IElixir.Mixfile (current version defined in memory)\n",
      "  mix.exs:1\n",
      "\n"
     ]
    },
    {
     "data": {
      "text/plain": [
       "{:ok, [\"decimal_env\"]}"
      ]
     },
     "execution_count": 5,
     "metadata": {},
     "output_type": "execute_result"
    }
   ],
   "source": [
    "Boyle.mk(\"decimal_env\")\n",
    "Boyle.list()"
   ]
  },
  {
   "cell_type": "code",
   "execution_count": 6,
   "metadata": {
    "scrolled": false
   },
   "outputs": [
    {
     "name": "stdout",
     "output_type": "stream",
     "text": [
      "All dependencies up to date\n",
      "Resolving Hex dependencies...\n",
      "Dependency resolution completed:\n",
      "New:\n",
      "\u001b[32m  decimal 1.7.0\u001b[0m\n",
      "* Getting decimal (Hex package)\n",
      "==> decimal\n",
      "Compiling 1 file (.ex)\n",
      "Generated decimal app\n"
     ]
    },
    {
     "name": "stderr",
     "output_type": "stream",
     "text": [
      "\u001b[33mwarning: \u001b[0mredefining module IElixir.Mixfile (current version defined in memory)\n",
      "  mix.exs:1\n",
      "\n",
      "\u001b[33mwarning: \u001b[0mredefining module Decimal (current version loaded from /home/jovyan/ielixir/_build/prod/lib/decimal/ebin/Elixir.Decimal.beam)\n",
      "  lib/decimal.ex:13\n",
      "\n",
      "\u001b[33mwarning: \u001b[0mredefining module Decimal.Error (current version loaded from /home/jovyan/ielixir/_build/prod/lib/decimal/ebin/Elixir.Decimal.Error.beam)\n",
      "  lib/decimal.ex:135\n",
      "\n",
      "\u001b[33mwarning: \u001b[0mredefining module Decimal.Context (current version loaded from /home/jovyan/ielixir/_build/prod/lib/decimal/ebin/Elixir.Decimal.Context.beam)\n",
      "  lib/decimal.ex:162\n",
      "\n",
      "\u001b[33mwarning: \u001b[0mredefining module Inspect.Decimal (current version loaded from /home/jovyan/ielixir/_build/prod/lib/decimal/ebin/Elixir.Inspect.Decimal.beam)\n",
      "  lib/decimal.ex:1866\n",
      "\n",
      "\u001b[33mwarning: \u001b[0mredefining module String.Chars.Decimal (current version loaded from /home/jovyan/ielixir/_build/prod/lib/decimal/ebin/Elixir.String.Chars.Decimal.beam)\n",
      "  lib/decimal.ex:1872\n",
      "\n"
     ]
    },
    {
     "data": {
      "text/plain": [
       ":ok"
      ]
     },
     "execution_count": 6,
     "metadata": {},
     "output_type": "execute_result"
    }
   ],
   "source": [
    "Boyle.activate(\"decimal_env\")\n",
    "Boyle.install({:decimal, \"~> 1.7\"})"
   ]
  },
  {
   "cell_type": "code",
   "execution_count": 7,
   "metadata": {},
   "outputs": [
    {
     "data": {
      "text/plain": [
       "\"1.414213562373095048801688724\""
      ]
     },
     "execution_count": 7,
     "metadata": {},
     "output_type": "execute_result"
    }
   ],
   "source": [
    "sqrt2 = Decimal.sqrt(\"2\")\n",
    "Decimal.to_string(sqrt2)"
   ]
  },
  {
   "cell_type": "code",
   "execution_count": 8,
   "metadata": {},
   "outputs": [
    {
     "data": {
      "text/plain": [
       ":ok"
      ]
     },
     "execution_count": 8,
     "metadata": {},
     "output_type": "execute_result"
    }
   ],
   "source": [
    "ctxt = Decimal.get_context()\n",
    "ctxt = %Decimal.Context{ctxt | precision: 50}\n",
    "Decimal.set_context ctxt"
   ]
  },
  {
   "cell_type": "code",
   "execution_count": 9,
   "metadata": {},
   "outputs": [
    {
     "data": {
      "text/plain": [
       "\"1.4142135623730950488016887242096980785696718753769\""
      ]
     },
     "execution_count": 9,
     "metadata": {},
     "output_type": "execute_result"
    }
   ],
   "source": [
    "sqrt2 = Decimal.sqrt(\"2\")\n",
    "Decimal.to_string(sqrt2)"
   ]
  },
  {
   "cell_type": "code",
   "execution_count": 10,
   "metadata": {},
   "outputs": [
    {
     "name": "stderr",
     "output_type": "stream",
     "text": [
      "\u001b[33mwarning: \u001b[0mredefining module IElixir.Mixfile (current version defined in memory)\n",
      "  mix.exs:1\n",
      "\n"
     ]
    },
    {
     "data": {
      "text/plain": [
       ":ok"
      ]
     },
     "execution_count": 10,
     "metadata": {},
     "output_type": "execute_result"
    }
   ],
   "source": [
    "Boyle.deactivate()"
   ]
  },
  {
   "cell_type": "markdown",
   "metadata": {},
   "source": [
    "## Usage"
   ]
  },
  {
   "cell_type": "markdown",
   "metadata": {},
   "source": [
    "Function need to be specified using the module name and function name, for example if we want the value of the Erlang CDF we use the function `erlangCDF` in the module `Chi2fit.Distribution`:"
   ]
  },
  {
   "cell_type": "code",
   "execution_count": 11,
   "metadata": {
    "scrolled": true
   },
   "outputs": [
    {
     "data": {
      "text/plain": [
       "0.6462613084207343"
      ]
     },
     "execution_count": 11,
     "metadata": {},
     "output_type": "execute_result"
    }
   ],
   "source": [
    "f = Chi2fit.Distribution.erlangCDF 0.5,4.3\n",
    "f.(0.1)"
   ]
  },
  {
   "cell_type": "markdown",
   "metadata": {},
   "source": [
    "We use an `alias` to have to type less:"
   ]
  },
  {
   "cell_type": "code",
   "execution_count": 12,
   "metadata": {},
   "outputs": [
    {
     "data": {
      "text/plain": [
       "0.6462613084207343"
      ]
     },
     "execution_count": 12,
     "metadata": {},
     "output_type": "execute_result"
    }
   ],
   "source": [
    "alias Chi2fit.Distribution, as: D\n",
    "f = D.erlangCDF 0.5,4.3\n",
    "f.(0.1)"
   ]
  },
  {
   "cell_type": "markdown",
   "metadata": {},
   "source": [
    "We can rid of the `D.` alltogether by using `import`s:"
   ]
  },
  {
   "cell_type": "code",
   "execution_count": 13,
   "metadata": {},
   "outputs": [
    {
     "data": {
      "text/plain": [
       "0.6462613084207343"
      ]
     },
     "execution_count": 13,
     "metadata": {},
     "output_type": "execute_result"
    }
   ],
   "source": [
    "import Chi2fit.Distribution\n",
    "f = erlangCDF 0.5,4.3\n",
    "f.(0.1)"
   ]
  },
  {
   "cell_type": "markdown",
   "metadata": {},
   "source": [
    "## Special atoms"
   ]
  },
  {
   "cell_type": "markdown",
   "metadata": {},
   "source": [
    "`IElixir` provides three atoms that are interpreted by `IElixir`."
   ]
  },
  {
   "cell_type": "markdown",
   "metadata": {},
   "source": [
    "What is an atom? In Elixir an atom ia a variable for which its value is its name. For example, the atmo `:variable` is an atom and has `variable` as value."
   ]
  },
  {
   "cell_type": "markdown",
   "metadata": {},
   "source": [
    "The 3 special atoms in `IElixir` are:\n",
    "\n",
    "* `:\"this is raw html\"` - the output result of the command is shown as is instead of an Elixir term\n",
    "* `:\"do not show this result in output\"` - the output of the statement is not shown in the output cell\n",
    "* `:\"this is an inline image\"` - used for displaying an image in the output cell (see below)\n",
    "\n",
    "In addition to these atoms, the following tuple is interpreted:\n",
    "\n",
    "* `{:\"this is an inline image\", src: path_to_image}` - used for displaying an image in the output cell (see below)\n"
   ]
  },
  {
   "cell_type": "markdown",
   "metadata": {},
   "source": [
    "These are used by returning either one of these as the result of a command."
   ]
  },
  {
   "cell_type": "markdown",
   "metadata": {},
   "source": [
    "## Inline images"
   ]
  },
  {
   "cell_type": "markdown",
   "metadata": {},
   "source": [
    "The atom `:\"this is an inline image\"` indicates that the output of the cell is to be interpreted as a base64 encoded image."
   ]
  },
  {
   "cell_type": "markdown",
   "metadata": {},
   "source": [
    "An example based on [Gnuplot](https://hex.pm/packages/gnuplot) is shown below."
   ]
  },
  {
   "cell_type": "code",
   "execution_count": 14,
   "metadata": {},
   "outputs": [
    {
     "data": {
      "image/png": "[encoded data removed]"
     },
     "metadata": {},
     "output_type": "display_data"
    }
   ],
   "source": [
    "Gnuplot.plot([\n",
    "  ~w(set terminal pngcairo size 800,200)a,\n",
    "  ~w(set output)a,\n",
    "  [:plot, 'sin(x)', :title, \"Sine Wave\"]\n",
    "])\n",
    "Gnuplotlib.capture() |> Base.encode64 |> IO.write\n",
    ":\"this is an inline image\""
   ]
  },
  {
   "cell_type": "markdown",
   "metadata": {},
   "source": [
    "## Command history"
   ]
  },
  {
   "cell_type": "markdown",
   "metadata": {},
   "source": [
    "`IElixir` supports a simple command history. The results of the last command is stored in the variable `ans`."
   ]
  },
  {
   "cell_type": "code",
   "execution_count": 15,
   "metadata": {},
   "outputs": [
    {
     "data": {
      "text/plain": [
       "1.4142135623730951"
      ]
     },
     "execution_count": 15,
     "metadata": {},
     "output_type": "execute_result"
    }
   ],
   "source": [
    ":math.sqrt(2)"
   ]
  },
  {
   "cell_type": "code",
   "execution_count": 16,
   "metadata": {},
   "outputs": [
    {
     "data": {
      "text/plain": [
       "1.4142135623730951"
      ]
     },
     "execution_count": 16,
     "metadata": {},
     "output_type": "execute_result"
    }
   ],
   "source": [
    "ans"
   ]
  },
  {
   "cell_type": "markdown",
   "metadata": {},
   "source": [
    "The history of the results of previous commands can be accessed using the variable `out`."
   ]
  },
  {
   "cell_type": "code",
   "execution_count": 17,
   "metadata": {},
   "outputs": [
    {
     "name": "stdout",
     "output_type": "stream",
     "text": [
      "\u001b[33mTerm\u001b[0m\n",
      "\u001b[22m  %{1 => [Chi2fit.Cli, Chi2fit.Distribution, Chi2fit.Distribution.UnsupportedDistributionError, Chi2fit.FFT, Chi2fit.Fit, Chi2fit.Matrix, Chi2fit.Roots, Chi2fit.Utilities, Chi2fit.Utilities.UnknownSampleErrorAlgorithmError], 5 => {:ok, [\"decimal_env\"]}, 6 => :ok, 7 => \"1.414213562373095048801688724\", 8 => :ok, 9 => \"1.4142135623730950488016887242096980785696718753769\", 10 => :ok, 11 => 0.6462613084207343, 12 => 0.6462613084207343, 13 => 0.6462613084207343, 15 => 1.4142135623730951, 16 => 1.4142135623730951}\u001b[0m\n",
      "\u001b[33mData type\u001b[0m\n",
      "\u001b[22m  Map\u001b[0m\n",
      "\u001b[33mReference modules\u001b[0m\n",
      "\u001b[22m  Map\u001b[0m\n",
      "\u001b[33mImplemented protocols\u001b[0m\n",
      "\u001b[22m  Ecto.DataType, Poison.Decoder, Poison.Encoder, IEx.Info, Collectable, Inspect, Enumerable\u001b[0m\n"
     ]
    }
   ],
   "source": [
    "i(out)"
   ]
  },
  {
   "cell_type": "code",
   "execution_count": 18,
   "metadata": {
    "scrolled": true
   },
   "outputs": [
    {
     "data": {
      "text/plain": [
       "\"1.4142135623730950488016887242096980785696718753769\""
      ]
     },
     "execution_count": 18,
     "metadata": {},
     "output_type": "execute_result"
    }
   ],
   "source": [
    "out[9]"
   ]
  }
 ],
 "metadata": {
  "kernelspec": {
   "display_name": "Elixir",
   "language": "Elixir",
   "name": "ielixir"
  },
  "language_info": {
   "codemirror_mode": "elixir",
   "file_extension": "ex",
   "mimetype": "text/x-elixir",
   "name": "elixir",
   "nbconvert_exporter": "",
   "pygments_lexer": "elixir",
   "version": "1.6.6"
  }
 },
 "nbformat": 4,
 "nbformat_minor": 2
}
