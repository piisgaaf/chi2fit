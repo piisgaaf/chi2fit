{
 "cells": [
  {
   "cell_type": "markdown",
   "metadata": {
    "slideshow": {
     "slide_type": "slide"
    }
   },
   "source": [
    "# Basic usage of the `Chi2fit` package"
   ]
  },
  {
   "cell_type": "markdown",
   "metadata": {
    "slideshow": {
     "slide_type": "fragment"
    }
   },
   "source": [
    "This notebook is based on Piotr Przetacznik's [IElixir](https://hex.pm/packages/ielixir).\n",
    "\n",
    "More information on `Chi2fit` can be found at:\n",
    "\n",
    "* [Docker image](https://hub.docker.com/r/pietertje/chi2fit)\n",
    "* [Github](https://github.com/piisgaaf/chi2fit)\n",
    "* [Hex.pm](https://hex.pm/packages/chi2fit)"
   ]
  },
  {
   "cell_type": "markdown",
   "metadata": {
    "slideshow": {
     "slide_type": "skip"
    }
   },
   "source": [
    "What to find in this notebook?\n",
    "\n",
    "* [Example notebooks](#Example-notebooks)\n",
    "* [Elixir tutorial](#Elixir tutorial)\n",
    "* [`Chi2fit` Package](#Chi2fit-Package)\n",
    "* [Available functions](#Available-functions)\n",
    "* [Help](#Help)\n",
    "    * [Help on modules](#Help-on-modules)\n",
    "    * [Help on functions](#Help-on-functions)\n",
    "* [Additional packages](#Additional-packages)\n",
    "* [Usage](#Usage)\n",
    "* [Special atoms](#Special-atoms)\n",
    "* [Inline images](#Inline-images)\n",
    "* [Command history](#Command-history)"
   ]
  },
  {
   "cell_type": "markdown",
   "metadata": {
    "slideshow": {
     "slide_type": "subslide"
    }
   },
   "source": [
    "## Example notebooks\n",
    "\n",
    "A list of the notebooks that are available:\n",
    "\n",
    "1. `README.ipynb` - this notebook ;-)\n",
    "1. [`Forecasting-empirical-data.ipynb`](Forecasting-empirical-data.ipynb) - directly using the empirical data to forecast\n",
    "1. [`Forecasting-bootstrapping.ipynb`](Forecasting-bootstrapping.ipynb) - estimation of the error of the forecast because the data set is limited\n",
    "1. [`Forecasting-fit-to-known-distribution.ipynb`](Forecasting-fit-to-known-distribution.ipynb) - description of the empirical data by a known probability distribution and use this to forecast\n",
    "1. [`Forecasting-non-equilibrium.ipynb`](Forecasting-non-equilibrium.ipynb) - analysis of changes in delivery rate to choose the most relevant and recent subsequence in the data set\n",
    "1. [`Forecasting-multiplot.ipynb`](Forecasting-multiplot.ipynb) - demonstrates the use of multi plots\n",
    "1. [`Forecasting-cycle-time.ipynb`](Forecasting-cycle-time.ipynb) - illustrates analysis based on cycle time"
   ]
  },
  {
   "cell_type": "markdown",
   "metadata": {
    "slideshow": {
     "slide_type": "skip"
    }
   },
   "source": [
    "The folder 'data' contains samples to use:\n",
    "\n",
    "1. `team.csv` - data set containing less than 900 completion dates"
   ]
  },
  {
   "cell_type": "markdown",
   "metadata": {
    "slideshow": {
     "slide_type": "subslide"
    }
   },
   "source": [
    "A suggested reading order is shown below."
   ]
  },
  {
   "cell_type": "code",
   "execution_count": 2,
   "metadata": {
    "slideshow": {
     "slide_type": "skip"
    }
   },
   "outputs": [],
   "source": [
    "alias Graphvix.Graph, as: G\n",
    "g = G.new node: [shape: \"plaintext\"]\n",
    "{_, v1} = G.add_vertex g, \"README.ipynb\"\n",
    "{_, v2} = G.add_vertex g, \"Forecasting-empirical-data.ipynb\"\n",
    "{_, v3} = G.add_vertex g, \"Forecasting-bootstrapping.ipynb\"\n",
    "{_, v4} = G.add_vertex g, \"Forecasting-fit-to-known-distribution.ipynb\"\n",
    "{_, v5} = G.add_vertex g, \"Forecasting-non-equilibrium.ipynb\"\n",
    "{_, v6} = G.add_vertex g, \"Forecasting-multiplot.ipynb\"\n",
    "{_, v7} = G.add_vertex g, \"Forecasting-cycle-time.ipynb\"\n",
    "G.add_edge g, v1, v2\n",
    "G.add_edge g, v2, v3\n",
    "G.add_edge g, v2, v4\n",
    "G.add_edge g, v4, v5\n",
    "G.add_edge g, v2, v6\n",
    "G.add_edge g, v4, v7\n",
    ":\"do not show this result in output\""
   ]
  },
  {
   "cell_type": "code",
   "execution_count": 3,
   "metadata": {
    "scrolled": true,
    "slideshow": {
     "slide_type": "fragment"
    }
   },
   "outputs": [
    {
     "data": {
      "image/png": "[encoded data removed]"
     },
     "metadata": {},
     "output_type": "display_data"
    }
   ],
   "source": [
    "G.compile g, \"/app/notebooks/images/readme\", :png\n",
    "{:\"this is an inline image\", src: \"/app/notebooks/images/readme.png\"}"
   ]
  },
  {
   "cell_type": "markdown",
   "metadata": {
    "slideshow": {
     "slide_type": "skip"
    }
   },
   "source": [
    "Several examples are included. Use the menu `File -> open` to explore which ones are available. Use\n",
    "thse to learn more about how to use `Chi2fit` or copy these as a basis for your own notes."
   ]
  },
  {
   "cell_type": "markdown",
   "metadata": {
    "slideshow": {
     "slide_type": "subslide"
    }
   },
   "source": [
    "## Elixir tutorial\n",
    "\n",
    "The notebooks are based on Jupyter and on the Elixir kernel. Commands and statements are entered using the language Elixir. There are many good tutorials on Elixir.\n",
    "\n",
    "A good starting point is [Elixir's home](https://elixir-lang.org/).\n",
    "\n",
    "New to Elixir? An introduction to Elixir can be found [here](https://elixir-lang.org/getting-started/introduction.html)."
   ]
  },
  {
   "cell_type": "markdown",
   "metadata": {
    "slideshow": {
     "slide_type": "slide"
    }
   },
   "source": [
    "## `Chi2fit` Package\n",
    "\n",
    "The `Chi2fit` package consists of the (Elixir) modules:\n",
    "\n",
    "* [Distribution](https://hexdocs.pm/chi2fit/Chi2fit.Distribution.html#content)\n",
    "* [FFT](https://hexdocs.pm/chi2fit/Chi2fit.FFT.html#content)\n",
    "* [Fit](https://hexdocs.pm/chi2fit/Chi2fit.Fit.html#content)\n",
    "* [Matrix](https://hexdocs.pm/chi2fit/Chi2fit.Matrix.html#content)\n",
    "* [Root](https://hexdocs.pm/chi2fit/Chi2fit.Roots.html#content)\n",
    "* [Utilities](https://hexdocs.pm/chi2fit/Chi2fit.Utilities.html#content)"
   ]
  },
  {
   "cell_type": "markdown",
   "metadata": {
    "slideshow": {
     "slide_type": "skip"
    }
   },
   "source": [
    "And a module for drawing charts using [Gnuplot](https://hexdocs.pm/gnuplot/api-reference.html):\n",
    "\n",
    "* [Gnuplotlib](https://hexdocs.pm/chi2fit/Gnuplotlib.html#content)\n",
    "\n",
    "Finally, a contains the module `Chi2fit.Cli` for command line use outside of notebooks:\n",
    "\n",
    "* [Cli](* [Cli](https://hexdocs.pm/chi2fit/Chi2fit.Cli.html#content)"
   ]
  },
  {
   "cell_type": "markdown",
   "metadata": {
    "slideshow": {
     "slide_type": "skip"
    }
   },
   "source": [
    "List of all available modules (see https://stackoverflow.com/questions/41733712/elixir-list-all-modules-in-namespace):"
   ]
  },
  {
   "cell_type": "code",
   "execution_count": 2,
   "metadata": {
    "slideshow": {
     "slide_type": "skip"
    }
   },
   "outputs": [
    {
     "data": {
      "text/plain": [
       "[Chi2fit.Cli, Chi2fit.Distribution, Chi2fit.Distribution.UnsupportedDistributionError, Chi2fit.FFT, Chi2fit.Fit, Chi2fit.Matrix, Chi2fit.Roots, Chi2fit.Utilities, Chi2fit.Utilities.UnknownSampleErrorAlgorithmError]"
      ]
     },
     "execution_count": 2,
     "metadata": {},
     "output_type": "execute_result"
    }
   ],
   "source": [
    ":application.load :chi2fit\n",
    "with {:ok, list} <- :application.get_key(:chi2fit, :modules) do\n",
    "  list |> Enum.filter(& &1 |> Module.split |> Enum.take(1) == ~w|Chi2fit|)\n",
    "end"
   ]
  },
  {
   "cell_type": "markdown",
   "metadata": {
    "slideshow": {
     "slide_type": "skip"
    }
   },
   "source": [
    "## Available functions\n",
    "\n",
    "The functions provided by the modules are visible using the `export` function:"
   ]
  },
  {
   "cell_type": "code",
   "execution_count": 3,
   "metadata": {
    "slideshow": {
     "slide_type": "skip"
    }
   },
   "outputs": [
    {
     "name": "stdout",
     "output_type": "stream",
     "text": [
      "guess/1     guess/2     guess/3     model/1     model/2     \n"
     ]
    }
   ],
   "source": [
    "exports Chi2fit.Distribution"
   ]
  },
  {
   "cell_type": "markdown",
   "metadata": {
    "slideshow": {
     "slide_type": "slide"
    }
   },
   "source": [
    "## Help\n",
    "\n",
    "For all modules and function 'help' is available using the builtin command `h`."
   ]
  },
  {
   "cell_type": "markdown",
   "metadata": {
    "slideshow": {
     "slide_type": "skip"
    }
   },
   "source": [
    "#### Help on modules"
   ]
  },
  {
   "cell_type": "code",
   "execution_count": 4,
   "metadata": {
    "scrolled": false,
    "slideshow": {
     "slide_type": "fragment"
    }
   },
   "outputs": [
    {
     "name": "stdout",
     "output_type": "stream",
     "text": [
      "\u001b[0m\n",
      "\u001b[7m\u001b[33m                                  Chi2fit.Fit                                   \u001b[0m\n",
      "\u001b[0m\n",
      "Implements fitting a distribution function to sample data. It minimizes the\n",
      "liklihood function.\n",
      "\u001b[0m\n",
      "\u001b[33m## Asymmetric Errors\u001b[0m\n",
      "\u001b[0m\n",
      "To handle asymmetric errors the module provides three ways of determining the\n",
      "contribution to the likelihood function:\n",
      "\u001b[0m\n",
      "\u001b[36m    `simple` - value difference of the observable and model divided by the averaged error lower and upper bounds;\n",
      "    `asimple` - value difference of the observable and model divided by the difference between upper/lower bound and the observed\n",
      "      value depending on whether the model is larger or smaller than the observed value;\n",
      "    `linear` - value difference of the observable and model divided by a linear tranformation (See below).\u001b[0m\n",
      "\u001b[0m\n",
      "\u001b[33m### 'linear': Linear transformation\u001b[0m\n",
      "\u001b[0m\n",
      "Linear transformation that:\n",
      "\u001b[0m\n",
      "\u001b[36m    - is continuous in u=0,\n",
      "    - passes through the point sigma+ at u=1,\n",
      "    - asymptotically reaches 1-y at u->infinity\n",
      "    - pass through the point -sigma- at u=-1,\n",
      "    - asymptotically reaches -y at u->-infinity\u001b[0m\n",
      "\u001b[0m\n",
      "\u001b[33m## References\u001b[0m\n",
      "\u001b[0m\n",
      "[1] See https://arxiv.org/pdf/physics/0401042v1.pdf\n",
      "\u001b[0m\n"
     ]
    }
   ],
   "source": [
    "h Chi2fit.Fit"
   ]
  },
  {
   "cell_type": "markdown",
   "metadata": {
    "slideshow": {
     "slide_type": "slide"
    }
   },
   "source": [
    "#### Help on functions"
   ]
  },
  {
   "cell_type": "code",
   "execution_count": 5,
   "metadata": {
    "scrolled": false,
    "slideshow": {
     "slide_type": "fragment"
    }
   },
   "outputs": [
    {
     "name": "stdout",
     "output_type": "stream",
     "text": [
      "\u001b[0m\n",
      "\u001b[7m\u001b[33m                         def model(name, options \\\\ [])                         \u001b[0m\n",
      "\u001b[0m\n",
      "    \u001b[36m@spec\u001b[0m model(name :: String.t(), options :: Keyword.t()) :: any()\n",
      "\n",
      "Returns the model for a name.\n",
      "\u001b[0m\n",
      "The kurtosis is the so-called 'excess kurtosis'.\n",
      "\u001b[0m\n",
      "Supported disributions:\n",
      "\u001b[0m\n",
      "\u001b[36m    \"wald\" - The Wald or Inverse Gauss distribution,\n",
      "    \"weibull\" - The Weibull distribution,\n",
      "    \"exponential\" - The exponential distribution,\n",
      "    \"poisson\" - The Poisson distribution,\n",
      "    \"normal\" - The normal or Gaussian distribution,\n",
      "    \"fechet\" - The Fréchet distribution,\n",
      "    \"nakagami\" - The Nakagami distribution,\n",
      "    \"sep\" - The Skewed Exponential Power distribution (Azzalini),\n",
      "    \"erlang\" - The Erlang distribution,\n",
      "    \"sep0\" - The Skewed Exponential Power distribution (Azzalini) with location parameter set to zero (0).\u001b[0m\n",
      "\u001b[0m\n",
      "\u001b[33m## Options\u001b[0m\n",
      "\u001b[0m\n",
      "Available only for the SEP distribution, see 'sepCDF/5'.\n",
      "\u001b[0m\n"
     ]
    }
   ],
   "source": [
    "h Chi2fit.Distribution.model"
   ]
  },
  {
   "cell_type": "markdown",
   "metadata": {
    "slideshow": {
     "slide_type": "skip"
    }
   },
   "source": [
    "## Additional packages\n",
    "\n",
    "The package `Chi2fit` is provided 'out-of-the-box' with this notebook. Additional packages can be installed from [Hex](http://hex.pm).\n",
    "\n",
    "`IElixir` provides a mechanism using [`Boyle`](https://github.com/pprzetacznik/ielixir#package-management-with-boyle).\n",
    "\n",
    "Suppose we want to use the functions provided by [`Decimal`](https://hex.pm/packages/decimal)."
   ]
  },
  {
   "cell_type": "code",
   "execution_count": 6,
   "metadata": {
    "slideshow": {
     "slide_type": "skip"
    }
   },
   "outputs": [
    {
     "name": "stdout",
     "output_type": "stream",
     "text": [
      "All dependencies up to date\n"
     ]
    },
    {
     "data": {
      "text/plain": [
       "{:ok, [\"decimal_env\"]}"
      ]
     },
     "execution_count": 6,
     "metadata": {},
     "output_type": "execute_result"
    }
   ],
   "source": [
    "Code.compiler_options [ignore_module_conflict: true]\n",
    "Boyle.mk(\"decimal_env\")\n",
    "Boyle.list()"
   ]
  },
  {
   "cell_type": "code",
   "execution_count": 7,
   "metadata": {
    "scrolled": false,
    "slideshow": {
     "slide_type": "skip"
    }
   },
   "outputs": [
    {
     "name": "stdout",
     "output_type": "stream",
     "text": [
      "All dependencies up to date\n",
      "Resolving Hex dependencies...\n",
      "Dependency resolution completed:\n",
      "New:\n",
      "\u001b[32m  decimal 1.7.0\u001b[0m\n",
      "* Getting decimal (Hex package)\n",
      "==> decimal\n",
      "Compiling 1 file (.ex)\n",
      "Generated decimal app\n"
     ]
    },
    {
     "data": {
      "text/plain": [
       ":ok"
      ]
     },
     "execution_count": 7,
     "metadata": {},
     "output_type": "execute_result"
    }
   ],
   "source": [
    "Boyle.activate(\"decimal_env\")\n",
    "Boyle.install({:decimal, \"~> 1.7\"})"
   ]
  },
  {
   "cell_type": "code",
   "execution_count": 8,
   "metadata": {
    "slideshow": {
     "slide_type": "skip"
    }
   },
   "outputs": [
    {
     "data": {
      "text/plain": [
       "\"1.414213562373095048801688724\""
      ]
     },
     "execution_count": 8,
     "metadata": {},
     "output_type": "execute_result"
    }
   ],
   "source": [
    "sqrt2 = Decimal.sqrt(\"2\")\n",
    "Decimal.to_string(sqrt2)"
   ]
  },
  {
   "cell_type": "code",
   "execution_count": 9,
   "metadata": {
    "slideshow": {
     "slide_type": "skip"
    }
   },
   "outputs": [
    {
     "data": {
      "text/plain": [
       ":ok"
      ]
     },
     "execution_count": 9,
     "metadata": {},
     "output_type": "execute_result"
    }
   ],
   "source": [
    "ctxt = Decimal.get_context()\n",
    "ctxt = %Decimal.Context{ctxt | precision: 50}\n",
    "Decimal.set_context ctxt"
   ]
  },
  {
   "cell_type": "code",
   "execution_count": 10,
   "metadata": {
    "slideshow": {
     "slide_type": "skip"
    }
   },
   "outputs": [
    {
     "data": {
      "text/plain": [
       "\"1.4142135623730950488016887242096980785696718753769\""
      ]
     },
     "execution_count": 10,
     "metadata": {},
     "output_type": "execute_result"
    }
   ],
   "source": [
    "sqrt2 = Decimal.sqrt(\"2\")\n",
    "Decimal.to_string(sqrt2)"
   ]
  },
  {
   "cell_type": "code",
   "execution_count": 11,
   "metadata": {
    "slideshow": {
     "slide_type": "skip"
    }
   },
   "outputs": [
    {
     "data": {
      "text/plain": [
       ":ok"
      ]
     },
     "execution_count": 11,
     "metadata": {},
     "output_type": "execute_result"
    }
   ],
   "source": [
    "Boyle.deactivate()"
   ]
  },
  {
   "cell_type": "markdown",
   "metadata": {
    "slideshow": {
     "slide_type": "slide"
    }
   },
   "source": [
    "## Usage\n",
    "\n",
    "Function need to be specified using the module name and function name, for example if we want the value of the Erlang CDF we use the function `erlangCDF` in the module `Chi2fit.Distribution`:"
   ]
  },
  {
   "cell_type": "code",
   "execution_count": 12,
   "metadata": {
    "scrolled": true,
    "slideshow": {
     "slide_type": "fragment"
    }
   },
   "outputs": [
    {
     "data": {
      "text/plain": [
       "0.6462613084207343"
      ]
     },
     "execution_count": 12,
     "metadata": {},
     "output_type": "execute_result"
    }
   ],
   "source": [
    "f = Chi2fit.Distribution.model \"erlang\", pars: [0.5,4.3]\n",
    "Distribution.cdf(f).(0.1)"
   ]
  },
  {
   "cell_type": "markdown",
   "metadata": {
    "slideshow": {
     "slide_type": "fragment"
    }
   },
   "source": [
    "We use an `alias` to have to type less:"
   ]
  },
  {
   "cell_type": "code",
   "execution_count": 13,
   "metadata": {
    "slideshow": {
     "slide_type": "fragment"
    }
   },
   "outputs": [
    {
     "data": {
      "text/plain": [
       "0.6462613084207343"
      ]
     },
     "execution_count": 13,
     "metadata": {},
     "output_type": "execute_result"
    }
   ],
   "source": [
    "alias Chi2fit.Distribution, as: D\n",
    "f = D.model \"erlang\", pars: [0.5,4.3]\n",
    "Distribution.cdf(f).(0.1)"
   ]
  },
  {
   "cell_type": "markdown",
   "metadata": {
    "slideshow": {
     "slide_type": "subslide"
    }
   },
   "source": [
    "We can rid of the `D.` alltogether by using `import`s:"
   ]
  },
  {
   "cell_type": "code",
   "execution_count": 14,
   "metadata": {
    "slideshow": {
     "slide_type": "fragment"
    }
   },
   "outputs": [
    {
     "data": {
      "text/plain": [
       "0.6462613084207343"
      ]
     },
     "execution_count": 14,
     "metadata": {},
     "output_type": "execute_result"
    }
   ],
   "source": [
    "import Chi2fit.Distribution\n",
    "f = model \"erlang\", pars: [0.5,4.3]\n",
    "Distribution.cdf(f).(0.1)"
   ]
  },
  {
   "cell_type": "markdown",
   "metadata": {
    "slideshow": {
     "slide_type": "slide"
    }
   },
   "source": [
    "## Special atoms\n",
    "\n",
    "`IElixir` provides three atoms that are interpreted by `IElixir`.\n",
    "\n",
    "What is an atom? In Elixir an atom ia a variable for which its value is its name. For example, the atmo `:variable` is an atom and has `variable` as value.\n",
    "\n",
    "The 3 special atoms in `IElixir` are:\n",
    "\n",
    "* `:\"this is raw html\"` - the output result of the command is shown as is instead of an Elixir term\n",
    "* `:\"do not show this result in output\"` - the output of the statement is not shown in the output cell\n",
    "* `:\"this is an inline image\"` - used for displaying an image in the output cell (see below)\n",
    "\n",
    "In addition to these atoms, the following tuple is interpreted:\n",
    "\n",
    "* `{:\"this is an inline image\", src: path_to_image}` - used for displaying an image in the output cell (see below)\n"
   ]
  },
  {
   "cell_type": "markdown",
   "metadata": {
    "slideshow": {
     "slide_type": "skip"
    }
   },
   "source": [
    "These are used by returning either one of these as the result of a command."
   ]
  },
  {
   "cell_type": "markdown",
   "metadata": {
    "slideshow": {
     "slide_type": "slide"
    }
   },
   "source": [
    "## Inline images\n",
    "\n",
    "The atom `:\"this is an inline image\"` indicates that the output of the cell is to be interpreted as a base64 encoded image.\n",
    "\n",
    "An example based on [Gnuplot](https://hex.pm/packages/gnuplot) is shown below."
   ]
  },
  {
   "cell_type": "code",
   "execution_count": 15,
   "metadata": {
    "slideshow": {
     "slide_type": "subslide"
    }
   },
   "outputs": [
    {
     "data": {
      "image/png": "[encoded data removed]"
     },
     "metadata": {},
     "output_type": "display_data"
    }
   ],
   "source": [
    "Gnuplot.plot([\n",
    "  ~w(set terminal pngcairo size 800,200)a,\n",
    "  ~w(set output)a,\n",
    "  [:plot, 'sin(x)', :title, \"Sine Wave\"]\n",
    "])\n",
    "Gnuplotlib.capture() |> Base.encode64 |> IO.write\n",
    ":\"this is an inline image\""
   ]
  },
  {
   "cell_type": "markdown",
   "metadata": {
    "slideshow": {
     "slide_type": "slide"
    }
   },
   "source": [
    "## Command history\n",
    "\n",
    "`IElixir` supports a simple command history. The results of the last command is stored in the variable `ans`."
   ]
  },
  {
   "cell_type": "code",
   "execution_count": 16,
   "metadata": {
    "slideshow": {
     "slide_type": "fragment"
    }
   },
   "outputs": [
    {
     "data": {
      "text/plain": [
       "1.4142135623730951"
      ]
     },
     "execution_count": 16,
     "metadata": {},
     "output_type": "execute_result"
    }
   ],
   "source": [
    ":math.sqrt(2)"
   ]
  },
  {
   "cell_type": "code",
   "execution_count": 17,
   "metadata": {
    "slideshow": {
     "slide_type": "fragment"
    }
   },
   "outputs": [
    {
     "data": {
      "text/plain": [
       "1.4142135623730951"
      ]
     },
     "execution_count": 17,
     "metadata": {},
     "output_type": "execute_result"
    }
   ],
   "source": [
    "ans"
   ]
  },
  {
   "cell_type": "markdown",
   "metadata": {
    "slideshow": {
     "slide_type": "fragment"
    }
   },
   "source": [
    "The history of the results of previous commands can be accessed using the variable `out`."
   ]
  },
  {
   "cell_type": "code",
   "execution_count": 18,
   "metadata": {
    "slideshow": {
     "slide_type": "skip"
    }
   },
   "outputs": [
    {
     "name": "stdout",
     "output_type": "stream",
     "text": [
      "\u001b[33mTerm\u001b[0m\n",
      "\u001b[22m  %{2 => [Chi2fit.Cli, Chi2fit.Distribution, Chi2fit.Distribution.UnsupportedDistributionError, Chi2fit.FFT, Chi2fit.Fit, Chi2fit.Matrix, Chi2fit.Roots, Chi2fit.Utilities, Chi2fit.Utilities.UnknownSampleErrorAlgorithmError], 6 => {:ok, [\"decimal_env\"]}, 7 => :ok, 8 => \"1.414213562373095048801688724\", 9 => :ok, 10 => \"1.4142135623730950488016887242096980785696718753769\", 11 => :ok, 12 => 0.6462613084207343, 13 => 0.6462613084207343, 14 => 0.6462613084207343, 16 => 1.4142135623730951, 17 => 1.4142135623730951}\u001b[0m\n",
      "\u001b[33mData type\u001b[0m\n",
      "\u001b[22m  Map\u001b[0m\n",
      "\u001b[33mReference modules\u001b[0m\n",
      "\u001b[22m  Map\u001b[0m\n",
      "\u001b[33mImplemented protocols\u001b[0m\n",
      "\u001b[22m  Ecto.DataType, Poison.Decoder, Poison.Encoder, IEx.Info, Collectable, Inspect, Enumerable, Timex.Protocol, CSV.Encode\u001b[0m\n"
     ]
    }
   ],
   "source": [
    "i(out)"
   ]
  },
  {
   "cell_type": "code",
   "execution_count": 19,
   "metadata": {
    "scrolled": true,
    "slideshow": {
     "slide_type": "fragment"
    }
   },
   "outputs": [
    {
     "data": {
      "text/plain": [
       "\"1.4142135623730950488016887242096980785696718753769\""
      ]
     },
     "execution_count": 19,
     "metadata": {},
     "output_type": "execute_result"
    }
   ],
   "source": [
    "out[10]"
   ]
  }
 ],
 "metadata": {
  "celltoolbar": "Slideshow",
  "kernelspec": {
   "display_name": "Elixir",
   "language": "Elixir",
   "name": "ielixir"
  },
  "language_info": {
   "codemirror_mode": "elixir",
   "file_extension": "ex",
   "mimetype": "text/x-elixir",
   "name": "elixir",
   "nbconvert_exporter": "",
   "pygments_lexer": "elixir",
   "version": "1.6.6"
  }
 },
 "nbformat": 4,
 "nbformat_minor": 2
}