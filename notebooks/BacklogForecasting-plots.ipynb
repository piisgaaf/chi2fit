{
 "cells": [
  {
   "cell_type": "markdown",
   "metadata": {},
   "source": [
    "# Backlog Forecasting"
   ]
  },
  {
   "cell_type": "markdown",
   "metadata": {},
   "source": [
    "Fitting data to known distributions use is done using [Chi2Fit](https://hex.pm/packages/chi2fit)."
   ]
  },
  {
   "cell_type": "markdown",
   "metadata": {},
   "source": [
    "## Table of contents"
   ]
  },
  {
   "cell_type": "markdown",
   "metadata": {},
   "source": [
    "* [Set-up](#Set-up)\n",
    "* [Data and simulation set-up](#Data-and-simulation-set-up)\n",
    "* [Preparation](#preparation)\n",
    "* [Simple forecast using the empirical data](#Simple-forecast-using-the-empirical-data)\n",
    "* [Forecasting using a Poisson distribution](#Forecasting-using-a-Poisson-distribution)\n",
    "* [Monte Carlo](#Monte-Carlo)\n",
    "* [Total Monte Carlo](#Total-Monte-Carlo)\n",
    "* [References](#References)\n",
    "* [Tear-down](#Tear-down)"
   ]
  },
  {
   "cell_type": "markdown",
   "metadata": {},
   "source": [
    "## Set-up"
   ]
  },
  {
   "cell_type": "code",
   "execution_count": 1,
   "metadata": {},
   "outputs": [
    {
     "data": {
      "text/plain": [
       "Exboost.Math"
      ]
     },
     "execution_count": 1,
     "metadata": {},
     "output_type": "execute_result"
    }
   ],
   "source": [
    "require Chi2fit.Distribution\n",
    "alias Chi2fit.Distribution, as: D\n",
    "alias Chi2fit.Fit, as: F\n",
    "alias Chi2fit.Matrix, as: M\n",
    "alias Chi2fit.Utilities, as: U\n",
    "alias Gnuplot, as: G\n",
    "alias Gnuplotlib, as: P\n",
    "alias Exboost.Math"
   ]
  },
  {
   "cell_type": "markdown",
   "metadata": {},
   "source": [
    "## Data and simulation set-up"
   ]
  },
  {
   "cell_type": "markdown",
   "metadata": {},
   "source": [
    "As an example consider the throughput of completed backlog items. At the end of a fixed time period we count the number of backlog items that a teram completes. Partially completed items are excluded from the count."
   ]
  },
  {
   "cell_type": "code",
   "execution_count": 2,
   "metadata": {
    "scrolled": true
   },
   "outputs": [
    {
     "data": {
      "text/plain": [
       "[3, 3, 4, 4, 7, 5, 1, 11, 5, 6, 3, 6, 6, 5, 4, 10, 4, 5, 8, 2, 4, 12, 5]"
      ]
     },
     "execution_count": 2,
     "metadata": {},
     "output_type": "execute_result"
    }
   ],
   "source": [
    "data = [3,3,4,4,7,5,1,11,5,6,3,6,6,5,4,10,4,5,8,2,4,12,5]"
   ]
  },
  {
   "cell_type": "code",
   "execution_count": 3,
   "metadata": {},
   "outputs": [
    {
     "data": {
      "image/png": "[encoded data removed]"
     },
     "metadata": {},
     "output_type": "display_data"
    }
   ],
   "source": [
    "P.histogram(data,\n",
    "    plottitle: \"Throughput histogram\",\n",
    "    xlabel: \"Throughput (items per 2 weeks)\",\n",
    "    ylabel: \"Frequency\",\n",
    "    yrange: '[0:7]',\n",
    "    inline: \"hist\")\n",
    ":timer.sleep(1000)\n",
    "{:\"this is an inline image\", src: \"/app/notebooks/images/hist.png\"}"
   ]
  },
  {
   "cell_type": "markdown",
   "metadata": {},
   "source": [
    "Other parameters that affect the forecasting are listed below. Please adjust to your needs."
   ]
  },
  {
   "cell_type": "code",
   "execution_count": 4,
   "metadata": {},
   "outputs": [
    {
     "data": {
      "text/plain": [
       "{1, 10}"
      ]
     },
     "execution_count": 4,
     "metadata": {},
     "output_type": "execute_result"
    }
   ],
   "source": [
    "# The size of the backlog, e.g. 100 backlog items\n",
    "size = 100\n",
    "\n",
    "# Number of iterations to use in the Monte Carlo\n",
    "iterations = 1000\n",
    "\n",
    "# The size of bins for grouping the data\n",
    "binsize = 1\n",
    "\n",
    "# Number of probes to use in the chi2 fit\n",
    "probes = 10_000\n",
    "\n",
    "# The range of the parameter to look for a (global) minimum\n",
    "initial = {1,10}"
   ]
  },
  {
   "cell_type": "markdown",
   "metadata": {},
   "source": [
    "## Preparation"
   ]
  },
  {
   "cell_type": "markdown",
   "metadata": {},
   "source": [
    "Next, we convert the throughput data to a histogram. To this end we group the data in bins of size 1 starting at 0."
   ]
  },
  {
   "cell_type": "code",
   "execution_count": 5,
   "metadata": {},
   "outputs": [
    {
     "data": {
      "text/plain": [
       "[{1, 0.043478260869565216, 0.0058447102657877, 0.13689038224309594}, {2, 0.08695652173913043, 0.02977628442357071, 0.1905937209791003}, {3, 0.21739130434782608, 0.1263699563343216, 0.33774551477037923}, {4, 0.43478260869565216, 0.3160946312914347, 0.5600249434832333}, {5, 0.6521739130434783, 0.5263221461493021, 0.7626298741894857}, {6, 0.782608695652174, 0.6622544852296207, 0.8736300436656784}, {7, 0.8260869565217391, 0.709703289667655, 0.9080712005244068}, {8, 0.8695652173913043, 0.7585954661422599, 0.9405937209791002}, {10, 0.9130434782608695, 0.8094062790208998, 0.9702237155764294}, {11, 0.9565217391304348, 0.8631096177569041, 0.9941552897342123}, {12, 1.0, 0.9225113769324543, 1.0}]"
      ]
     },
     "execution_count": 5,
     "metadata": {},
     "output_type": "execute_result"
    }
   ],
   "source": [
    "hdata = U.to_bins data, {binsize,0}"
   ]
  },
  {
   "cell_type": "markdown",
   "metadata": {},
   "source": [
    "The data returned contains a list of tuples each describing a bin:\n",
    "* the end-point of the bin,\n",
    "* the proportional number of events for this bin (the total count is normalized to one),\n",
    "* the lower value of the error bound,\n",
    "* the upper value of the error bound."
   ]
  },
  {
   "cell_type": "markdown",
   "metadata": {},
   "source": [
    "As can be seen the sizes of the lower and upper bounds are different in value, i.e. they are asymmetrical. The contribution or weight to the likelihood function used in fitting known distributions will de different depending on whether the observed value if larger or smaller than the predicted value. This is specified by using the option `:linear` (see below). See [3] for details."
   ]
  },
  {
   "cell_type": "code",
   "execution_count": 9,
   "metadata": {},
   "outputs": [
    {
     "data": {
      "image/png": "[encoded data removed]"
     },
     "metadata": {},
     "output_type": "display_data"
    }
   ],
   "source": [
    "P.ecdf(hdata,\n",
    "    plottitle: \"Empirical CDF\",\n",
    "    xlabel: \"Throughput (items per 2 weeks)\",\n",
    "    ylabel: \"Probability\",\n",
    "    xrange: '[0:15]',\n",
    "    inline: \"ecdf\")\n",
    ":timer.sleep(1000)\n",
    "{:\"this is an inline image\", src: \"/app/notebooks/images/ecdf.png\"}"
   ]
  },
  {
   "cell_type": "markdown",
   "metadata": {},
   "source": [
    "## Simple forecast using the empirical data"
   ]
  },
  {
   "cell_type": "markdown",
   "metadata": {},
   "source": [
    "Using the histogram data for the throughput we perform a Monte Carlo simulation to get an estimation for the number of iterations needed to deplete the backlog. Since for a large enough number of samples results of a Monte Carlo simulation approximate the normal distribution. This provides a range for the uncertainty of the number of iterations. We express this as a probability using percentages."
   ]
  },
  {
   "cell_type": "code",
   "execution_count": 10,
   "metadata": {},
   "outputs": [
    {
     "name": "stdout",
     "output_type": "stream",
     "text": [
      "50% within    20.0 units\n",
      "84% within    22.0 units\n",
      "97.5% within  24.0 units\n",
      "99.85% within 26.0 units\n"
     ]
    },
    {
     "data": {
      "text/plain": [
       ":ok"
      ]
     },
     "execution_count": 10,
     "metadata": {},
     "output_type": "execute_result"
    }
   ],
   "source": [
    "{avg,sd,all} = U.mc(iterations, fn -> U.forecast(fn -> Enum.random(data) end, size) end,true)\n",
    "U.display {avg,sd}"
   ]
  },
  {
   "cell_type": "code",
   "execution_count": 11,
   "metadata": {},
   "outputs": [
    {
     "data": {
      "image/png": "[encoded data removed]"
     },
     "metadata": {},
     "output_type": "display_data"
    }
   ],
   "source": [
    "P.histogram(all,\n",
    "    plottitle: \"Monte Carlo result for duration\",\n",
    "    xlabel: \"Duration (number of iterations)\",\n",
    "    ylabel: \"Frequency\",\n",
    "    xrange: '[0:30]',\n",
    "    inline: \"mc_hist\")\n",
    ":timer.sleep(1000)\n",
    "{:\"this is an inline image\", src: \"/app/notebooks/images/mc_hist.png\"}"
   ]
  },
  {
   "cell_type": "markdown",
   "metadata": {},
   "source": [
    "## Forecasting using a Poisson distribution"
   ]
  },
  {
   "cell_type": "markdown",
   "metadata": {},
   "source": [
    "Instead of directly using the raw data captured one can also use a known probability distribution. The parameter of the distribution is matched to the data. After matching the parameter value one uses the known distribution to forecast."
   ]
  },
  {
   "cell_type": "markdown",
   "metadata": {},
   "source": [
    "Here, we will use the __Poisson distribution__ [1]. This basically assumes that the data points are independent of each other."
   ]
  },
  {
   "cell_type": "markdown",
   "metadata": {},
   "source": [
    "The code below uses basic settings of the commands provided by `Chi2Fit`. More advanced options can be found at [2]. First a fixed number of random parameter values are tried to get a rough estimate. The option `probes` equals the number of tries. Furthermore, since we are fitting a probability distribution which has values on the interval `[0,1]` the errors are asymmetrical. This is specified by the option `linear`. "
   ]
  },
  {
   "cell_type": "code",
   "execution_count": 12,
   "metadata": {
    "scrolled": true
   },
   "outputs": [
    {
     "name": "stdout",
     "output_type": "stream",
     "text": [
      "Initial guess:\n",
      "    chi2:\t\t3.768090536170193\n",
      "    pars:\t\t[5.468315532310196]\n",
      "    ranges:\t\t{[5.262059628332641, 5.68882294836736]}\n",
      "\n"
     ]
    },
    {
     "data": {
      "text/plain": [
       ":ok"
      ]
     },
     "execution_count": 12,
     "metadata": {},
     "output_type": "execute_result"
    }
   ],
   "source": [
    "model = D.model \"poisson\"\n",
    "options = [probes: probes, smoothing: false, model: :linear, saved?: true]\n",
    "result = {_,parameters,_,saved} = F.chi2probe hdata, [initial], {model[:fun], &F.nopenalties/2}, options\n",
    "U.display result"
   ]
  },
  {
   "cell_type": "markdown",
   "metadata": {},
   "source": [
    "The errors reported is the found range of parameter values where the corresponding `chi2` values are within 1 of the found minimum value."
   ]
  },
  {
   "cell_type": "markdown",
   "metadata": {},
   "source": [
    "After roughly locating the minimum we do a more precise (and computationally more expensive) search for the minimum."
   ]
  },
  {
   "cell_type": "code",
   "execution_count": 13,
   "metadata": {
    "scrolled": false
   },
   "outputs": [
    {
     "name": "stdout",
     "output_type": "stream",
     "text": [
      "Final:\n",
      "    chi2:\t\t3.7680887442307536\n",
      "    Degrees of freedom:\t10\n",
      "    gradient:\t\t[-1.2263934506346103e-9]\n",
      "    parameters:\t\t[5.468026377336625]\n",
      "    errors:\t\t[0.2159980613412446]\n",
      "    ranges:\n",
      "\t\t\tchi2:\t\t3.7680887442307536\t-\t4.7636492013972545\n",
      "\t\t\tparameter:\t5.262059628332641\t-\t5.68882294836736\n"
     ]
    },
    {
     "data": {
      "text/plain": [
       ":ok"
      ]
     },
     "execution_count": 13,
     "metadata": {},
     "output_type": "execute_result"
    }
   ],
   "source": [
    "options = [{:probes,saved}|options]\n",
    "result = {_,cov,parameters,_} = F.chi2fit hdata, {parameters, model[:fun], &F.nopenalties/2}, 10, options\n",
    "U.display(hdata,model,result,options)"
   ]
  },
  {
   "cell_type": "markdown",
   "metadata": {},
   "source": [
    "For a (local) minimum the value of the gradient should be very close to zero."
   ]
  },
  {
   "cell_type": "code",
   "execution_count": 15,
   "metadata": {},
   "outputs": [
    {
     "data": {
      "image/png": "[encoded data removed]"
     },
     "metadata": {},
     "output_type": "display_data"
    }
   ],
   "source": [
    "P.ecdf(hdata,\n",
    "    plottitle: \"Fit of Poisson to CDF\",\n",
    "    xlabel: \"Throughput (items per 2 weeks)\",\n",
    "    ylabel: \"Probability\",\n",
    "    xrange: '[0:15]',\n",
    "    title: \"Poisson\",\n",
    "    func: D.poissonCDF(hd(parameters)),\n",
    "    inline: \"ecdf_fit\")\n",
    ":timer.sleep(1000)\n",
    "{:\"this is an inline image\", src: \"/app/notebooks/images/ecdf_fit.png\"}"
   ]
  },
  {
   "cell_type": "code",
   "execution_count": 16,
   "metadata": {},
   "outputs": [
    {
     "data": {
      "image/png": "[encoded data removed]"
     },
     "metadata": {},
     "output_type": "display_data"
    }
   ],
   "source": [
    "rate = hd(parameters)\n",
    "pdf = fn x -> :math.pow(rate,x)*:math.exp(-rate)/Math.tgamma(x+1) end\n",
    "P.pdf(data,\n",
    "    plottitle: \"Fit of PDF to Poisson\",\n",
    "    xlabel: \"Throughput (items per 2 weeks)\",\n",
    "    ylabel: \"Frequency\",\n",
    "    yrange: '[0:0.35]',\n",
    "    pdf: pdf,\n",
    "    title: \"Poisson\",\n",
    "    inline: \"pdf\")\n",
    ":timer.sleep(1000)\n",
    "{:\"this is an inline image\", src: \"/app/notebooks/images/pdf.png\"}"
   ]
  },
  {
   "cell_type": "markdown",
   "metadata": {},
   "source": [
    "Again, using a Monte Carlo simulation we estimate the number of iterations and the range to expect."
   ]
  },
  {
   "cell_type": "code",
   "execution_count": 17,
   "metadata": {
    "scrolled": true
   },
   "outputs": [
    {
     "name": "stdout",
     "output_type": "stream",
     "text": [
      "50% within    19.0 units\n",
      "84% within    21.0 units\n",
      "97.5% within  23.0 units\n",
      "99.85% within 25.0 units\n"
     ]
    },
    {
     "data": {
      "text/plain": [
       ":ok"
      ]
     },
     "execution_count": 17,
     "metadata": {},
     "output_type": "execute_result"
    }
   ],
   "source": [
    "[rate] = parameters\n",
    "{avg,sd,all} = U.mc(iterations, fn -> U.forecast(D.poisson(rate), size) end, true)\n",
    "U.display {avg,sd}"
   ]
  },
  {
   "cell_type": "code",
   "execution_count": 18,
   "metadata": {},
   "outputs": [
    {
     "data": {
      "image/png": "[encoded data removed]"
     },
     "metadata": {},
     "output_type": "display_data"
    }
   ],
   "source": [
    "P.histogram(all,\n",
    "    plottitle: \"Monte Carlo simulation for duration\",\n",
    "    xlabel: \"Duration (number of iterations)\",\n",
    "    ylabel: \"Frequency\",\n",
    "    xrange: '[0:30]',\n",
    "    inline: \"mc_duration_hist\")\n",
    ":timer.sleep(1000)\n",
    "{:\"this is an inline image\", src: \"/app/notebooks/images/mc_duration_hist.png\"}"
   ]
  },
  {
   "cell_type": "markdown",
   "metadata": {},
   "source": [
    "## Total Monte Carlo"
   ]
  },
  {
   "cell_type": "markdown",
   "metadata": {},
   "source": [
    "In the results of a Monte Carlo simulation the errors reported and the range of the number of iterations is the statistical error associated with the Monte Carlo simulation. It dopes not take into account the uncertainty of the parameter used in the fitted probability distribution function."
   ]
  },
  {
   "cell_type": "markdown",
   "metadata": {},
   "source": [
    "In Total Monte Carlo [4] multiple Monte Carlo simulations are done that correspond to the extreme values of the error bounds of the used parameters. The error results is of a different nature than the statistical error from the Monte Carlo simulation. These error reported separately."
   ]
  },
  {
   "cell_type": "code",
   "execution_count": 19,
   "metadata": {},
   "outputs": [
    {
     "name": "stdout",
     "output_type": "stream",
     "text": [
      "Number of iterations to complete the backlog:\n",
      "18.7 (+/- 1.9) (-0.9 +0.6)\n"
     ]
    },
    {
     "data": {
      "text/plain": [
       ":ok"
      ]
     },
     "execution_count": 19,
     "metadata": {},
     "output_type": "execute_result"
    }
   ],
   "source": [
    "# Pick up the error in the paramater value\n",
    "param_errors = cov |> M.diagonal |> Enum.map(fn x->x|>abs|>:math.sqrt end)\n",
    "[sd_rate] = param_errors\n",
    "\n",
    "{avg_min,_} = U.mc(iterations, fn -> U.forecast(D.poisson(rate-sd_rate), size) end)\n",
    "{avg_max,_} = U.mc(iterations, fn -> U.forecast(D.poisson(rate+sd_rate), size) end)\n",
    "\n",
    "sd_min = avg - avg_max\n",
    "sd_plus = avg_min - avg\n",
    "\n",
    "IO.puts \"Number of iterations to complete the backlog:\"\n",
    "IO.puts \"#{Float.round(avg,1)} (+/- #{Float.round(sd,1)}) (-#{Float.round(sd_plus,1)} +#{Float.round(sd_min,1)})\""
   ]
  },
  {
   "cell_type": "markdown",
   "metadata": {},
   "source": [
    "The first error is symmetric while the second error reported is asymmetric."
   ]
  },
  {
   "cell_type": "markdown",
   "metadata": {},
   "source": [
    "## References"
   ]
  },
  {
   "cell_type": "markdown",
   "metadata": {},
   "source": [
    "[1] _Poisson distribution_, https://en.wikipedia.org/wiki/Poisson_distribution/<br>\n",
    "[2] _Chi2Fit_, Pieter Rijken, 2018, https://hex.pm/packages/chi2fit<br>\n",
    "[3] _Asymmetric errors_, Roger Barlow, Manchester University, UK and Stanford University, USA, PHYSTAT2003, SLAC, Stanford, California, September 8-11, 2003, https://www.slac.stanford.edu/econf/C030908/papers/WEMT002.pdf<br>\n",
    "[4] _Efficient use of Monte Carlo: uncertainty propagation_, D. Rochman et. al., Nuclear Science and Engineering, 2013, ftp://ftp.nrg.eu/pub/www/talys/bib_rochman/fastTMC.pdf"
   ]
  }
 ],
 "metadata": {
  "kernelspec": {
   "display_name": "Elixir",
   "language": "Elixir",
   "name": "ielixir"
  },
  "language_info": {
   "codemirror_mode": "elixir",
   "file_extension": "ex",
   "mimetype": "text/x-elixir",
   "name": "elixir",
   "nbconvert_exporter": "",
   "pygments_lexer": "elixir",
   "version": "1.6.6"
  }
 },
 "nbformat": 4,
 "nbformat_minor": 2
}
