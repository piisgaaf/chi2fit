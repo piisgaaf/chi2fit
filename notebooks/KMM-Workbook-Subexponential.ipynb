{
 "cells": [
  {
   "cell_type": "markdown",
   "metadata": {},
   "source": [
    "# Sub-exponential distributions"
   ]
  },
  {
   "cell_type": "markdown",
   "metadata": {},
   "source": [
    "Fitting data to known distributions use is done using [Chi2Fit](https://hex.pm/packages/chi2fit).\n",
    "\n",
    "This notebook is a companion to Appendix C of [5] (Second edition of the Kanban Maturity Model)."
   ]
  },
  {
   "cell_type": "markdown",
   "metadata": {},
   "source": [
    "## Set-up"
   ]
  },
  {
   "cell_type": "code",
   "execution_count": 22,
   "metadata": {},
   "outputs": [
    {
     "data": {
      "text/plain": [
       "Exboost.Math"
      ]
     },
     "execution_count": 22,
     "metadata": {},
     "output_type": "execute_result"
    }
   ],
   "source": [
    "alias Chi2fit.Distribution, as: D\n",
    "alias Chi2fit.Fit, as: F\n",
    "alias Chi2fit.Matrix, as: M\n",
    "alias Chi2fit.Utilities, as: U\n",
    "alias Gnuplotlib, as: P\n",
    "alias Exboost.Math"
   ]
  },
  {
   "cell_type": "markdown",
   "metadata": {},
   "source": [
    "### Global parameters"
   ]
  },
  {
   "cell_type": "code",
   "execution_count": 23,
   "metadata": {},
   "outputs": [
    {
     "data": {
      "text/plain": [
       "[{0.5, 10}, {0.5, 10}]"
      ]
     },
     "execution_count": 23,
     "metadata": {},
     "output_type": "execute_result"
    }
   ],
   "source": [
    "# The size of the backlog, e.g. 50 backlog items\n",
    "size = 50\n",
    "\n",
    "# Number of iterations to use in the Monte Carlo\n",
    "iterations = 1000\n",
    "\n",
    "# Number of bootstraps to use\n",
    "bootstraps = 100\n",
    "\n",
    "# The size of bins for grouping the data\n",
    "binsize = 4\n",
    "\n",
    "# Number of probes to use in the chi2 fit\n",
    "probes = 10_000\n",
    "\n",
    "# The range of the parameter to look for a (global) minimum\n",
    "initial = [{0.5,10},{0.5,10}]"
   ]
  },
  {
   "cell_type": "code",
   "execution_count": 34,
   "metadata": {},
   "outputs": [
    {
     "data": {
      "text/plain": [
       "Current"
      ]
     },
     "execution_count": 34,
     "metadata": {},
     "output_type": "execute_result"
    }
   ],
   "source": [
    "Code.compiler_options(ignore_module_conflict: true)\n",
    "defmodule Current do\n",
    "  def random_fun1(model), do: fn _ -> Distribution.random(model) end\n",
    "  def random_fun0(model), do: fn -> Distribution.random(model) end\n",
    "  def ones_fun, do: fn -> 1 end\n",
    "end\n",
    "alias Current, as: C"
   ]
  },
  {
   "cell_type": "markdown",
   "metadata": {},
   "source": [
    "## Sub-exponential: how bad is the mean?"
   ]
  },
  {
   "cell_type": "markdown",
   "metadata": {},
   "source": [
    "See [5] page 399 figure C.16. We start with a sub-exponential Weibull distribution with kappa=0.8."
   ]
  },
  {
   "cell_type": "code",
   "execution_count": 25,
   "metadata": {},
   "outputs": [
    {
     "data": {
      "text/plain": [
       "0.8"
      ]
     },
     "execution_count": 25,
     "metadata": {},
     "output_type": "execute_result"
    }
   ],
   "source": [
    "kappa = 0.8"
   ]
  },
  {
   "cell_type": "code",
   "execution_count": 26,
   "metadata": {},
   "outputs": [
    {
     "data": {
      "text/plain": [
       "#Weibull<\"alpha=0.8, beta=20.0\">"
      ]
     },
     "execution_count": 26,
     "metadata": {},
     "output_type": "execute_result"
    }
   ],
   "source": [
    "lambda = 20.0\n",
    "f = D.model \"weibull\", pars: [kappa,lambda]"
   ]
  },
  {
   "cell_type": "code",
   "execution_count": 27,
   "metadata": {},
   "outputs": [
    {
     "name": "stdout",
     "output_type": "stream",
     "text": [
      "Average\t\t= 22.660061926386923\n",
      "sqrt(Var)\t= 28.563297808051622\n"
     ]
    },
    {
     "data": {
      "text/plain": [
       ":ok"
      ]
     },
     "execution_count": 27,
     "metadata": {},
     "output_type": "execute_result"
    }
   ],
   "source": [
    "IO.puts \"Average\\t\\t= #{lambda*Math.tgamma(1+1/kappa)}\"\n",
    "IO.puts \"sqrt(Var)\\t= #{lambda*:math.sqrt(Math.tgamma(1+2/kappa)-:math.pow(Math.tgamma(1+1/kappa),2))}\""
   ]
  },
  {
   "cell_type": "markdown",
   "metadata": {},
   "source": [
    "Such a distribution typically looks like:"
   ]
  },
  {
   "cell_type": "code",
   "execution_count": 28,
   "metadata": {},
   "outputs": [
    {
     "data": {
      "image/png": "[encoded data removed]"
     },
     "metadata": {},
     "output_type": "display_data"
    }
   ],
   "source": [
    "Gnuplot.plot([\n",
    "    ~w(set terminal pngcairo size 800,400)a,\n",
    "    ~w(set output)a,\n",
    "    ~w|set xlabel \"Lead\\u00a0time\\u00a0(days)\"|a,\n",
    "    ~w(set ylabel rotate by 90 \"Probability\\u00a0density\")a,\n",
    "    ~w(set title 'Probability\\u00a0Density\\u00a0Function\\u00a0-\\u00a0Weibull\\u00a0(kappa=0.8\\)')a,\n",
    "    ~w(set xrange [1:60])a,\n",
    "    ~w(plot '-' u 1:2 w lines ls 3 title 'Weibull')a\n",
    "  ],\n",
    "  [ 1..100 |> Enum.map(& [&1/100*60,Distribution.pdf(f).(&1/100*60)]) ])\n",
    "Gnuplotlib.capture() |> Base.encode64 |> IO.write\n",
    ":\"this is an inline image\""
   ]
  },
  {
   "cell_type": "markdown",
   "metadata": {},
   "source": [
    "### Generate sample data\n",
    "In this section we recreate the information and conclusions from Figure C.16 in [5].\n",
    "\n",
    "We define a set of sample sizes ranging between 10 en 10000:"
   ]
  },
  {
   "cell_type": "code",
   "execution_count": 29,
   "metadata": {},
   "outputs": [
    {
     "data": {
      "text/plain": [
       "[10, 20, 30, 40, 50, 60, 70, 80, 90, 100, 200, 300, 400, 500, 1000, 1500, 2000, 2500, 3000, 5000, 10000]"
      ]
     },
     "execution_count": 29,
     "metadata": {},
     "output_type": "execute_result"
    }
   ],
   "source": [
    "sample_sizes = [10,20,30,40,50,60,70,80,90,100,200,300,400,500,1_000,1_500,2_000,2_500,3_000,5_000,10_000]"
   ]
  },
  {
   "cell_type": "markdown",
   "metadata": {},
   "source": [
    "For each of the sizes above data samples are generated and calculate how the sample's mean deviates from the known mean calculated directly from the properties of the Weibull distribution."
   ]
  },
  {
   "cell_type": "code",
   "execution_count": 30,
   "metadata": {
    "scrolled": false
   },
   "outputs": [
    {
     "name": "stdout",
     "output_type": "stream",
     "text": [
      "Sample size|Relative error to the mean|Error in the relative error\n",
      "-----------|--------------------------|---------------------------\n",
      "10         |0.37516368804705663       |0.4029860269220092         \n",
      "20         |0.23547983722209745       |0.21764036636984715        \n",
      "30         |0.1809249764761942        |0.14712102122829354        \n",
      "40         |0.16110133773943747       |0.12610018886242402        \n",
      "50         |0.13710434864925433       |0.10978649881837664        \n",
      "60         |0.12565732429670712       |0.10144270118374962        \n",
      "70         |0.11894383603683696       |0.09457731808342208        \n",
      "80         |0.10341673142219757       |0.07866169751917575        \n",
      "90         |0.10105929357972111       |0.07646968284316252        \n",
      "100        |0.09981677723211889       |0.07727126515398633        \n",
      "200        |0.0715543871715893        |0.05294940424758003        \n",
      "300        |0.05963608003966442       |0.043907662773338          \n",
      "400        |0.05096630358957595       |0.0362389205091265         \n",
      "500        |0.04685437847626318       |0.03391593247209241        \n",
      "1000       |0.0355594203708146        |0.026095776743992948       \n",
      "1500       |0.031372198836355315      |0.021475826234109707       \n",
      "2000       |0.028147795539937397      |0.019823281695002984       \n",
      "2500       |0.026758744326341104      |0.01876147556103041        \n",
      "3000       |0.02607015213899889       |0.017397331839471144       \n",
      "5000       |0.024020266412868807      |0.01472741970413746        \n",
      "10000      |0.021830238566701608      |0.011147382893738279       \n"
     ]
    }
   ],
   "source": [
    "avg_expected = lambda*Math.tgamma(1+1/kappa)\n",
    "result = sample_sizes |> Enum.map(fn sample_size ->\n",
    "  {avg,sd} = U.mc(1000, fn ->\n",
    "        data = 1..sample_size |> Enum.map(C.random_fun1(f)) |> Enum.map(&(1+trunc(&1)))\n",
    "        mean = U.moment(data,1)\n",
    "        abs(mean-avg_expected)/mean\n",
    "    end)\n",
    "  [sample_size,avg,sd]\n",
    "end)\n",
    "result |> U.as_table({\"Sample size\",\"Relative error to the mean\",\"Error in the relative error\"})\n",
    ":\"do not show this result in output\""
   ]
  },
  {
   "cell_type": "code",
   "execution_count": 31,
   "metadata": {
    "scrolled": false
   },
   "outputs": [
    {
     "data": {
      "image/png": "[encoded data removed]"
     },
     "metadata": {},
     "output_type": "display_data"
    }
   ],
   "source": [
    "Gnuplot.plot([\n",
    "    ~w(set terminal pngcairo size 800,400)a,\n",
    "    ~w(set output)a,\n",
    "    ~w(set xrange [1:12000])a,\n",
    "    ~w(set logscale x 10)a,\n",
    "    ~w(plot '-' u 1:2:3 w yerrorbars notitle)a\n",
    "  ],\n",
    "  [result])\n",
    "Gnuplotlib.capture() |> Base.encode64 |> IO.write\n",
    ":\"this is an inline image\""
   ]
  },
  {
   "cell_type": "markdown",
   "metadata": {},
   "source": [
    "The graph clearly shows a relative error from the mean less than 10% only when 100 or more data points are used. A relative error less than 5% is achieved for 500 or more data points."
   ]
  },
  {
   "cell_type": "markdown",
   "metadata": {},
   "source": [
    "Another thing to notice are the large error bars for small data samples. For a data sample of 10, the relative error from thee real mean can be anything between 0% and 80%!"
   ]
  },
  {
   "cell_type": "markdown",
   "metadata": {},
   "source": [
    "### Forecast using a dataset"
   ]
  },
  {
   "cell_type": "code",
   "execution_count": 47,
   "metadata": {
    "scrolled": false
   },
   "outputs": [
    {
     "name": "stdout",
     "output_type": "stream",
     "text": [
      "Average project duration\t= 1131.8199464104625\n",
      "Relative error\t\t\t= 0.18120108268597426\n"
     ]
    },
    {
     "data": {
      "text/plain": [
       ":ok"
      ]
     },
     "execution_count": 47,
     "metadata": {},
     "output_type": "execute_result"
    }
   ],
   "source": [
    "{avg_duration,sd_duration,all} = U.mc(iterations, fn -> U.forecast(C.ones_fun, size, 0, C.random_fun0(f)) end, collect_all?: true)\n",
    "IO.puts \"Average project duration\\t= #{avg_duration}\"\n",
    "IO.puts \"Relative error\\t\\t\\t= #{sd_duration/avg_duration}\""
   ]
  },
  {
   "cell_type": "code",
   "execution_count": 48,
   "metadata": {},
   "outputs": [
    {
     "data": {
      "image/png": "[encoded data removed]"
     },
     "metadata": {},
     "output_type": "display_data"
    }
   ],
   "source": [
    "P.histogram(all,\n",
    "    plottitle: \"Monte Carlo result for duration\",\n",
    "    xlabel: \"Duration\",\n",
    "    ylabel: \"Frequency\")\n",
    ":\"this is an inline image\""
   ]
  },
  {
   "cell_type": "code",
   "execution_count": 37,
   "metadata": {},
   "outputs": [
    {
     "name": "stdout",
     "output_type": "stream",
     "text": [
      "Sample size|Relative error to the mean|Error in the relative error\n",
      "-----------|--------------------------|---------------------------\n",
      "20         |0.2771680713586474        |0.27693540777180387        \n",
      "100        |0.09497716811919446       |0.07890861998904847        \n"
     ]
    }
   ],
   "source": [
    "result = [20,100] |> Enum.map(fn sample_size ->\n",
    "  {avg,sd} = U.mc(100, fn ->\n",
    "        data = 1..sample_size |> Enum.map(C.random_fun1(f)) |> Enum.map(&(1+trunc(&1)))\n",
    "        {mean,_} = U.mc(100, fn -> U.forecast(C.ones_fun, size, 0, fn -> Enum.random(data) end) end)\n",
    "        abs(mean-avg_duration)/mean\n",
    "    end)\n",
    "  [sample_size,avg,sd]\n",
    "end)\n",
    "result |> U.as_table({\"Sample size\",\"Relative error to the mean\",\"Error in the relative error\"})\n",
    ":\"do not show this result in output\""
   ]
  },
  {
   "cell_type": "markdown",
   "metadata": {},
   "source": [
    "### Forecast based on Weibull fit "
   ]
  },
  {
   "cell_type": "code",
   "execution_count": 38,
   "metadata": {
    "scrolled": false
   },
   "outputs": [
    {
     "name": "stdout",
     "output_type": "stream",
     "text": [
      "Sample size|Relative error to the mean|Error in the relative error\n",
      "-----------|--------------------------|---------------------------\n",
      "20         |0.24231781671335664       |0.18413581199015014        \n",
      "100        |0.11349572382915736       |0.09842255390485502        \n"
     ]
    }
   ],
   "source": [
    "result = [20,100] |> Enum.map(fn sample_size ->\n",
    "  {avg,sd} = U.mc(100, fn ->\n",
    "        data = 1..sample_size |> Enum.map(C.random_fun1(f)) |> Enum.map(&(1+trunc(&1)))\n",
    "        hdata = U.to_bins data, {binsize,0}\n",
    "        \n",
    "        model = D.model \"weibull\"\n",
    "        \n",
    "        options = [probes: probes, smoothing: false, model: :linear, saved?: true]\n",
    "        result = {_,parameters,_,saved} = F.chi2probe hdata, initial, {Distribution.cdf(model), &F.nopenalties/2}, options\n",
    "        \n",
    "        options = [{:probes,saved}|options]\n",
    "        result = {_,cov,parameters,_} = F.chi2fit hdata, {parameters, Distribution.cdf(model), &F.nopenalties/2}, 10, options\n",
    "        \n",
    "        fit = D.model \"weibull\", pars: parameters\n",
    "        {duration,_} = U.mc(100, fn -> U.forecast(C.ones_fun, size, 0, C.random_fun0(fit)) end)\n",
    "        abs(duration-avg_duration)/duration\n",
    "    end)\n",
    "  [sample_size,avg,sd]\n",
    "end)\n",
    "result |> U.as_table({\"Sample size\",\"Relative error to the mean\",\"Error in the relative error\"})\n",
    ":\"do not show this result in output\""
   ]
  },
  {
   "cell_type": "markdown",
   "metadata": {},
   "source": [
    "The relative errors seen here are comparable to the errors shown in earlier sections."
   ]
  },
  {
   "cell_type": "markdown",
   "metadata": {},
   "source": [
    "## Example: forecast using empirical data (100 data points)"
   ]
  },
  {
   "cell_type": "markdown",
   "metadata": {},
   "source": [
    "Using the histogram data for the throughput we perform a Monte Carlo simulation to get an estimation for the number of iterations needed to deplete the backlog. Since for a large enough number of samples results of a Monte Carlo simulation approximate the normal distribution. This provides a range for the uncertainty of the number of iterations. We express this as a probability using percentages."
   ]
  },
  {
   "cell_type": "code",
   "execution_count": 42,
   "metadata": {},
   "outputs": [],
   "source": [
    "data = 1..100 |> Enum.map(C.random_fun1(f))\n",
    "{avg,_,all} = U.mc iterations, fn -> U.forecast(C.ones_fun, size, 0, fn -> Enum.random(data) end) end, collect_all?: true\n",
    ":\"do not show this result in output\""
   ]
  },
  {
   "cell_type": "markdown",
   "metadata": {},
   "source": [
    "The interpretation is that in 50% of the (simulation) runs all items have been completed with 20 iterations. And in 84% of the runs this took 22 iterations. We expect that in 16% of the times it will take more than 22 iterations to complete all items."
   ]
  },
  {
   "cell_type": "code",
   "execution_count": 43,
   "metadata": {
    "scrolled": false
   },
   "outputs": [
    {
     "data": {
      "image/png": "[encoded data removed]"
     },
     "metadata": {},
     "output_type": "display_data"
    }
   ],
   "source": [
    "P.histogram(all,\n",
    "    plottitle: \"Monte Carlo result for duration\",\n",
    "    xlabel: \"Duration\",\n",
    "    ylabel: \"Frequency\")\n",
    ":\"this is an inline image\""
   ]
  },
  {
   "cell_type": "markdown",
   "metadata": {},
   "source": [
    "## References"
   ]
  },
  {
   "cell_type": "markdown",
   "metadata": {},
   "source": [
    "[1] _Poisson distribution_, https://en.wikipedia.org/wiki/Poisson_distribution/<br>\n",
    "[2] _Chi2Fit_, Pieter Rijken, 2018, https://hex.pm/packages/chi2fit<br>\n",
    "[3] _Asymmetric errors_, Roger Barlow, Manchester University, UK and Stanford University, USA, PHYSTAT2003, SLAC, Stanford, California, September 8-11, 2003, https://www.slac.stanford.edu/econf/C030908/papers/WEMT002.pdf<br>\n",
    "[4] _Efficient use of Monte Carlo: uncertainty propagation_, D. Rochman et. al., Nuclear Science and Engineering, 2013, ftp://ftp.nrg.eu/pub/www/talys/bib_rochman/fastTMC.pdf<br>\n",
    "[5] _Kanban Maturity Model_, David J Andersen & Teodora Bozheva, Edition 1.2"
   ]
  }
 ],
 "metadata": {
  "kernelspec": {
   "display_name": "Elixir",
   "language": "Elixir",
   "name": "ielixir"
  },
  "language_info": {
   "codemirror_mode": "elixir",
   "file_extension": "ex",
   "mimetype": "text/x-elixir",
   "name": "elixir",
   "nbconvert_exporter": "",
   "pygments_lexer": "elixir",
   "version": "1.6.6"
  }
 },
 "nbformat": 4,
 "nbformat_minor": 2
}
