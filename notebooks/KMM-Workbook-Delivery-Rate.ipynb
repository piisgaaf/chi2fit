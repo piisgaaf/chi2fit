{
 "cells": [
  {
   "cell_type": "markdown",
   "metadata": {},
   "source": [
    "# Poisson distributions"
   ]
  },
  {
   "cell_type": "markdown",
   "metadata": {},
   "source": [
    "Fitting data to known distributions use is done using [Chi2Fit](https://hex.pm/packages/chi2fit).\n",
    "\n",
    "This notebook is a companion to Appendix C of [5] (Second edition of the Kanban Maturity Model)."
   ]
  },
  {
   "cell_type": "markdown",
   "metadata": {},
   "source": [
    "## Set-up"
   ]
  },
  {
   "cell_type": "code",
   "execution_count": 1,
   "metadata": {},
   "outputs": [
    {
     "data": {
      "text/plain": [
       "Exboost.Math"
      ]
     },
     "execution_count": 1,
     "metadata": {},
     "output_type": "execute_result"
    }
   ],
   "source": [
    "alias Chi2fit.Distribution, as: D\n",
    "alias Chi2fit.Fit, as: F\n",
    "alias Chi2fit.Matrix, as: M\n",
    "alias Chi2fit.Utilities, as: U\n",
    "alias Gnuplotlib, as: P\n",
    "alias Exboost.Math"
   ]
  },
  {
   "cell_type": "markdown",
   "metadata": {},
   "source": [
    "### Global parameters"
   ]
  },
  {
   "cell_type": "code",
   "execution_count": 2,
   "metadata": {},
   "outputs": [
    {
     "data": {
      "text/plain": [
       "[{0.5, 10}]"
      ]
     },
     "execution_count": 2,
     "metadata": {},
     "output_type": "execute_result"
    }
   ],
   "source": [
    "# The size of the backlog, e.g. 50 backlog items\n",
    "size = 50\n",
    "\n",
    "# Number of iterations to use in the Monte Carlo\n",
    "iterations = 1000\n",
    "\n",
    "# Number of bootstraps to use\n",
    "bootstraps = 100\n",
    "\n",
    "# The size of bins for grouping the data\n",
    "binsize = 4\n",
    "\n",
    "# Number of probes to use in the chi2 fit\n",
    "probes = 10_000\n",
    "\n",
    "# The range of the parameter to look for a (global) minimum\n",
    "initial = [{0.5,10}]"
   ]
  },
  {
   "cell_type": "code",
   "execution_count": 3,
   "metadata": {},
   "outputs": [
    {
     "data": {
      "text/plain": [
       "Current"
      ]
     },
     "execution_count": 3,
     "metadata": {},
     "output_type": "execute_result"
    }
   ],
   "source": [
    "Code.compiler_options(ignore_module_conflict: true)\n",
    "defmodule Current do\n",
    "  def random_fun1(model), do: fn _ -> Distribution.random(model) end\n",
    "  def random_fun0(model), do: fn -> Distribution.random(model) end\n",
    "  def ones_fun, do: fn -> 1 end\n",
    "end\n",
    "alias Current, as: C"
   ]
  },
  {
   "cell_type": "markdown",
   "metadata": {},
   "source": [
    "## Poisson: how bad is the mean?"
   ]
  },
  {
   "cell_type": "markdown",
   "metadata": {},
   "source": [
    "See [5] page 399 figure C.16. We start with a sub-exponential Weibull distribution with kappa=0.8."
   ]
  },
  {
   "cell_type": "code",
   "execution_count": 4,
   "metadata": {},
   "outputs": [
    {
     "data": {
      "text/plain": [
       "23.0"
      ]
     },
     "execution_count": 4,
     "metadata": {},
     "output_type": "execute_result"
    }
   ],
   "source": [
    "# Say, the rate is 23 items per 2 weeks (=10 working days)\n",
    "rate = 23/10.0\n",
    "period = 10.0\n",
    "lambda = rate*period"
   ]
  },
  {
   "cell_type": "code",
   "execution_count": 5,
   "metadata": {},
   "outputs": [
    {
     "data": {
      "text/plain": [
       "#Poisson<\"rate=2.3\">"
      ]
     },
     "execution_count": 5,
     "metadata": {},
     "output_type": "execute_result"
    }
   ],
   "source": [
    "f = D.model {\"poisson\",period}, pars: [rate]"
   ]
  },
  {
   "cell_type": "code",
   "execution_count": 6,
   "metadata": {},
   "outputs": [
    {
     "name": "stdout",
     "output_type": "stream",
     "text": [
      "Average\t\t= 23.0\n",
      "sqrt(Var)\t= 4.795831523312719\n",
      "Median\t\t= 23.0\n",
      "Mode\t\t= 22.0\n"
     ]
    },
    {
     "data": {
      "text/plain": [
       ":ok"
      ]
     },
     "execution_count": 6,
     "metadata": {},
     "output_type": "execute_result"
    }
   ],
   "source": [
    "# See https://en.wikipedia.org/wiki/Poisson_distribution\n",
    "IO.puts \"Average\\t\\t= #{lambda}\"\n",
    "IO.puts \"sqrt(Var)\\t= #{:math.sqrt(lambda)}\"\n",
    "IO.puts \"Median\\t\\t= #{:math.floor(lambda+1/3-0.02/lambda)}\"\n",
    "IO.puts \"Mode\\t\\t= #{:math.ceil(lambda-1)}\""
   ]
  },
  {
   "cell_type": "markdown",
   "metadata": {},
   "source": [
    "Such a distribution typically looks like:"
   ]
  },
  {
   "cell_type": "code",
   "execution_count": 7,
   "metadata": {},
   "outputs": [
    {
     "data": {
      "image/png": "[encoded data removed]"
     },
     "metadata": {},
     "output_type": "display_data"
    }
   ],
   "source": [
    "Gnuplot.plot([\n",
    "    ~w(set terminal pngcairo size 800,400)a,\n",
    "    ~w(set output)a,\n",
    "    ~w|set xlabel \"Lead\\u00a0time\\u00a0(days)\"|a,\n",
    "    ~w(set ylabel rotate by 90 \"Probability\\u00a0density\")a,\n",
    "    ~w(set title 'Probability\\u00a0Density\\u00a0Function\\u00a0-\\u00a0Poisson\\u00a0(rate=#{rate}\\)')a,\n",
    "    ~w(set xrange [1:60])a,\n",
    "    ~w(plot '-' u 1:2 w lines ls 3 title 'Poisson')a\n",
    "  ],\n",
    "  [ 1..100 |> Enum.map(& [&1/100*60,Distribution.pdf(f).(&1/100*60)]) ])\n",
    "Gnuplotlib.capture() |> Base.encode64 |> IO.write\n",
    ":\"this is an inline image\""
   ]
  },
  {
   "cell_type": "markdown",
   "metadata": {},
   "source": [
    "### Generate sample data\n",
    "In this section we recreate the information and conclusions from Figure C.16 in [5].\n",
    "\n",
    "We define a set of sample sizes ranging between 10 en 10000:"
   ]
  },
  {
   "cell_type": "code",
   "execution_count": 8,
   "metadata": {},
   "outputs": [
    {
     "data": {
      "text/plain": [
       "[5, 10, 20, 30, 40, 50, 60, 70, 80, 90, 100, 200, 300, 400, 500, 1000, 1500, 2000, 2500, 3000, 5000, 10000]"
      ]
     },
     "execution_count": 8,
     "metadata": {},
     "output_type": "execute_result"
    }
   ],
   "source": [
    "sample_sizes = [5,10,20,30,40,50,60,70,80,90,100,200,300,400,500,1_000,1_500,2_000,2_500,3_000,5_000,10_000]"
   ]
  },
  {
   "cell_type": "markdown",
   "metadata": {},
   "source": [
    "For each of the sizes above data samples are generated and calculate how the sample's mean deviates from the known mean calculated directly from the properties of the Weibull distribution."
   ]
  },
  {
   "cell_type": "code",
   "execution_count": 9,
   "metadata": {
    "scrolled": false
   },
   "outputs": [
    {
     "name": "stdout",
     "output_type": "stream",
     "text": [
      "Sample size|Relative error to the mean|Error in the relative error\n",
      "-----------|--------------------------|---------------------------\n",
      "5          |0.06490849896222019       |0.05008327921476777        \n",
      "10         |0.05427653370825177       |0.03458512457313061        \n",
      "20         |0.03412867731920129       |0.02800994266076435        \n",
      "30         |0.027441819714943735      |0.021964406810916534       \n",
      "40         |0.026547067771071395      |0.018003592145536953       \n",
      "50         |0.024234063198393288      |0.01992022364913157        \n",
      "60         |0.022993286231392122      |0.01648295665709258        \n",
      "70         |0.020107306519018705      |0.016023706939983808       \n",
      "80         |0.018709811725627957      |0.011951542254865135       \n",
      "90         |0.016667637345733805      |0.012500604916705177       \n",
      "100        |0.016649546773467347      |0.012326987849513912       \n",
      "200        |0.010327017598102332      |0.0085767992666294         \n",
      "300        |0.008256365576049711      |0.006188242881216591       \n",
      "400        |0.008908230343271241      |0.006361227151010538       \n",
      "500        |0.007654746173342194      |0.005158588408870385       \n",
      "1000       |0.005027401187882705      |0.003855115254526796       \n",
      "1500       |0.004503326223828185      |0.0034136694650949108      \n",
      "2000       |0.0035702411553049673     |0.002621138703498239       \n",
      "2500       |0.0034543034634382987     |0.0022138650610937023      \n",
      "3000       |0.0030848445961894596     |0.002769276727932766       \n",
      "5000       |0.0023549136055203736     |0.0016945595630939228      \n",
      "10000      |0.0019176293814149059     |0.0014255881961394833      \n"
     ]
    }
   ],
   "source": [
    "avg_expected = lambda\n",
    "result = sample_sizes |> Enum.map(fn sample_size ->\n",
    "  {avg,sd} = U.mc(100, fn ->\n",
    "        data = 1..sample_size |> Enum.map(C.random_fun1(f))\n",
    "        mean = U.moment(data,1)\n",
    "        abs(mean-avg_expected)/mean\n",
    "    end)\n",
    "  [sample_size,avg,sd]\n",
    "end)\n",
    "result |> U.as_table({\"Sample size\",\"Relative error to the mean\",\"Error in the relative error\"})\n",
    ":\"do not show this result in output\""
   ]
  },
  {
   "cell_type": "code",
   "execution_count": 10,
   "metadata": {
    "scrolled": false
   },
   "outputs": [
    {
     "data": {
      "image/png": "[encoded data removed]"
     },
     "metadata": {},
     "output_type": "display_data"
    }
   ],
   "source": [
    "Gnuplot.plot([\n",
    "    ~w(set terminal pngcairo size 800,400)a,\n",
    "    ~w(set output)a,\n",
    "    ~w(set xrange [1:12000])a,\n",
    "    ~w(set logscale x 10)a,\n",
    "    ~w(plot '-' u 1:2:3 w yerrorbars notitle)a\n",
    "  ],\n",
    "  [result])\n",
    "Gnuplotlib.capture() |> Base.encode64 |> IO.write\n",
    ":\"this is an inline image\""
   ]
  },
  {
   "cell_type": "code",
   "execution_count": 12,
   "metadata": {
    "scrolled": false
   },
   "outputs": [
    {
     "name": "stdout",
     "output_type": "stream",
     "text": [
      "Sample size|Relative error to the SD|Error in the relative error\n",
      "-----------|------------------------|---------------------------\n",
      "5          |0.5347038554404296      |0.6792814116296072         \n",
      "10         |0.20889762895955602     |0.2529071830125322         \n",
      "20         |0.18001696057301936     |0.14572724888165217        \n",
      "30         |0.1263195882387932      |0.12503600031284656        \n",
      "40         |0.09794760377459615     |0.08878334989559641        \n",
      "50         |0.08866548198647653     |0.06608929082197805        \n",
      "60         |0.07668700225982286     |0.0577399200820529         \n",
      "70         |0.06774421125860347     |0.05520357736447067        \n",
      "80         |0.0678030181223226      |0.05520044334325127        \n",
      "90         |0.06913331093124939     |0.051390723525292684       \n",
      "100        |0.055071053454218796    |0.04948245671191612        \n",
      "200        |0.037099786802232915    |0.026530672378050686       \n",
      "300        |0.03204524041895837     |0.0233214553861428         \n",
      "400        |0.026948785853274235    |0.02393954090354579        \n",
      "500        |0.0295998030399672      |0.018074259096980478       \n",
      "1000       |0.018496478911157452    |0.012921125705984797       \n",
      "1500       |0.013271306042904654    |0.009416189332521918       \n",
      "2000       |0.012513331099649118    |0.009383236202709717       \n",
      "2500       |0.01118678560249655     |0.00856652388687027        \n",
      "3000       |0.009911243266716446    |0.008394844703077428       \n",
      "5000       |0.007835307019132832    |0.00577447383723172        \n",
      "10000      |0.005734457480669928    |0.0038768886481861833      \n"
     ]
    }
   ],
   "source": [
    "sd_expected = :math.sqrt(lambda)\n",
    "result = sample_sizes |> Enum.map(fn sample_size ->\n",
    "  {avg,sd} = U.mc(100, fn ->\n",
    "        data = 1..sample_size |> Enum.map(C.random_fun1(f))\n",
    "        mean = U.moment(data,1)\n",
    "        std = :math.sqrt U.momentc(data,2,mean)\n",
    "        abs(std-sd_expected)/std\n",
    "    end)\n",
    "  [sample_size,avg,sd]\n",
    "end)\n",
    "result |> U.as_table({\"Sample size\",\"Relative error to the SD\",\"Error in the relative error\"})\n",
    ":\"do not show this result in output\""
   ]
  },
  {
   "cell_type": "code",
   "execution_count": 13,
   "metadata": {
    "scrolled": false
   },
   "outputs": [
    {
     "data": {
      "image/png": "[encoded data removed]"
     },
     "metadata": {},
     "output_type": "display_data"
    }
   ],
   "source": [
    "Gnuplot.plot([\n",
    "    ~w(set terminal pngcairo size 800,400)a,\n",
    "    ~w(set output)a,\n",
    "    ~w(set xrange [1:12000])a,\n",
    "    ~w(set logscale x 10)a,\n",
    "    ~w(plot '-' u 1:2:3 w yerrorbars notitle)a\n",
    "  ],\n",
    "  [result])\n",
    "Gnuplotlib.capture() |> Base.encode64 |> IO.write\n",
    ":\"this is an inline image\""
   ]
  },
  {
   "cell_type": "markdown",
   "metadata": {},
   "source": [
    "The graph clearly shows a relative error from the mean less than 10% only when 100 or more data points are used. A relative error less than 5% is achieved for 500 or more data points."
   ]
  },
  {
   "cell_type": "markdown",
   "metadata": {},
   "source": [
    "Another thing to notice are the large error bars for small data samples. For a data sample of 10, the relative error from thee real mean can be anything between 0% and 80%!"
   ]
  },
  {
   "cell_type": "markdown",
   "metadata": {},
   "source": [
    "### Forecast using a dataset"
   ]
  },
  {
   "cell_type": "code",
   "execution_count": 32,
   "metadata": {
    "scrolled": false
   },
   "outputs": [
    {
     "name": "stdout",
     "output_type": "stream",
     "text": [
      "Average project duration\t= 217.753\n",
      "Relative error\t\t\t= 0.014268860687002083\n"
     ]
    },
    {
     "data": {
      "text/plain": [
       ":ok"
      ]
     },
     "execution_count": 32,
     "metadata": {},
     "output_type": "execute_result"
    }
   ],
   "source": [
    "{avg_duration,sd_duration,all} = U.mc(iterations, U.forecast_duration(C.random_fun0(f),5000), collect_all?: true)\n",
    "IO.puts \"Average project duration\\t= #{avg_duration}\"\n",
    "IO.puts \"Relative error\\t\\t\\t= #{sd_duration/avg_duration}\""
   ]
  },
  {
   "cell_type": "code",
   "execution_count": 33,
   "metadata": {},
   "outputs": [
    {
     "data": {
      "image/png": "[encoded data removed]"
     },
     "metadata": {},
     "output_type": "display_data"
    }
   ],
   "source": [
    "P.histogram(all,\n",
    "    plottitle: \"Monte Carlo result for duration\",\n",
    "    xlabel: \"Duration\",\n",
    "    ylabel: \"Frequency\")\n",
    ":\"this is an inline image\""
   ]
  },
  {
   "cell_type": "code",
   "execution_count": 34,
   "metadata": {},
   "outputs": [
    {
     "name": "stdout",
     "output_type": "stream",
     "text": [
      "Sample size|Relative error to the mean|Error in the relative error\n",
      "-----------|--------------------------|---------------------------\n",
      "20         |0.03619082817548668       |0.027946139304744974       \n",
      "100        |0.017924781625045683      |0.012024914959431608       \n"
     ]
    }
   ],
   "source": [
    "result = [20,100] |> Enum.map(fn sample_size ->\n",
    "  {avg,sd} = U.mc(100, fn ->\n",
    "        data = 1..sample_size |> Enum.map(C.random_fun1(f))\n",
    "        {mean,_} = U.mc(100, U.forecast_duration(data,5000))\n",
    "        abs(mean-avg_duration)/mean\n",
    "    end)\n",
    "  [sample_size,avg,sd]\n",
    "end)\n",
    "result |> U.as_table({\"Sample size\",\"Relative error to the mean\",\"Error in the relative error\"})\n",
    ":\"do not show this result in output\""
   ]
  },
  {
   "cell_type": "markdown",
   "metadata": {},
   "source": [
    "### Forecast based on Poisson fit "
   ]
  },
  {
   "cell_type": "code",
   "execution_count": 35,
   "metadata": {
    "scrolled": false
   },
   "outputs": [
    {
     "name": "stdout",
     "output_type": "stream",
     "text": [
      "Sample size|Relative error to the mean|Error in the relative error\n",
      "-----------|--------------------------|---------------------------\n",
      "20         |0.03886685247654866       |0.027977221907309096       \n",
      "100        |0.01607900798284715       |0.01260392783015293        \n"
     ]
    }
   ],
   "source": [
    "result = [20,100] |> Enum.map(fn sample_size ->\n",
    "  {avg,sd} = U.mc(100, fn ->\n",
    "        data = 1..sample_size |> Enum.map(C.random_fun1(f))\n",
    "        hdata = U.to_bins data, {binsize,0}\n",
    "        \n",
    "        model = D.model {\"poisson\",period}\n",
    "        \n",
    "        options = [probes: probes, smoothing: false, model: :linear, saved?: true]\n",
    "        result = {_,parameters,_,saved} = F.chi2probe hdata, initial, {Distribution.cdf(model), &F.nopenalties/2}, options\n",
    "        \n",
    "        options = [{:probes,saved}|options]\n",
    "        result = {_,cov,parameters,_} = F.chi2fit hdata, {parameters, Distribution.cdf(model), &F.nopenalties/2}, 10, options\n",
    "        \n",
    "        fit = D.model {\"poisson\",period}, pars: parameters\n",
    "        {duration,_} = U.mc(100, U.forecast_duration(C.random_fun0(fit),5000))\n",
    "        abs(duration-avg_duration)/duration\n",
    "    end)\n",
    "  [sample_size,avg,sd]\n",
    "end)\n",
    "result |> U.as_table({\"Sample size\",\"Relative error to the mean\",\"Error in the relative error\"})\n",
    ":\"do not show this result in output\""
   ]
  },
  {
   "cell_type": "markdown",
   "metadata": {},
   "source": [
    "The relative errors seen here are comparable to the errors shown in earlier sections."
   ]
  },
  {
   "cell_type": "markdown",
   "metadata": {},
   "source": [
    "## Example: forecast using empirical data (100 data points)"
   ]
  },
  {
   "cell_type": "markdown",
   "metadata": {},
   "source": [
    "Using the histogram data for the throughput we perform a Monte Carlo simulation to get an estimation for the number of iterations needed to deplete the backlog. Since for a large enough number of samples results of a Monte Carlo simulation approximate the normal distribution. This provides a range for the uncertainty of the number of iterations. We express this as a probability using percentages."
   ]
  },
  {
   "cell_type": "code",
   "execution_count": 36,
   "metadata": {},
   "outputs": [],
   "source": [
    "data = 1..100 |> Enum.map(C.random_fun1(f))\n",
    "{avg,_,all} = U.mc iterations, U.forecast_duration(data,5000), collect_all?: true\n",
    ":\"do not show this result in output\""
   ]
  },
  {
   "cell_type": "markdown",
   "metadata": {},
   "source": [
    "The interpretation is that in 50% of the (simulation) runs all items have been completed with 20 iterations. And in 84% of the runs this took 22 iterations. We expect that in 16% of the times it will take more than 22 iterations to complete all items."
   ]
  },
  {
   "cell_type": "code",
   "execution_count": 37,
   "metadata": {
    "scrolled": false
   },
   "outputs": [
    {
     "data": {
      "image/png": "[encoded data removed]"
     },
     "metadata": {},
     "output_type": "display_data"
    }
   ],
   "source": [
    "P.histogram(all,\n",
    "    plottitle: \"Monte Carlo result for duration\",\n",
    "    xlabel: \"Duration\",\n",
    "    ylabel: \"Frequency\")\n",
    ":\"this is an inline image\""
   ]
  },
  {
   "cell_type": "markdown",
   "metadata": {},
   "source": [
    "## References"
   ]
  },
  {
   "cell_type": "markdown",
   "metadata": {},
   "source": [
    "[1] _Poisson distribution_, https://en.wikipedia.org/wiki/Poisson_distribution/<br>\n",
    "[2] _Chi2Fit_, Pieter Rijken, 2018, https://hex.pm/packages/chi2fit<br>\n",
    "[3] _Asymmetric errors_, Roger Barlow, Manchester University, UK and Stanford University, USA, PHYSTAT2003, SLAC, Stanford, California, September 8-11, 2003, https://www.slac.stanford.edu/econf/C030908/papers/WEMT002.pdf<br>\n",
    "[4] _Efficient use of Monte Carlo: uncertainty propagation_, D. Rochman et. al., Nuclear Science and Engineering, 2013, ftp://ftp.nrg.eu/pub/www/talys/bib_rochman/fastTMC.pdf<br>\n",
    "[5] _Kanban Maturity Model_, David J Andersen & Teodora Bozheva, Edition 1.2"
   ]
  }
 ],
 "metadata": {
  "kernelspec": {
   "display_name": "Elixir",
   "language": "Elixir",
   "name": "ielixir"
  },
  "language_info": {
   "codemirror_mode": "elixir",
   "file_extension": "ex",
   "mimetype": "text/x-elixir",
   "name": "elixir",
   "nbconvert_exporter": "",
   "pygments_lexer": "elixir",
   "version": "1.6.6"
  }
 },
 "nbformat": 4,
 "nbformat_minor": 2
}
